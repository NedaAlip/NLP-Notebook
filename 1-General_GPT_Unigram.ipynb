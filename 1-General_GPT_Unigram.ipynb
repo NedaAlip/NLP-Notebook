{
  "nbformat": 4,
  "nbformat_minor": 0,
  "metadata": {
    "colab": {
      "provenance": [],
      "gpuType": "T4"
    },
    "kernelspec": {
      "name": "python3",
      "display_name": "Python 3"
    },
    "language_info": {
      "name": "python"
    },
    "accelerator": "GPU",
    "widgets": {
      "application/vnd.jupyter.widget-state+json": {
        "6d8dc34e10c04c5eb95005cd6826e62d": {
          "model_module": "@jupyter-widgets/controls",
          "model_name": "HBoxModel",
          "model_module_version": "1.5.0",
          "state": {
            "_dom_classes": [],
            "_model_module": "@jupyter-widgets/controls",
            "_model_module_version": "1.5.0",
            "_model_name": "HBoxModel",
            "_view_count": null,
            "_view_module": "@jupyter-widgets/controls",
            "_view_module_version": "1.5.0",
            "_view_name": "HBoxView",
            "box_style": "",
            "children": [
              "IPY_MODEL_f1158d85ed3d406388f82aa6b04f6147",
              "IPY_MODEL_a30f17ded1a44116becf4a7827c67a47",
              "IPY_MODEL_cbaa6245f530476ab8c77be86cdfccc9"
            ],
            "layout": "IPY_MODEL_8bca196b6afd4d2cadf58d50a1254c62"
          }
        },
        "f1158d85ed3d406388f82aa6b04f6147": {
          "model_module": "@jupyter-widgets/controls",
          "model_name": "HTMLModel",
          "model_module_version": "1.5.0",
          "state": {
            "_dom_classes": [],
            "_model_module": "@jupyter-widgets/controls",
            "_model_module_version": "1.5.0",
            "_model_name": "HTMLModel",
            "_view_count": null,
            "_view_module": "@jupyter-widgets/controls",
            "_view_module_version": "1.5.0",
            "_view_name": "HTMLView",
            "description": "",
            "description_tooltip": null,
            "layout": "IPY_MODEL_51cb5e174fb04838ab7abcc4b2835035",
            "placeholder": "​",
            "style": "IPY_MODEL_ae592ac7c4b84ae7ae187b17a84bce65",
            "value": "README.md: "
          }
        },
        "a30f17ded1a44116becf4a7827c67a47": {
          "model_module": "@jupyter-widgets/controls",
          "model_name": "FloatProgressModel",
          "model_module_version": "1.5.0",
          "state": {
            "_dom_classes": [],
            "_model_module": "@jupyter-widgets/controls",
            "_model_module_version": "1.5.0",
            "_model_name": "FloatProgressModel",
            "_view_count": null,
            "_view_module": "@jupyter-widgets/controls",
            "_view_module_version": "1.5.0",
            "_view_name": "ProgressView",
            "bar_style": "success",
            "description": "",
            "description_tooltip": null,
            "layout": "IPY_MODEL_ee157691b77d4ec79391bd155646c9fa",
            "max": 1,
            "min": 0,
            "orientation": "horizontal",
            "style": "IPY_MODEL_32ef1302b50c48ae9ec0ce64d08f0740",
            "value": 1
          }
        },
        "cbaa6245f530476ab8c77be86cdfccc9": {
          "model_module": "@jupyter-widgets/controls",
          "model_name": "HTMLModel",
          "model_module_version": "1.5.0",
          "state": {
            "_dom_classes": [],
            "_model_module": "@jupyter-widgets/controls",
            "_model_module_version": "1.5.0",
            "_model_name": "HTMLModel",
            "_view_count": null,
            "_view_module": "@jupyter-widgets/controls",
            "_view_module_version": "1.5.0",
            "_view_name": "HTMLView",
            "description": "",
            "description_tooltip": null,
            "layout": "IPY_MODEL_35c82de843b5497b8861408675c8b592",
            "placeholder": "​",
            "style": "IPY_MODEL_65bfe44e4aab4d6a87766025b602c4f4",
            "value": " 1.06k/? [00:00&lt;00:00, 88.4kB/s]"
          }
        },
        "8bca196b6afd4d2cadf58d50a1254c62": {
          "model_module": "@jupyter-widgets/base",
          "model_name": "LayoutModel",
          "model_module_version": "1.2.0",
          "state": {
            "_model_module": "@jupyter-widgets/base",
            "_model_module_version": "1.2.0",
            "_model_name": "LayoutModel",
            "_view_count": null,
            "_view_module": "@jupyter-widgets/base",
            "_view_module_version": "1.2.0",
            "_view_name": "LayoutView",
            "align_content": null,
            "align_items": null,
            "align_self": null,
            "border": null,
            "bottom": null,
            "display": null,
            "flex": null,
            "flex_flow": null,
            "grid_area": null,
            "grid_auto_columns": null,
            "grid_auto_flow": null,
            "grid_auto_rows": null,
            "grid_column": null,
            "grid_gap": null,
            "grid_row": null,
            "grid_template_areas": null,
            "grid_template_columns": null,
            "grid_template_rows": null,
            "height": null,
            "justify_content": null,
            "justify_items": null,
            "left": null,
            "margin": null,
            "max_height": null,
            "max_width": null,
            "min_height": null,
            "min_width": null,
            "object_fit": null,
            "object_position": null,
            "order": null,
            "overflow": null,
            "overflow_x": null,
            "overflow_y": null,
            "padding": null,
            "right": null,
            "top": null,
            "visibility": null,
            "width": null
          }
        },
        "51cb5e174fb04838ab7abcc4b2835035": {
          "model_module": "@jupyter-widgets/base",
          "model_name": "LayoutModel",
          "model_module_version": "1.2.0",
          "state": {
            "_model_module": "@jupyter-widgets/base",
            "_model_module_version": "1.2.0",
            "_model_name": "LayoutModel",
            "_view_count": null,
            "_view_module": "@jupyter-widgets/base",
            "_view_module_version": "1.2.0",
            "_view_name": "LayoutView",
            "align_content": null,
            "align_items": null,
            "align_self": null,
            "border": null,
            "bottom": null,
            "display": null,
            "flex": null,
            "flex_flow": null,
            "grid_area": null,
            "grid_auto_columns": null,
            "grid_auto_flow": null,
            "grid_auto_rows": null,
            "grid_column": null,
            "grid_gap": null,
            "grid_row": null,
            "grid_template_areas": null,
            "grid_template_columns": null,
            "grid_template_rows": null,
            "height": null,
            "justify_content": null,
            "justify_items": null,
            "left": null,
            "margin": null,
            "max_height": null,
            "max_width": null,
            "min_height": null,
            "min_width": null,
            "object_fit": null,
            "object_position": null,
            "order": null,
            "overflow": null,
            "overflow_x": null,
            "overflow_y": null,
            "padding": null,
            "right": null,
            "top": null,
            "visibility": null,
            "width": null
          }
        },
        "ae592ac7c4b84ae7ae187b17a84bce65": {
          "model_module": "@jupyter-widgets/controls",
          "model_name": "DescriptionStyleModel",
          "model_module_version": "1.5.0",
          "state": {
            "_model_module": "@jupyter-widgets/controls",
            "_model_module_version": "1.5.0",
            "_model_name": "DescriptionStyleModel",
            "_view_count": null,
            "_view_module": "@jupyter-widgets/base",
            "_view_module_version": "1.2.0",
            "_view_name": "StyleView",
            "description_width": ""
          }
        },
        "ee157691b77d4ec79391bd155646c9fa": {
          "model_module": "@jupyter-widgets/base",
          "model_name": "LayoutModel",
          "model_module_version": "1.2.0",
          "state": {
            "_model_module": "@jupyter-widgets/base",
            "_model_module_version": "1.2.0",
            "_model_name": "LayoutModel",
            "_view_count": null,
            "_view_module": "@jupyter-widgets/base",
            "_view_module_version": "1.2.0",
            "_view_name": "LayoutView",
            "align_content": null,
            "align_items": null,
            "align_self": null,
            "border": null,
            "bottom": null,
            "display": null,
            "flex": null,
            "flex_flow": null,
            "grid_area": null,
            "grid_auto_columns": null,
            "grid_auto_flow": null,
            "grid_auto_rows": null,
            "grid_column": null,
            "grid_gap": null,
            "grid_row": null,
            "grid_template_areas": null,
            "grid_template_columns": null,
            "grid_template_rows": null,
            "height": null,
            "justify_content": null,
            "justify_items": null,
            "left": null,
            "margin": null,
            "max_height": null,
            "max_width": null,
            "min_height": null,
            "min_width": null,
            "object_fit": null,
            "object_position": null,
            "order": null,
            "overflow": null,
            "overflow_x": null,
            "overflow_y": null,
            "padding": null,
            "right": null,
            "top": null,
            "visibility": null,
            "width": "20px"
          }
        },
        "32ef1302b50c48ae9ec0ce64d08f0740": {
          "model_module": "@jupyter-widgets/controls",
          "model_name": "ProgressStyleModel",
          "model_module_version": "1.5.0",
          "state": {
            "_model_module": "@jupyter-widgets/controls",
            "_model_module_version": "1.5.0",
            "_model_name": "ProgressStyleModel",
            "_view_count": null,
            "_view_module": "@jupyter-widgets/base",
            "_view_module_version": "1.2.0",
            "_view_name": "StyleView",
            "bar_color": null,
            "description_width": ""
          }
        },
        "35c82de843b5497b8861408675c8b592": {
          "model_module": "@jupyter-widgets/base",
          "model_name": "LayoutModel",
          "model_module_version": "1.2.0",
          "state": {
            "_model_module": "@jupyter-widgets/base",
            "_model_module_version": "1.2.0",
            "_model_name": "LayoutModel",
            "_view_count": null,
            "_view_module": "@jupyter-widgets/base",
            "_view_module_version": "1.2.0",
            "_view_name": "LayoutView",
            "align_content": null,
            "align_items": null,
            "align_self": null,
            "border": null,
            "bottom": null,
            "display": null,
            "flex": null,
            "flex_flow": null,
            "grid_area": null,
            "grid_auto_columns": null,
            "grid_auto_flow": null,
            "grid_auto_rows": null,
            "grid_column": null,
            "grid_gap": null,
            "grid_row": null,
            "grid_template_areas": null,
            "grid_template_columns": null,
            "grid_template_rows": null,
            "height": null,
            "justify_content": null,
            "justify_items": null,
            "left": null,
            "margin": null,
            "max_height": null,
            "max_width": null,
            "min_height": null,
            "min_width": null,
            "object_fit": null,
            "object_position": null,
            "order": null,
            "overflow": null,
            "overflow_x": null,
            "overflow_y": null,
            "padding": null,
            "right": null,
            "top": null,
            "visibility": null,
            "width": null
          }
        },
        "65bfe44e4aab4d6a87766025b602c4f4": {
          "model_module": "@jupyter-widgets/controls",
          "model_name": "DescriptionStyleModel",
          "model_module_version": "1.5.0",
          "state": {
            "_model_module": "@jupyter-widgets/controls",
            "_model_module_version": "1.5.0",
            "_model_name": "DescriptionStyleModel",
            "_view_count": null,
            "_view_module": "@jupyter-widgets/base",
            "_view_module_version": "1.2.0",
            "_view_name": "StyleView",
            "description_width": ""
          }
        },
        "9d6cfd720de243248496876393badc92": {
          "model_module": "@jupyter-widgets/controls",
          "model_name": "HBoxModel",
          "model_module_version": "1.5.0",
          "state": {
            "_dom_classes": [],
            "_model_module": "@jupyter-widgets/controls",
            "_model_module_version": "1.5.0",
            "_model_name": "HBoxModel",
            "_view_count": null,
            "_view_module": "@jupyter-widgets/controls",
            "_view_module_version": "1.5.0",
            "_view_name": "HBoxView",
            "box_style": "",
            "children": [
              "IPY_MODEL_e1e71e48dcba4a54a228022c49dc7065",
              "IPY_MODEL_dac38f8bea354872b6d3ac70393e9418",
              "IPY_MODEL_ac674e7020c840f88809b229582fa5ef"
            ],
            "layout": "IPY_MODEL_90c50d4cbafe4f828d2201d493551b37"
          }
        },
        "e1e71e48dcba4a54a228022c49dc7065": {
          "model_module": "@jupyter-widgets/controls",
          "model_name": "HTMLModel",
          "model_module_version": "1.5.0",
          "state": {
            "_dom_classes": [],
            "_model_module": "@jupyter-widgets/controls",
            "_model_module_version": "1.5.0",
            "_model_name": "HTMLModel",
            "_view_count": null,
            "_view_module": "@jupyter-widgets/controls",
            "_view_module_version": "1.5.0",
            "_view_name": "HTMLView",
            "description": "",
            "description_tooltip": null,
            "layout": "IPY_MODEL_07fe0746644d4810b870fe70c1b4ba4a",
            "placeholder": "​",
            "style": "IPY_MODEL_f55e35cc5b134c9f989b7682b35d801c",
            "value": "data/train-00000-of-00004-2d5a1467fff108(…): 100%"
          }
        },
        "dac38f8bea354872b6d3ac70393e9418": {
          "model_module": "@jupyter-widgets/controls",
          "model_name": "FloatProgressModel",
          "model_module_version": "1.5.0",
          "state": {
            "_dom_classes": [],
            "_model_module": "@jupyter-widgets/controls",
            "_model_module_version": "1.5.0",
            "_model_name": "FloatProgressModel",
            "_view_count": null,
            "_view_module": "@jupyter-widgets/controls",
            "_view_module_version": "1.5.0",
            "_view_name": "ProgressView",
            "bar_style": "success",
            "description": "",
            "description_tooltip": null,
            "layout": "IPY_MODEL_bfe32d6c86e9412a82905006028a83d9",
            "max": 248731111,
            "min": 0,
            "orientation": "horizontal",
            "style": "IPY_MODEL_979f7ba6250244f68384f8dd79f7e3a8",
            "value": 248731111
          }
        },
        "ac674e7020c840f88809b229582fa5ef": {
          "model_module": "@jupyter-widgets/controls",
          "model_name": "HTMLModel",
          "model_module_version": "1.5.0",
          "state": {
            "_dom_classes": [],
            "_model_module": "@jupyter-widgets/controls",
            "_model_module_version": "1.5.0",
            "_model_name": "HTMLModel",
            "_view_count": null,
            "_view_module": "@jupyter-widgets/controls",
            "_view_module_version": "1.5.0",
            "_view_name": "HTMLView",
            "description": "",
            "description_tooltip": null,
            "layout": "IPY_MODEL_7dc69196c8364a979427ecb5029799e0",
            "placeholder": "​",
            "style": "IPY_MODEL_e670cce40dbe4a6fa31cd99505cbe042",
            "value": " 249M/249M [00:04&lt;00:00, 83.5MB/s]"
          }
        },
        "90c50d4cbafe4f828d2201d493551b37": {
          "model_module": "@jupyter-widgets/base",
          "model_name": "LayoutModel",
          "model_module_version": "1.2.0",
          "state": {
            "_model_module": "@jupyter-widgets/base",
            "_model_module_version": "1.2.0",
            "_model_name": "LayoutModel",
            "_view_count": null,
            "_view_module": "@jupyter-widgets/base",
            "_view_module_version": "1.2.0",
            "_view_name": "LayoutView",
            "align_content": null,
            "align_items": null,
            "align_self": null,
            "border": null,
            "bottom": null,
            "display": null,
            "flex": null,
            "flex_flow": null,
            "grid_area": null,
            "grid_auto_columns": null,
            "grid_auto_flow": null,
            "grid_auto_rows": null,
            "grid_column": null,
            "grid_gap": null,
            "grid_row": null,
            "grid_template_areas": null,
            "grid_template_columns": null,
            "grid_template_rows": null,
            "height": null,
            "justify_content": null,
            "justify_items": null,
            "left": null,
            "margin": null,
            "max_height": null,
            "max_width": null,
            "min_height": null,
            "min_width": null,
            "object_fit": null,
            "object_position": null,
            "order": null,
            "overflow": null,
            "overflow_x": null,
            "overflow_y": null,
            "padding": null,
            "right": null,
            "top": null,
            "visibility": null,
            "width": null
          }
        },
        "07fe0746644d4810b870fe70c1b4ba4a": {
          "model_module": "@jupyter-widgets/base",
          "model_name": "LayoutModel",
          "model_module_version": "1.2.0",
          "state": {
            "_model_module": "@jupyter-widgets/base",
            "_model_module_version": "1.2.0",
            "_model_name": "LayoutModel",
            "_view_count": null,
            "_view_module": "@jupyter-widgets/base",
            "_view_module_version": "1.2.0",
            "_view_name": "LayoutView",
            "align_content": null,
            "align_items": null,
            "align_self": null,
            "border": null,
            "bottom": null,
            "display": null,
            "flex": null,
            "flex_flow": null,
            "grid_area": null,
            "grid_auto_columns": null,
            "grid_auto_flow": null,
            "grid_auto_rows": null,
            "grid_column": null,
            "grid_gap": null,
            "grid_row": null,
            "grid_template_areas": null,
            "grid_template_columns": null,
            "grid_template_rows": null,
            "height": null,
            "justify_content": null,
            "justify_items": null,
            "left": null,
            "margin": null,
            "max_height": null,
            "max_width": null,
            "min_height": null,
            "min_width": null,
            "object_fit": null,
            "object_position": null,
            "order": null,
            "overflow": null,
            "overflow_x": null,
            "overflow_y": null,
            "padding": null,
            "right": null,
            "top": null,
            "visibility": null,
            "width": null
          }
        },
        "f55e35cc5b134c9f989b7682b35d801c": {
          "model_module": "@jupyter-widgets/controls",
          "model_name": "DescriptionStyleModel",
          "model_module_version": "1.5.0",
          "state": {
            "_model_module": "@jupyter-widgets/controls",
            "_model_module_version": "1.5.0",
            "_model_name": "DescriptionStyleModel",
            "_view_count": null,
            "_view_module": "@jupyter-widgets/base",
            "_view_module_version": "1.2.0",
            "_view_name": "StyleView",
            "description_width": ""
          }
        },
        "bfe32d6c86e9412a82905006028a83d9": {
          "model_module": "@jupyter-widgets/base",
          "model_name": "LayoutModel",
          "model_module_version": "1.2.0",
          "state": {
            "_model_module": "@jupyter-widgets/base",
            "_model_module_version": "1.2.0",
            "_model_name": "LayoutModel",
            "_view_count": null,
            "_view_module": "@jupyter-widgets/base",
            "_view_module_version": "1.2.0",
            "_view_name": "LayoutView",
            "align_content": null,
            "align_items": null,
            "align_self": null,
            "border": null,
            "bottom": null,
            "display": null,
            "flex": null,
            "flex_flow": null,
            "grid_area": null,
            "grid_auto_columns": null,
            "grid_auto_flow": null,
            "grid_auto_rows": null,
            "grid_column": null,
            "grid_gap": null,
            "grid_row": null,
            "grid_template_areas": null,
            "grid_template_columns": null,
            "grid_template_rows": null,
            "height": null,
            "justify_content": null,
            "justify_items": null,
            "left": null,
            "margin": null,
            "max_height": null,
            "max_width": null,
            "min_height": null,
            "min_width": null,
            "object_fit": null,
            "object_position": null,
            "order": null,
            "overflow": null,
            "overflow_x": null,
            "overflow_y": null,
            "padding": null,
            "right": null,
            "top": null,
            "visibility": null,
            "width": null
          }
        },
        "979f7ba6250244f68384f8dd79f7e3a8": {
          "model_module": "@jupyter-widgets/controls",
          "model_name": "ProgressStyleModel",
          "model_module_version": "1.5.0",
          "state": {
            "_model_module": "@jupyter-widgets/controls",
            "_model_module_version": "1.5.0",
            "_model_name": "ProgressStyleModel",
            "_view_count": null,
            "_view_module": "@jupyter-widgets/base",
            "_view_module_version": "1.2.0",
            "_view_name": "StyleView",
            "bar_color": null,
            "description_width": ""
          }
        },
        "7dc69196c8364a979427ecb5029799e0": {
          "model_module": "@jupyter-widgets/base",
          "model_name": "LayoutModel",
          "model_module_version": "1.2.0",
          "state": {
            "_model_module": "@jupyter-widgets/base",
            "_model_module_version": "1.2.0",
            "_model_name": "LayoutModel",
            "_view_count": null,
            "_view_module": "@jupyter-widgets/base",
            "_view_module_version": "1.2.0",
            "_view_name": "LayoutView",
            "align_content": null,
            "align_items": null,
            "align_self": null,
            "border": null,
            "bottom": null,
            "display": null,
            "flex": null,
            "flex_flow": null,
            "grid_area": null,
            "grid_auto_columns": null,
            "grid_auto_flow": null,
            "grid_auto_rows": null,
            "grid_column": null,
            "grid_gap": null,
            "grid_row": null,
            "grid_template_areas": null,
            "grid_template_columns": null,
            "grid_template_rows": null,
            "height": null,
            "justify_content": null,
            "justify_items": null,
            "left": null,
            "margin": null,
            "max_height": null,
            "max_width": null,
            "min_height": null,
            "min_width": null,
            "object_fit": null,
            "object_position": null,
            "order": null,
            "overflow": null,
            "overflow_x": null,
            "overflow_y": null,
            "padding": null,
            "right": null,
            "top": null,
            "visibility": null,
            "width": null
          }
        },
        "e670cce40dbe4a6fa31cd99505cbe042": {
          "model_module": "@jupyter-widgets/controls",
          "model_name": "DescriptionStyleModel",
          "model_module_version": "1.5.0",
          "state": {
            "_model_module": "@jupyter-widgets/controls",
            "_model_module_version": "1.5.0",
            "_model_name": "DescriptionStyleModel",
            "_view_count": null,
            "_view_module": "@jupyter-widgets/base",
            "_view_module_version": "1.2.0",
            "_view_name": "StyleView",
            "description_width": ""
          }
        },
        "7ff3c964ec384727a79cb489e3730953": {
          "model_module": "@jupyter-widgets/controls",
          "model_name": "HBoxModel",
          "model_module_version": "1.5.0",
          "state": {
            "_dom_classes": [],
            "_model_module": "@jupyter-widgets/controls",
            "_model_module_version": "1.5.0",
            "_model_name": "HBoxModel",
            "_view_count": null,
            "_view_module": "@jupyter-widgets/controls",
            "_view_module_version": "1.5.0",
            "_view_name": "HBoxView",
            "box_style": "",
            "children": [
              "IPY_MODEL_ae706a18443b4beb94874242c5dba8e6",
              "IPY_MODEL_732c483948754f60967708e194e73fb5",
              "IPY_MODEL_525b8f900a4d44d99c7ccf317c8dd604"
            ],
            "layout": "IPY_MODEL_7d8f7a1f2f984eebac8abbdc0892ef1a"
          }
        },
        "ae706a18443b4beb94874242c5dba8e6": {
          "model_module": "@jupyter-widgets/controls",
          "model_name": "HTMLModel",
          "model_module_version": "1.5.0",
          "state": {
            "_dom_classes": [],
            "_model_module": "@jupyter-widgets/controls",
            "_model_module_version": "1.5.0",
            "_model_name": "HTMLModel",
            "_view_count": null,
            "_view_module": "@jupyter-widgets/controls",
            "_view_module_version": "1.5.0",
            "_view_name": "HTMLView",
            "description": "",
            "description_tooltip": null,
            "layout": "IPY_MODEL_7c14dfd93a3e4891a310d7b213ce875d",
            "placeholder": "​",
            "style": "IPY_MODEL_f8cac73ba71242189bbe986975a76b9e",
            "value": "data/train-00001-of-00004-5852b56a2bd28f(…): 100%"
          }
        },
        "732c483948754f60967708e194e73fb5": {
          "model_module": "@jupyter-widgets/controls",
          "model_name": "FloatProgressModel",
          "model_module_version": "1.5.0",
          "state": {
            "_dom_classes": [],
            "_model_module": "@jupyter-widgets/controls",
            "_model_module_version": "1.5.0",
            "_model_name": "FloatProgressModel",
            "_view_count": null,
            "_view_module": "@jupyter-widgets/controls",
            "_view_module_version": "1.5.0",
            "_view_name": "ProgressView",
            "bar_style": "success",
            "description": "",
            "description_tooltip": null,
            "layout": "IPY_MODEL_d3f4cf38c39241e39ed47c494d231255",
            "max": 248171980,
            "min": 0,
            "orientation": "horizontal",
            "style": "IPY_MODEL_f3d026eea62a48019e2787229800ddb3",
            "value": 248171980
          }
        },
        "525b8f900a4d44d99c7ccf317c8dd604": {
          "model_module": "@jupyter-widgets/controls",
          "model_name": "HTMLModel",
          "model_module_version": "1.5.0",
          "state": {
            "_dom_classes": [],
            "_model_module": "@jupyter-widgets/controls",
            "_model_module_version": "1.5.0",
            "_model_name": "HTMLModel",
            "_view_count": null,
            "_view_module": "@jupyter-widgets/controls",
            "_view_module_version": "1.5.0",
            "_view_name": "HTMLView",
            "description": "",
            "description_tooltip": null,
            "layout": "IPY_MODEL_1fd251daeb3d4400b0f983538d002291",
            "placeholder": "​",
            "style": "IPY_MODEL_2a4a9f4dbb374336954ad2a39a2805e7",
            "value": " 248M/248M [00:04&lt;00:00, 74.8MB/s]"
          }
        },
        "7d8f7a1f2f984eebac8abbdc0892ef1a": {
          "model_module": "@jupyter-widgets/base",
          "model_name": "LayoutModel",
          "model_module_version": "1.2.0",
          "state": {
            "_model_module": "@jupyter-widgets/base",
            "_model_module_version": "1.2.0",
            "_model_name": "LayoutModel",
            "_view_count": null,
            "_view_module": "@jupyter-widgets/base",
            "_view_module_version": "1.2.0",
            "_view_name": "LayoutView",
            "align_content": null,
            "align_items": null,
            "align_self": null,
            "border": null,
            "bottom": null,
            "display": null,
            "flex": null,
            "flex_flow": null,
            "grid_area": null,
            "grid_auto_columns": null,
            "grid_auto_flow": null,
            "grid_auto_rows": null,
            "grid_column": null,
            "grid_gap": null,
            "grid_row": null,
            "grid_template_areas": null,
            "grid_template_columns": null,
            "grid_template_rows": null,
            "height": null,
            "justify_content": null,
            "justify_items": null,
            "left": null,
            "margin": null,
            "max_height": null,
            "max_width": null,
            "min_height": null,
            "min_width": null,
            "object_fit": null,
            "object_position": null,
            "order": null,
            "overflow": null,
            "overflow_x": null,
            "overflow_y": null,
            "padding": null,
            "right": null,
            "top": null,
            "visibility": null,
            "width": null
          }
        },
        "7c14dfd93a3e4891a310d7b213ce875d": {
          "model_module": "@jupyter-widgets/base",
          "model_name": "LayoutModel",
          "model_module_version": "1.2.0",
          "state": {
            "_model_module": "@jupyter-widgets/base",
            "_model_module_version": "1.2.0",
            "_model_name": "LayoutModel",
            "_view_count": null,
            "_view_module": "@jupyter-widgets/base",
            "_view_module_version": "1.2.0",
            "_view_name": "LayoutView",
            "align_content": null,
            "align_items": null,
            "align_self": null,
            "border": null,
            "bottom": null,
            "display": null,
            "flex": null,
            "flex_flow": null,
            "grid_area": null,
            "grid_auto_columns": null,
            "grid_auto_flow": null,
            "grid_auto_rows": null,
            "grid_column": null,
            "grid_gap": null,
            "grid_row": null,
            "grid_template_areas": null,
            "grid_template_columns": null,
            "grid_template_rows": null,
            "height": null,
            "justify_content": null,
            "justify_items": null,
            "left": null,
            "margin": null,
            "max_height": null,
            "max_width": null,
            "min_height": null,
            "min_width": null,
            "object_fit": null,
            "object_position": null,
            "order": null,
            "overflow": null,
            "overflow_x": null,
            "overflow_y": null,
            "padding": null,
            "right": null,
            "top": null,
            "visibility": null,
            "width": null
          }
        },
        "f8cac73ba71242189bbe986975a76b9e": {
          "model_module": "@jupyter-widgets/controls",
          "model_name": "DescriptionStyleModel",
          "model_module_version": "1.5.0",
          "state": {
            "_model_module": "@jupyter-widgets/controls",
            "_model_module_version": "1.5.0",
            "_model_name": "DescriptionStyleModel",
            "_view_count": null,
            "_view_module": "@jupyter-widgets/base",
            "_view_module_version": "1.2.0",
            "_view_name": "StyleView",
            "description_width": ""
          }
        },
        "d3f4cf38c39241e39ed47c494d231255": {
          "model_module": "@jupyter-widgets/base",
          "model_name": "LayoutModel",
          "model_module_version": "1.2.0",
          "state": {
            "_model_module": "@jupyter-widgets/base",
            "_model_module_version": "1.2.0",
            "_model_name": "LayoutModel",
            "_view_count": null,
            "_view_module": "@jupyter-widgets/base",
            "_view_module_version": "1.2.0",
            "_view_name": "LayoutView",
            "align_content": null,
            "align_items": null,
            "align_self": null,
            "border": null,
            "bottom": null,
            "display": null,
            "flex": null,
            "flex_flow": null,
            "grid_area": null,
            "grid_auto_columns": null,
            "grid_auto_flow": null,
            "grid_auto_rows": null,
            "grid_column": null,
            "grid_gap": null,
            "grid_row": null,
            "grid_template_areas": null,
            "grid_template_columns": null,
            "grid_template_rows": null,
            "height": null,
            "justify_content": null,
            "justify_items": null,
            "left": null,
            "margin": null,
            "max_height": null,
            "max_width": null,
            "min_height": null,
            "min_width": null,
            "object_fit": null,
            "object_position": null,
            "order": null,
            "overflow": null,
            "overflow_x": null,
            "overflow_y": null,
            "padding": null,
            "right": null,
            "top": null,
            "visibility": null,
            "width": null
          }
        },
        "f3d026eea62a48019e2787229800ddb3": {
          "model_module": "@jupyter-widgets/controls",
          "model_name": "ProgressStyleModel",
          "model_module_version": "1.5.0",
          "state": {
            "_model_module": "@jupyter-widgets/controls",
            "_model_module_version": "1.5.0",
            "_model_name": "ProgressStyleModel",
            "_view_count": null,
            "_view_module": "@jupyter-widgets/base",
            "_view_module_version": "1.2.0",
            "_view_name": "StyleView",
            "bar_color": null,
            "description_width": ""
          }
        },
        "1fd251daeb3d4400b0f983538d002291": {
          "model_module": "@jupyter-widgets/base",
          "model_name": "LayoutModel",
          "model_module_version": "1.2.0",
          "state": {
            "_model_module": "@jupyter-widgets/base",
            "_model_module_version": "1.2.0",
            "_model_name": "LayoutModel",
            "_view_count": null,
            "_view_module": "@jupyter-widgets/base",
            "_view_module_version": "1.2.0",
            "_view_name": "LayoutView",
            "align_content": null,
            "align_items": null,
            "align_self": null,
            "border": null,
            "bottom": null,
            "display": null,
            "flex": null,
            "flex_flow": null,
            "grid_area": null,
            "grid_auto_columns": null,
            "grid_auto_flow": null,
            "grid_auto_rows": null,
            "grid_column": null,
            "grid_gap": null,
            "grid_row": null,
            "grid_template_areas": null,
            "grid_template_columns": null,
            "grid_template_rows": null,
            "height": null,
            "justify_content": null,
            "justify_items": null,
            "left": null,
            "margin": null,
            "max_height": null,
            "max_width": null,
            "min_height": null,
            "min_width": null,
            "object_fit": null,
            "object_position": null,
            "order": null,
            "overflow": null,
            "overflow_x": null,
            "overflow_y": null,
            "padding": null,
            "right": null,
            "top": null,
            "visibility": null,
            "width": null
          }
        },
        "2a4a9f4dbb374336954ad2a39a2805e7": {
          "model_module": "@jupyter-widgets/controls",
          "model_name": "DescriptionStyleModel",
          "model_module_version": "1.5.0",
          "state": {
            "_model_module": "@jupyter-widgets/controls",
            "_model_module_version": "1.5.0",
            "_model_name": "DescriptionStyleModel",
            "_view_count": null,
            "_view_module": "@jupyter-widgets/base",
            "_view_module_version": "1.2.0",
            "_view_name": "StyleView",
            "description_width": ""
          }
        },
        "e0f1697bbc4a4ca8951c154ed6d958c2": {
          "model_module": "@jupyter-widgets/controls",
          "model_name": "HBoxModel",
          "model_module_version": "1.5.0",
          "state": {
            "_dom_classes": [],
            "_model_module": "@jupyter-widgets/controls",
            "_model_module_version": "1.5.0",
            "_model_name": "HBoxModel",
            "_view_count": null,
            "_view_module": "@jupyter-widgets/controls",
            "_view_module_version": "1.5.0",
            "_view_name": "HBoxView",
            "box_style": "",
            "children": [
              "IPY_MODEL_6aa21272e53e427ca634f37899806f44",
              "IPY_MODEL_50ea46ab7f8046b5a11129b9970f7ee4",
              "IPY_MODEL_06b60808374a453e9f5447e26fad98a8"
            ],
            "layout": "IPY_MODEL_7de50d7ea18d4065afa3f78d01172da3"
          }
        },
        "6aa21272e53e427ca634f37899806f44": {
          "model_module": "@jupyter-widgets/controls",
          "model_name": "HTMLModel",
          "model_module_version": "1.5.0",
          "state": {
            "_dom_classes": [],
            "_model_module": "@jupyter-widgets/controls",
            "_model_module_version": "1.5.0",
            "_model_name": "HTMLModel",
            "_view_count": null,
            "_view_module": "@jupyter-widgets/controls",
            "_view_module_version": "1.5.0",
            "_view_name": "HTMLView",
            "description": "",
            "description_tooltip": null,
            "layout": "IPY_MODEL_bba25e468c1e46d085a60630287cf9a4",
            "placeholder": "​",
            "style": "IPY_MODEL_b03e35afc3a64251b739a3152bcc33ab",
            "value": "data/train-00002-of-00004-a26307300439e9(…): 100%"
          }
        },
        "50ea46ab7f8046b5a11129b9970f7ee4": {
          "model_module": "@jupyter-widgets/controls",
          "model_name": "FloatProgressModel",
          "model_module_version": "1.5.0",
          "state": {
            "_dom_classes": [],
            "_model_module": "@jupyter-widgets/controls",
            "_model_module_version": "1.5.0",
            "_model_name": "FloatProgressModel",
            "_view_count": null,
            "_view_module": "@jupyter-widgets/controls",
            "_view_module_version": "1.5.0",
            "_view_name": "ProgressView",
            "bar_style": "success",
            "description": "",
            "description_tooltip": null,
            "layout": "IPY_MODEL_3b789da7e12a40468bd6f4bece3d3577",
            "max": 245894874,
            "min": 0,
            "orientation": "horizontal",
            "style": "IPY_MODEL_85c2beb2291743408a25d74235c251e4",
            "value": 245894874
          }
        },
        "06b60808374a453e9f5447e26fad98a8": {
          "model_module": "@jupyter-widgets/controls",
          "model_name": "HTMLModel",
          "model_module_version": "1.5.0",
          "state": {
            "_dom_classes": [],
            "_model_module": "@jupyter-widgets/controls",
            "_model_module_version": "1.5.0",
            "_model_name": "HTMLModel",
            "_view_count": null,
            "_view_module": "@jupyter-widgets/controls",
            "_view_module_version": "1.5.0",
            "_view_name": "HTMLView",
            "description": "",
            "description_tooltip": null,
            "layout": "IPY_MODEL_1af7c015342246d9955fddf1b2669c6f",
            "placeholder": "​",
            "style": "IPY_MODEL_2b2c6b43f40b400caa98dc2784566cab",
            "value": " 246M/246M [00:03&lt;00:00, 102MB/s]"
          }
        },
        "7de50d7ea18d4065afa3f78d01172da3": {
          "model_module": "@jupyter-widgets/base",
          "model_name": "LayoutModel",
          "model_module_version": "1.2.0",
          "state": {
            "_model_module": "@jupyter-widgets/base",
            "_model_module_version": "1.2.0",
            "_model_name": "LayoutModel",
            "_view_count": null,
            "_view_module": "@jupyter-widgets/base",
            "_view_module_version": "1.2.0",
            "_view_name": "LayoutView",
            "align_content": null,
            "align_items": null,
            "align_self": null,
            "border": null,
            "bottom": null,
            "display": null,
            "flex": null,
            "flex_flow": null,
            "grid_area": null,
            "grid_auto_columns": null,
            "grid_auto_flow": null,
            "grid_auto_rows": null,
            "grid_column": null,
            "grid_gap": null,
            "grid_row": null,
            "grid_template_areas": null,
            "grid_template_columns": null,
            "grid_template_rows": null,
            "height": null,
            "justify_content": null,
            "justify_items": null,
            "left": null,
            "margin": null,
            "max_height": null,
            "max_width": null,
            "min_height": null,
            "min_width": null,
            "object_fit": null,
            "object_position": null,
            "order": null,
            "overflow": null,
            "overflow_x": null,
            "overflow_y": null,
            "padding": null,
            "right": null,
            "top": null,
            "visibility": null,
            "width": null
          }
        },
        "bba25e468c1e46d085a60630287cf9a4": {
          "model_module": "@jupyter-widgets/base",
          "model_name": "LayoutModel",
          "model_module_version": "1.2.0",
          "state": {
            "_model_module": "@jupyter-widgets/base",
            "_model_module_version": "1.2.0",
            "_model_name": "LayoutModel",
            "_view_count": null,
            "_view_module": "@jupyter-widgets/base",
            "_view_module_version": "1.2.0",
            "_view_name": "LayoutView",
            "align_content": null,
            "align_items": null,
            "align_self": null,
            "border": null,
            "bottom": null,
            "display": null,
            "flex": null,
            "flex_flow": null,
            "grid_area": null,
            "grid_auto_columns": null,
            "grid_auto_flow": null,
            "grid_auto_rows": null,
            "grid_column": null,
            "grid_gap": null,
            "grid_row": null,
            "grid_template_areas": null,
            "grid_template_columns": null,
            "grid_template_rows": null,
            "height": null,
            "justify_content": null,
            "justify_items": null,
            "left": null,
            "margin": null,
            "max_height": null,
            "max_width": null,
            "min_height": null,
            "min_width": null,
            "object_fit": null,
            "object_position": null,
            "order": null,
            "overflow": null,
            "overflow_x": null,
            "overflow_y": null,
            "padding": null,
            "right": null,
            "top": null,
            "visibility": null,
            "width": null
          }
        },
        "b03e35afc3a64251b739a3152bcc33ab": {
          "model_module": "@jupyter-widgets/controls",
          "model_name": "DescriptionStyleModel",
          "model_module_version": "1.5.0",
          "state": {
            "_model_module": "@jupyter-widgets/controls",
            "_model_module_version": "1.5.0",
            "_model_name": "DescriptionStyleModel",
            "_view_count": null,
            "_view_module": "@jupyter-widgets/base",
            "_view_module_version": "1.2.0",
            "_view_name": "StyleView",
            "description_width": ""
          }
        },
        "3b789da7e12a40468bd6f4bece3d3577": {
          "model_module": "@jupyter-widgets/base",
          "model_name": "LayoutModel",
          "model_module_version": "1.2.0",
          "state": {
            "_model_module": "@jupyter-widgets/base",
            "_model_module_version": "1.2.0",
            "_model_name": "LayoutModel",
            "_view_count": null,
            "_view_module": "@jupyter-widgets/base",
            "_view_module_version": "1.2.0",
            "_view_name": "LayoutView",
            "align_content": null,
            "align_items": null,
            "align_self": null,
            "border": null,
            "bottom": null,
            "display": null,
            "flex": null,
            "flex_flow": null,
            "grid_area": null,
            "grid_auto_columns": null,
            "grid_auto_flow": null,
            "grid_auto_rows": null,
            "grid_column": null,
            "grid_gap": null,
            "grid_row": null,
            "grid_template_areas": null,
            "grid_template_columns": null,
            "grid_template_rows": null,
            "height": null,
            "justify_content": null,
            "justify_items": null,
            "left": null,
            "margin": null,
            "max_height": null,
            "max_width": null,
            "min_height": null,
            "min_width": null,
            "object_fit": null,
            "object_position": null,
            "order": null,
            "overflow": null,
            "overflow_x": null,
            "overflow_y": null,
            "padding": null,
            "right": null,
            "top": null,
            "visibility": null,
            "width": null
          }
        },
        "85c2beb2291743408a25d74235c251e4": {
          "model_module": "@jupyter-widgets/controls",
          "model_name": "ProgressStyleModel",
          "model_module_version": "1.5.0",
          "state": {
            "_model_module": "@jupyter-widgets/controls",
            "_model_module_version": "1.5.0",
            "_model_name": "ProgressStyleModel",
            "_view_count": null,
            "_view_module": "@jupyter-widgets/base",
            "_view_module_version": "1.2.0",
            "_view_name": "StyleView",
            "bar_color": null,
            "description_width": ""
          }
        },
        "1af7c015342246d9955fddf1b2669c6f": {
          "model_module": "@jupyter-widgets/base",
          "model_name": "LayoutModel",
          "model_module_version": "1.2.0",
          "state": {
            "_model_module": "@jupyter-widgets/base",
            "_model_module_version": "1.2.0",
            "_model_name": "LayoutModel",
            "_view_count": null,
            "_view_module": "@jupyter-widgets/base",
            "_view_module_version": "1.2.0",
            "_view_name": "LayoutView",
            "align_content": null,
            "align_items": null,
            "align_self": null,
            "border": null,
            "bottom": null,
            "display": null,
            "flex": null,
            "flex_flow": null,
            "grid_area": null,
            "grid_auto_columns": null,
            "grid_auto_flow": null,
            "grid_auto_rows": null,
            "grid_column": null,
            "grid_gap": null,
            "grid_row": null,
            "grid_template_areas": null,
            "grid_template_columns": null,
            "grid_template_rows": null,
            "height": null,
            "justify_content": null,
            "justify_items": null,
            "left": null,
            "margin": null,
            "max_height": null,
            "max_width": null,
            "min_height": null,
            "min_width": null,
            "object_fit": null,
            "object_position": null,
            "order": null,
            "overflow": null,
            "overflow_x": null,
            "overflow_y": null,
            "padding": null,
            "right": null,
            "top": null,
            "visibility": null,
            "width": null
          }
        },
        "2b2c6b43f40b400caa98dc2784566cab": {
          "model_module": "@jupyter-widgets/controls",
          "model_name": "DescriptionStyleModel",
          "model_module_version": "1.5.0",
          "state": {
            "_model_module": "@jupyter-widgets/controls",
            "_model_module_version": "1.5.0",
            "_model_name": "DescriptionStyleModel",
            "_view_count": null,
            "_view_module": "@jupyter-widgets/base",
            "_view_module_version": "1.2.0",
            "_view_name": "StyleView",
            "description_width": ""
          }
        },
        "0f880a9a88eb46138b79058f45eabe98": {
          "model_module": "@jupyter-widgets/controls",
          "model_name": "HBoxModel",
          "model_module_version": "1.5.0",
          "state": {
            "_dom_classes": [],
            "_model_module": "@jupyter-widgets/controls",
            "_model_module_version": "1.5.0",
            "_model_name": "HBoxModel",
            "_view_count": null,
            "_view_module": "@jupyter-widgets/controls",
            "_view_module_version": "1.5.0",
            "_view_name": "HBoxView",
            "box_style": "",
            "children": [
              "IPY_MODEL_222e00ec0c3c495db413ffc56603e71a",
              "IPY_MODEL_58d8b96bd6314568b004f2dce319b8f4",
              "IPY_MODEL_480e02591b6542bb986f4369483b8317"
            ],
            "layout": "IPY_MODEL_037b37c21ce64a0b83a61c3ae6a6758e"
          }
        },
        "222e00ec0c3c495db413ffc56603e71a": {
          "model_module": "@jupyter-widgets/controls",
          "model_name": "HTMLModel",
          "model_module_version": "1.5.0",
          "state": {
            "_dom_classes": [],
            "_model_module": "@jupyter-widgets/controls",
            "_model_module_version": "1.5.0",
            "_model_name": "HTMLModel",
            "_view_count": null,
            "_view_module": "@jupyter-widgets/controls",
            "_view_module_version": "1.5.0",
            "_view_name": "HTMLView",
            "description": "",
            "description_tooltip": null,
            "layout": "IPY_MODEL_5c5b019fcf3f4f829e4573bd7730237a",
            "placeholder": "​",
            "style": "IPY_MODEL_d2f2e6c64f4f40bdba046b724d8b9272",
            "value": "data/train-00003-of-00004-d243063613e5a0(…): 100%"
          }
        },
        "58d8b96bd6314568b004f2dce319b8f4": {
          "model_module": "@jupyter-widgets/controls",
          "model_name": "FloatProgressModel",
          "model_module_version": "1.5.0",
          "state": {
            "_dom_classes": [],
            "_model_module": "@jupyter-widgets/controls",
            "_model_module_version": "1.5.0",
            "_model_name": "FloatProgressModel",
            "_view_count": null,
            "_view_module": "@jupyter-widgets/controls",
            "_view_module_version": "1.5.0",
            "_view_name": "ProgressView",
            "bar_style": "success",
            "description": "",
            "description_tooltip": null,
            "layout": "IPY_MODEL_7f1436b0a08b4e1f9294c23b57016621",
            "max": 247988350,
            "min": 0,
            "orientation": "horizontal",
            "style": "IPY_MODEL_a5f49181cd0a491987cb18dbfcecee69",
            "value": 247988350
          }
        },
        "480e02591b6542bb986f4369483b8317": {
          "model_module": "@jupyter-widgets/controls",
          "model_name": "HTMLModel",
          "model_module_version": "1.5.0",
          "state": {
            "_dom_classes": [],
            "_model_module": "@jupyter-widgets/controls",
            "_model_module_version": "1.5.0",
            "_model_name": "HTMLModel",
            "_view_count": null,
            "_view_module": "@jupyter-widgets/controls",
            "_view_module_version": "1.5.0",
            "_view_name": "HTMLView",
            "description": "",
            "description_tooltip": null,
            "layout": "IPY_MODEL_544b26dae0ba4bafb9491cdc910ccd13",
            "placeholder": "​",
            "style": "IPY_MODEL_79d172d4f97244d58472c6d40276c599",
            "value": " 248M/248M [00:05&lt;00:00, 33.1MB/s]"
          }
        },
        "037b37c21ce64a0b83a61c3ae6a6758e": {
          "model_module": "@jupyter-widgets/base",
          "model_name": "LayoutModel",
          "model_module_version": "1.2.0",
          "state": {
            "_model_module": "@jupyter-widgets/base",
            "_model_module_version": "1.2.0",
            "_model_name": "LayoutModel",
            "_view_count": null,
            "_view_module": "@jupyter-widgets/base",
            "_view_module_version": "1.2.0",
            "_view_name": "LayoutView",
            "align_content": null,
            "align_items": null,
            "align_self": null,
            "border": null,
            "bottom": null,
            "display": null,
            "flex": null,
            "flex_flow": null,
            "grid_area": null,
            "grid_auto_columns": null,
            "grid_auto_flow": null,
            "grid_auto_rows": null,
            "grid_column": null,
            "grid_gap": null,
            "grid_row": null,
            "grid_template_areas": null,
            "grid_template_columns": null,
            "grid_template_rows": null,
            "height": null,
            "justify_content": null,
            "justify_items": null,
            "left": null,
            "margin": null,
            "max_height": null,
            "max_width": null,
            "min_height": null,
            "min_width": null,
            "object_fit": null,
            "object_position": null,
            "order": null,
            "overflow": null,
            "overflow_x": null,
            "overflow_y": null,
            "padding": null,
            "right": null,
            "top": null,
            "visibility": null,
            "width": null
          }
        },
        "5c5b019fcf3f4f829e4573bd7730237a": {
          "model_module": "@jupyter-widgets/base",
          "model_name": "LayoutModel",
          "model_module_version": "1.2.0",
          "state": {
            "_model_module": "@jupyter-widgets/base",
            "_model_module_version": "1.2.0",
            "_model_name": "LayoutModel",
            "_view_count": null,
            "_view_module": "@jupyter-widgets/base",
            "_view_module_version": "1.2.0",
            "_view_name": "LayoutView",
            "align_content": null,
            "align_items": null,
            "align_self": null,
            "border": null,
            "bottom": null,
            "display": null,
            "flex": null,
            "flex_flow": null,
            "grid_area": null,
            "grid_auto_columns": null,
            "grid_auto_flow": null,
            "grid_auto_rows": null,
            "grid_column": null,
            "grid_gap": null,
            "grid_row": null,
            "grid_template_areas": null,
            "grid_template_columns": null,
            "grid_template_rows": null,
            "height": null,
            "justify_content": null,
            "justify_items": null,
            "left": null,
            "margin": null,
            "max_height": null,
            "max_width": null,
            "min_height": null,
            "min_width": null,
            "object_fit": null,
            "object_position": null,
            "order": null,
            "overflow": null,
            "overflow_x": null,
            "overflow_y": null,
            "padding": null,
            "right": null,
            "top": null,
            "visibility": null,
            "width": null
          }
        },
        "d2f2e6c64f4f40bdba046b724d8b9272": {
          "model_module": "@jupyter-widgets/controls",
          "model_name": "DescriptionStyleModel",
          "model_module_version": "1.5.0",
          "state": {
            "_model_module": "@jupyter-widgets/controls",
            "_model_module_version": "1.5.0",
            "_model_name": "DescriptionStyleModel",
            "_view_count": null,
            "_view_module": "@jupyter-widgets/base",
            "_view_module_version": "1.2.0",
            "_view_name": "StyleView",
            "description_width": ""
          }
        },
        "7f1436b0a08b4e1f9294c23b57016621": {
          "model_module": "@jupyter-widgets/base",
          "model_name": "LayoutModel",
          "model_module_version": "1.2.0",
          "state": {
            "_model_module": "@jupyter-widgets/base",
            "_model_module_version": "1.2.0",
            "_model_name": "LayoutModel",
            "_view_count": null,
            "_view_module": "@jupyter-widgets/base",
            "_view_module_version": "1.2.0",
            "_view_name": "LayoutView",
            "align_content": null,
            "align_items": null,
            "align_self": null,
            "border": null,
            "bottom": null,
            "display": null,
            "flex": null,
            "flex_flow": null,
            "grid_area": null,
            "grid_auto_columns": null,
            "grid_auto_flow": null,
            "grid_auto_rows": null,
            "grid_column": null,
            "grid_gap": null,
            "grid_row": null,
            "grid_template_areas": null,
            "grid_template_columns": null,
            "grid_template_rows": null,
            "height": null,
            "justify_content": null,
            "justify_items": null,
            "left": null,
            "margin": null,
            "max_height": null,
            "max_width": null,
            "min_height": null,
            "min_width": null,
            "object_fit": null,
            "object_position": null,
            "order": null,
            "overflow": null,
            "overflow_x": null,
            "overflow_y": null,
            "padding": null,
            "right": null,
            "top": null,
            "visibility": null,
            "width": null
          }
        },
        "a5f49181cd0a491987cb18dbfcecee69": {
          "model_module": "@jupyter-widgets/controls",
          "model_name": "ProgressStyleModel",
          "model_module_version": "1.5.0",
          "state": {
            "_model_module": "@jupyter-widgets/controls",
            "_model_module_version": "1.5.0",
            "_model_name": "ProgressStyleModel",
            "_view_count": null,
            "_view_module": "@jupyter-widgets/base",
            "_view_module_version": "1.2.0",
            "_view_name": "StyleView",
            "bar_color": null,
            "description_width": ""
          }
        },
        "544b26dae0ba4bafb9491cdc910ccd13": {
          "model_module": "@jupyter-widgets/base",
          "model_name": "LayoutModel",
          "model_module_version": "1.2.0",
          "state": {
            "_model_module": "@jupyter-widgets/base",
            "_model_module_version": "1.2.0",
            "_model_name": "LayoutModel",
            "_view_count": null,
            "_view_module": "@jupyter-widgets/base",
            "_view_module_version": "1.2.0",
            "_view_name": "LayoutView",
            "align_content": null,
            "align_items": null,
            "align_self": null,
            "border": null,
            "bottom": null,
            "display": null,
            "flex": null,
            "flex_flow": null,
            "grid_area": null,
            "grid_auto_columns": null,
            "grid_auto_flow": null,
            "grid_auto_rows": null,
            "grid_column": null,
            "grid_gap": null,
            "grid_row": null,
            "grid_template_areas": null,
            "grid_template_columns": null,
            "grid_template_rows": null,
            "height": null,
            "justify_content": null,
            "justify_items": null,
            "left": null,
            "margin": null,
            "max_height": null,
            "max_width": null,
            "min_height": null,
            "min_width": null,
            "object_fit": null,
            "object_position": null,
            "order": null,
            "overflow": null,
            "overflow_x": null,
            "overflow_y": null,
            "padding": null,
            "right": null,
            "top": null,
            "visibility": null,
            "width": null
          }
        },
        "79d172d4f97244d58472c6d40276c599": {
          "model_module": "@jupyter-widgets/controls",
          "model_name": "DescriptionStyleModel",
          "model_module_version": "1.5.0",
          "state": {
            "_model_module": "@jupyter-widgets/controls",
            "_model_module_version": "1.5.0",
            "_model_name": "DescriptionStyleModel",
            "_view_count": null,
            "_view_module": "@jupyter-widgets/base",
            "_view_module_version": "1.2.0",
            "_view_name": "StyleView",
            "description_width": ""
          }
        },
        "241aa3a34de04d3597bb8819f2a9feff": {
          "model_module": "@jupyter-widgets/controls",
          "model_name": "HBoxModel",
          "model_module_version": "1.5.0",
          "state": {
            "_dom_classes": [],
            "_model_module": "@jupyter-widgets/controls",
            "_model_module_version": "1.5.0",
            "_model_name": "HBoxModel",
            "_view_count": null,
            "_view_module": "@jupyter-widgets/controls",
            "_view_module_version": "1.5.0",
            "_view_name": "HBoxView",
            "box_style": "",
            "children": [
              "IPY_MODEL_3218520658404d48b1f089dd49a84a08",
              "IPY_MODEL_635a73a9568c46d0893e5222d4f42556",
              "IPY_MODEL_7fe635a7e6c84e95b0fd2963b0a0d92c"
            ],
            "layout": "IPY_MODEL_efec6a9407404578840297863802e7f3"
          }
        },
        "3218520658404d48b1f089dd49a84a08": {
          "model_module": "@jupyter-widgets/controls",
          "model_name": "HTMLModel",
          "model_module_version": "1.5.0",
          "state": {
            "_dom_classes": [],
            "_model_module": "@jupyter-widgets/controls",
            "_model_module_version": "1.5.0",
            "_model_name": "HTMLModel",
            "_view_count": null,
            "_view_module": "@jupyter-widgets/controls",
            "_view_module_version": "1.5.0",
            "_view_name": "HTMLView",
            "description": "",
            "description_tooltip": null,
            "layout": "IPY_MODEL_c84adb47dfcc4d0ba910217697fe6155",
            "placeholder": "​",
            "style": "IPY_MODEL_9dd6c256c27647c9bdeaaed2c0ce6168",
            "value": "data/validation-00000-of-00001-869c898b5(…): 100%"
          }
        },
        "635a73a9568c46d0893e5222d4f42556": {
          "model_module": "@jupyter-widgets/controls",
          "model_name": "FloatProgressModel",
          "model_module_version": "1.5.0",
          "state": {
            "_dom_classes": [],
            "_model_module": "@jupyter-widgets/controls",
            "_model_module_version": "1.5.0",
            "_model_name": "FloatProgressModel",
            "_view_count": null,
            "_view_module": "@jupyter-widgets/controls",
            "_view_module_version": "1.5.0",
            "_view_name": "ProgressView",
            "bar_style": "success",
            "description": "",
            "description_tooltip": null,
            "layout": "IPY_MODEL_26e42950991249eeae8c0f0bb9316bb3",
            "max": 9989127,
            "min": 0,
            "orientation": "horizontal",
            "style": "IPY_MODEL_e678d096cbca4d46a1a9bb75d8979536",
            "value": 9989127
          }
        },
        "7fe635a7e6c84e95b0fd2963b0a0d92c": {
          "model_module": "@jupyter-widgets/controls",
          "model_name": "HTMLModel",
          "model_module_version": "1.5.0",
          "state": {
            "_dom_classes": [],
            "_model_module": "@jupyter-widgets/controls",
            "_model_module_version": "1.5.0",
            "_model_name": "HTMLModel",
            "_view_count": null,
            "_view_module": "@jupyter-widgets/controls",
            "_view_module_version": "1.5.0",
            "_view_name": "HTMLView",
            "description": "",
            "description_tooltip": null,
            "layout": "IPY_MODEL_a6c2d2ee5a9344fe96ab6321c4a367c4",
            "placeholder": "​",
            "style": "IPY_MODEL_be854fed77bc4f428ca556e748f356e0",
            "value": " 9.99M/9.99M [00:00&lt;00:00, 15.2MB/s]"
          }
        },
        "efec6a9407404578840297863802e7f3": {
          "model_module": "@jupyter-widgets/base",
          "model_name": "LayoutModel",
          "model_module_version": "1.2.0",
          "state": {
            "_model_module": "@jupyter-widgets/base",
            "_model_module_version": "1.2.0",
            "_model_name": "LayoutModel",
            "_view_count": null,
            "_view_module": "@jupyter-widgets/base",
            "_view_module_version": "1.2.0",
            "_view_name": "LayoutView",
            "align_content": null,
            "align_items": null,
            "align_self": null,
            "border": null,
            "bottom": null,
            "display": null,
            "flex": null,
            "flex_flow": null,
            "grid_area": null,
            "grid_auto_columns": null,
            "grid_auto_flow": null,
            "grid_auto_rows": null,
            "grid_column": null,
            "grid_gap": null,
            "grid_row": null,
            "grid_template_areas": null,
            "grid_template_columns": null,
            "grid_template_rows": null,
            "height": null,
            "justify_content": null,
            "justify_items": null,
            "left": null,
            "margin": null,
            "max_height": null,
            "max_width": null,
            "min_height": null,
            "min_width": null,
            "object_fit": null,
            "object_position": null,
            "order": null,
            "overflow": null,
            "overflow_x": null,
            "overflow_y": null,
            "padding": null,
            "right": null,
            "top": null,
            "visibility": null,
            "width": null
          }
        },
        "c84adb47dfcc4d0ba910217697fe6155": {
          "model_module": "@jupyter-widgets/base",
          "model_name": "LayoutModel",
          "model_module_version": "1.2.0",
          "state": {
            "_model_module": "@jupyter-widgets/base",
            "_model_module_version": "1.2.0",
            "_model_name": "LayoutModel",
            "_view_count": null,
            "_view_module": "@jupyter-widgets/base",
            "_view_module_version": "1.2.0",
            "_view_name": "LayoutView",
            "align_content": null,
            "align_items": null,
            "align_self": null,
            "border": null,
            "bottom": null,
            "display": null,
            "flex": null,
            "flex_flow": null,
            "grid_area": null,
            "grid_auto_columns": null,
            "grid_auto_flow": null,
            "grid_auto_rows": null,
            "grid_column": null,
            "grid_gap": null,
            "grid_row": null,
            "grid_template_areas": null,
            "grid_template_columns": null,
            "grid_template_rows": null,
            "height": null,
            "justify_content": null,
            "justify_items": null,
            "left": null,
            "margin": null,
            "max_height": null,
            "max_width": null,
            "min_height": null,
            "min_width": null,
            "object_fit": null,
            "object_position": null,
            "order": null,
            "overflow": null,
            "overflow_x": null,
            "overflow_y": null,
            "padding": null,
            "right": null,
            "top": null,
            "visibility": null,
            "width": null
          }
        },
        "9dd6c256c27647c9bdeaaed2c0ce6168": {
          "model_module": "@jupyter-widgets/controls",
          "model_name": "DescriptionStyleModel",
          "model_module_version": "1.5.0",
          "state": {
            "_model_module": "@jupyter-widgets/controls",
            "_model_module_version": "1.5.0",
            "_model_name": "DescriptionStyleModel",
            "_view_count": null,
            "_view_module": "@jupyter-widgets/base",
            "_view_module_version": "1.2.0",
            "_view_name": "StyleView",
            "description_width": ""
          }
        },
        "26e42950991249eeae8c0f0bb9316bb3": {
          "model_module": "@jupyter-widgets/base",
          "model_name": "LayoutModel",
          "model_module_version": "1.2.0",
          "state": {
            "_model_module": "@jupyter-widgets/base",
            "_model_module_version": "1.2.0",
            "_model_name": "LayoutModel",
            "_view_count": null,
            "_view_module": "@jupyter-widgets/base",
            "_view_module_version": "1.2.0",
            "_view_name": "LayoutView",
            "align_content": null,
            "align_items": null,
            "align_self": null,
            "border": null,
            "bottom": null,
            "display": null,
            "flex": null,
            "flex_flow": null,
            "grid_area": null,
            "grid_auto_columns": null,
            "grid_auto_flow": null,
            "grid_auto_rows": null,
            "grid_column": null,
            "grid_gap": null,
            "grid_row": null,
            "grid_template_areas": null,
            "grid_template_columns": null,
            "grid_template_rows": null,
            "height": null,
            "justify_content": null,
            "justify_items": null,
            "left": null,
            "margin": null,
            "max_height": null,
            "max_width": null,
            "min_height": null,
            "min_width": null,
            "object_fit": null,
            "object_position": null,
            "order": null,
            "overflow": null,
            "overflow_x": null,
            "overflow_y": null,
            "padding": null,
            "right": null,
            "top": null,
            "visibility": null,
            "width": null
          }
        },
        "e678d096cbca4d46a1a9bb75d8979536": {
          "model_module": "@jupyter-widgets/controls",
          "model_name": "ProgressStyleModel",
          "model_module_version": "1.5.0",
          "state": {
            "_model_module": "@jupyter-widgets/controls",
            "_model_module_version": "1.5.0",
            "_model_name": "ProgressStyleModel",
            "_view_count": null,
            "_view_module": "@jupyter-widgets/base",
            "_view_module_version": "1.2.0",
            "_view_name": "StyleView",
            "bar_color": null,
            "description_width": ""
          }
        },
        "a6c2d2ee5a9344fe96ab6321c4a367c4": {
          "model_module": "@jupyter-widgets/base",
          "model_name": "LayoutModel",
          "model_module_version": "1.2.0",
          "state": {
            "_model_module": "@jupyter-widgets/base",
            "_model_module_version": "1.2.0",
            "_model_name": "LayoutModel",
            "_view_count": null,
            "_view_module": "@jupyter-widgets/base",
            "_view_module_version": "1.2.0",
            "_view_name": "LayoutView",
            "align_content": null,
            "align_items": null,
            "align_self": null,
            "border": null,
            "bottom": null,
            "display": null,
            "flex": null,
            "flex_flow": null,
            "grid_area": null,
            "grid_auto_columns": null,
            "grid_auto_flow": null,
            "grid_auto_rows": null,
            "grid_column": null,
            "grid_gap": null,
            "grid_row": null,
            "grid_template_areas": null,
            "grid_template_columns": null,
            "grid_template_rows": null,
            "height": null,
            "justify_content": null,
            "justify_items": null,
            "left": null,
            "margin": null,
            "max_height": null,
            "max_width": null,
            "min_height": null,
            "min_width": null,
            "object_fit": null,
            "object_position": null,
            "order": null,
            "overflow": null,
            "overflow_x": null,
            "overflow_y": null,
            "padding": null,
            "right": null,
            "top": null,
            "visibility": null,
            "width": null
          }
        },
        "be854fed77bc4f428ca556e748f356e0": {
          "model_module": "@jupyter-widgets/controls",
          "model_name": "DescriptionStyleModel",
          "model_module_version": "1.5.0",
          "state": {
            "_model_module": "@jupyter-widgets/controls",
            "_model_module_version": "1.5.0",
            "_model_name": "DescriptionStyleModel",
            "_view_count": null,
            "_view_module": "@jupyter-widgets/base",
            "_view_module_version": "1.2.0",
            "_view_name": "StyleView",
            "description_width": ""
          }
        },
        "3f8ffe59067c492ca12e8a02e6cd57a7": {
          "model_module": "@jupyter-widgets/controls",
          "model_name": "HBoxModel",
          "model_module_version": "1.5.0",
          "state": {
            "_dom_classes": [],
            "_model_module": "@jupyter-widgets/controls",
            "_model_module_version": "1.5.0",
            "_model_name": "HBoxModel",
            "_view_count": null,
            "_view_module": "@jupyter-widgets/controls",
            "_view_module_version": "1.5.0",
            "_view_name": "HBoxView",
            "box_style": "",
            "children": [
              "IPY_MODEL_304da6933afc4d83a06639775a10aa0c",
              "IPY_MODEL_71718641caaf447998237d4554b6362c",
              "IPY_MODEL_7cec0f23ae9c45c981227742021a833f"
            ],
            "layout": "IPY_MODEL_ffecfc27525d45ac8450116e986d3d3d"
          }
        },
        "304da6933afc4d83a06639775a10aa0c": {
          "model_module": "@jupyter-widgets/controls",
          "model_name": "HTMLModel",
          "model_module_version": "1.5.0",
          "state": {
            "_dom_classes": [],
            "_model_module": "@jupyter-widgets/controls",
            "_model_module_version": "1.5.0",
            "_model_name": "HTMLModel",
            "_view_count": null,
            "_view_module": "@jupyter-widgets/controls",
            "_view_module_version": "1.5.0",
            "_view_name": "HTMLView",
            "description": "",
            "description_tooltip": null,
            "layout": "IPY_MODEL_a48e40cedeaf4101b085f39eb88e02cb",
            "placeholder": "​",
            "style": "IPY_MODEL_5e8366fbd90f4d27b5bef89b62a6dbf2",
            "value": "Generating train split: 100%"
          }
        },
        "71718641caaf447998237d4554b6362c": {
          "model_module": "@jupyter-widgets/controls",
          "model_name": "FloatProgressModel",
          "model_module_version": "1.5.0",
          "state": {
            "_dom_classes": [],
            "_model_module": "@jupyter-widgets/controls",
            "_model_module_version": "1.5.0",
            "_model_name": "FloatProgressModel",
            "_view_count": null,
            "_view_module": "@jupyter-widgets/controls",
            "_view_module_version": "1.5.0",
            "_view_name": "ProgressView",
            "bar_style": "success",
            "description": "",
            "description_tooltip": null,
            "layout": "IPY_MODEL_19acee7758df45648db69ff7fd9cd822",
            "max": 2119719,
            "min": 0,
            "orientation": "horizontal",
            "style": "IPY_MODEL_7d5c21e8615b485c9a36173783e9531a",
            "value": 2119719
          }
        },
        "7cec0f23ae9c45c981227742021a833f": {
          "model_module": "@jupyter-widgets/controls",
          "model_name": "HTMLModel",
          "model_module_version": "1.5.0",
          "state": {
            "_dom_classes": [],
            "_model_module": "@jupyter-widgets/controls",
            "_model_module_version": "1.5.0",
            "_model_name": "HTMLModel",
            "_view_count": null,
            "_view_module": "@jupyter-widgets/controls",
            "_view_module_version": "1.5.0",
            "_view_name": "HTMLView",
            "description": "",
            "description_tooltip": null,
            "layout": "IPY_MODEL_3cbf65ea09724feab4d4e7d47b1dc9ce",
            "placeholder": "​",
            "style": "IPY_MODEL_b0aec1c889224c689afe900b561dd798",
            "value": " 2119719/2119719 [00:13&lt;00:00, 90297.27 examples/s]"
          }
        },
        "ffecfc27525d45ac8450116e986d3d3d": {
          "model_module": "@jupyter-widgets/base",
          "model_name": "LayoutModel",
          "model_module_version": "1.2.0",
          "state": {
            "_model_module": "@jupyter-widgets/base",
            "_model_module_version": "1.2.0",
            "_model_name": "LayoutModel",
            "_view_count": null,
            "_view_module": "@jupyter-widgets/base",
            "_view_module_version": "1.2.0",
            "_view_name": "LayoutView",
            "align_content": null,
            "align_items": null,
            "align_self": null,
            "border": null,
            "bottom": null,
            "display": null,
            "flex": null,
            "flex_flow": null,
            "grid_area": null,
            "grid_auto_columns": null,
            "grid_auto_flow": null,
            "grid_auto_rows": null,
            "grid_column": null,
            "grid_gap": null,
            "grid_row": null,
            "grid_template_areas": null,
            "grid_template_columns": null,
            "grid_template_rows": null,
            "height": null,
            "justify_content": null,
            "justify_items": null,
            "left": null,
            "margin": null,
            "max_height": null,
            "max_width": null,
            "min_height": null,
            "min_width": null,
            "object_fit": null,
            "object_position": null,
            "order": null,
            "overflow": null,
            "overflow_x": null,
            "overflow_y": null,
            "padding": null,
            "right": null,
            "top": null,
            "visibility": null,
            "width": null
          }
        },
        "a48e40cedeaf4101b085f39eb88e02cb": {
          "model_module": "@jupyter-widgets/base",
          "model_name": "LayoutModel",
          "model_module_version": "1.2.0",
          "state": {
            "_model_module": "@jupyter-widgets/base",
            "_model_module_version": "1.2.0",
            "_model_name": "LayoutModel",
            "_view_count": null,
            "_view_module": "@jupyter-widgets/base",
            "_view_module_version": "1.2.0",
            "_view_name": "LayoutView",
            "align_content": null,
            "align_items": null,
            "align_self": null,
            "border": null,
            "bottom": null,
            "display": null,
            "flex": null,
            "flex_flow": null,
            "grid_area": null,
            "grid_auto_columns": null,
            "grid_auto_flow": null,
            "grid_auto_rows": null,
            "grid_column": null,
            "grid_gap": null,
            "grid_row": null,
            "grid_template_areas": null,
            "grid_template_columns": null,
            "grid_template_rows": null,
            "height": null,
            "justify_content": null,
            "justify_items": null,
            "left": null,
            "margin": null,
            "max_height": null,
            "max_width": null,
            "min_height": null,
            "min_width": null,
            "object_fit": null,
            "object_position": null,
            "order": null,
            "overflow": null,
            "overflow_x": null,
            "overflow_y": null,
            "padding": null,
            "right": null,
            "top": null,
            "visibility": null,
            "width": null
          }
        },
        "5e8366fbd90f4d27b5bef89b62a6dbf2": {
          "model_module": "@jupyter-widgets/controls",
          "model_name": "DescriptionStyleModel",
          "model_module_version": "1.5.0",
          "state": {
            "_model_module": "@jupyter-widgets/controls",
            "_model_module_version": "1.5.0",
            "_model_name": "DescriptionStyleModel",
            "_view_count": null,
            "_view_module": "@jupyter-widgets/base",
            "_view_module_version": "1.2.0",
            "_view_name": "StyleView",
            "description_width": ""
          }
        },
        "19acee7758df45648db69ff7fd9cd822": {
          "model_module": "@jupyter-widgets/base",
          "model_name": "LayoutModel",
          "model_module_version": "1.2.0",
          "state": {
            "_model_module": "@jupyter-widgets/base",
            "_model_module_version": "1.2.0",
            "_model_name": "LayoutModel",
            "_view_count": null,
            "_view_module": "@jupyter-widgets/base",
            "_view_module_version": "1.2.0",
            "_view_name": "LayoutView",
            "align_content": null,
            "align_items": null,
            "align_self": null,
            "border": null,
            "bottom": null,
            "display": null,
            "flex": null,
            "flex_flow": null,
            "grid_area": null,
            "grid_auto_columns": null,
            "grid_auto_flow": null,
            "grid_auto_rows": null,
            "grid_column": null,
            "grid_gap": null,
            "grid_row": null,
            "grid_template_areas": null,
            "grid_template_columns": null,
            "grid_template_rows": null,
            "height": null,
            "justify_content": null,
            "justify_items": null,
            "left": null,
            "margin": null,
            "max_height": null,
            "max_width": null,
            "min_height": null,
            "min_width": null,
            "object_fit": null,
            "object_position": null,
            "order": null,
            "overflow": null,
            "overflow_x": null,
            "overflow_y": null,
            "padding": null,
            "right": null,
            "top": null,
            "visibility": null,
            "width": null
          }
        },
        "7d5c21e8615b485c9a36173783e9531a": {
          "model_module": "@jupyter-widgets/controls",
          "model_name": "ProgressStyleModel",
          "model_module_version": "1.5.0",
          "state": {
            "_model_module": "@jupyter-widgets/controls",
            "_model_module_version": "1.5.0",
            "_model_name": "ProgressStyleModel",
            "_view_count": null,
            "_view_module": "@jupyter-widgets/base",
            "_view_module_version": "1.2.0",
            "_view_name": "StyleView",
            "bar_color": null,
            "description_width": ""
          }
        },
        "3cbf65ea09724feab4d4e7d47b1dc9ce": {
          "model_module": "@jupyter-widgets/base",
          "model_name": "LayoutModel",
          "model_module_version": "1.2.0",
          "state": {
            "_model_module": "@jupyter-widgets/base",
            "_model_module_version": "1.2.0",
            "_model_name": "LayoutModel",
            "_view_count": null,
            "_view_module": "@jupyter-widgets/base",
            "_view_module_version": "1.2.0",
            "_view_name": "LayoutView",
            "align_content": null,
            "align_items": null,
            "align_self": null,
            "border": null,
            "bottom": null,
            "display": null,
            "flex": null,
            "flex_flow": null,
            "grid_area": null,
            "grid_auto_columns": null,
            "grid_auto_flow": null,
            "grid_auto_rows": null,
            "grid_column": null,
            "grid_gap": null,
            "grid_row": null,
            "grid_template_areas": null,
            "grid_template_columns": null,
            "grid_template_rows": null,
            "height": null,
            "justify_content": null,
            "justify_items": null,
            "left": null,
            "margin": null,
            "max_height": null,
            "max_width": null,
            "min_height": null,
            "min_width": null,
            "object_fit": null,
            "object_position": null,
            "order": null,
            "overflow": null,
            "overflow_x": null,
            "overflow_y": null,
            "padding": null,
            "right": null,
            "top": null,
            "visibility": null,
            "width": null
          }
        },
        "b0aec1c889224c689afe900b561dd798": {
          "model_module": "@jupyter-widgets/controls",
          "model_name": "DescriptionStyleModel",
          "model_module_version": "1.5.0",
          "state": {
            "_model_module": "@jupyter-widgets/controls",
            "_model_module_version": "1.5.0",
            "_model_name": "DescriptionStyleModel",
            "_view_count": null,
            "_view_module": "@jupyter-widgets/base",
            "_view_module_version": "1.2.0",
            "_view_name": "StyleView",
            "description_width": ""
          }
        },
        "24a937592f2d44088a37cd4840d8ef69": {
          "model_module": "@jupyter-widgets/controls",
          "model_name": "HBoxModel",
          "model_module_version": "1.5.0",
          "state": {
            "_dom_classes": [],
            "_model_module": "@jupyter-widgets/controls",
            "_model_module_version": "1.5.0",
            "_model_name": "HBoxModel",
            "_view_count": null,
            "_view_module": "@jupyter-widgets/controls",
            "_view_module_version": "1.5.0",
            "_view_name": "HBoxView",
            "box_style": "",
            "children": [
              "IPY_MODEL_9608ad30dd8d49618efed30255183066",
              "IPY_MODEL_2215047d33db4cde8e46622c9005c3c5",
              "IPY_MODEL_0fdae53592194bb0b164bee90535d0ac"
            ],
            "layout": "IPY_MODEL_8c43616064f4462c97432b78cbbfb9e4"
          }
        },
        "9608ad30dd8d49618efed30255183066": {
          "model_module": "@jupyter-widgets/controls",
          "model_name": "HTMLModel",
          "model_module_version": "1.5.0",
          "state": {
            "_dom_classes": [],
            "_model_module": "@jupyter-widgets/controls",
            "_model_module_version": "1.5.0",
            "_model_name": "HTMLModel",
            "_view_count": null,
            "_view_module": "@jupyter-widgets/controls",
            "_view_module_version": "1.5.0",
            "_view_name": "HTMLView",
            "description": "",
            "description_tooltip": null,
            "layout": "IPY_MODEL_597c38360a2e4af9af836fdb206878c9",
            "placeholder": "​",
            "style": "IPY_MODEL_3883e86c5d444948b93cc4e0169b0716",
            "value": "Generating validation split: 100%"
          }
        },
        "2215047d33db4cde8e46622c9005c3c5": {
          "model_module": "@jupyter-widgets/controls",
          "model_name": "FloatProgressModel",
          "model_module_version": "1.5.0",
          "state": {
            "_dom_classes": [],
            "_model_module": "@jupyter-widgets/controls",
            "_model_module_version": "1.5.0",
            "_model_name": "FloatProgressModel",
            "_view_count": null,
            "_view_module": "@jupyter-widgets/controls",
            "_view_module_version": "1.5.0",
            "_view_name": "ProgressView",
            "bar_style": "success",
            "description": "",
            "description_tooltip": null,
            "layout": "IPY_MODEL_07e487f71b7b4359b11998fc9eedc9b5",
            "max": 21990,
            "min": 0,
            "orientation": "horizontal",
            "style": "IPY_MODEL_631d6244ba8f4aad8c930fd2f8ca936d",
            "value": 21990
          }
        },
        "0fdae53592194bb0b164bee90535d0ac": {
          "model_module": "@jupyter-widgets/controls",
          "model_name": "HTMLModel",
          "model_module_version": "1.5.0",
          "state": {
            "_dom_classes": [],
            "_model_module": "@jupyter-widgets/controls",
            "_model_module_version": "1.5.0",
            "_model_name": "HTMLModel",
            "_view_count": null,
            "_view_module": "@jupyter-widgets/controls",
            "_view_module_version": "1.5.0",
            "_view_name": "HTMLView",
            "description": "",
            "description_tooltip": null,
            "layout": "IPY_MODEL_e9137450ba8043a9a8a3e53f5efda392",
            "placeholder": "​",
            "style": "IPY_MODEL_107d825b66614a91bd0231fe9c78a978",
            "value": " 21990/21990 [00:00&lt;00:00, 115397.74 examples/s]"
          }
        },
        "8c43616064f4462c97432b78cbbfb9e4": {
          "model_module": "@jupyter-widgets/base",
          "model_name": "LayoutModel",
          "model_module_version": "1.2.0",
          "state": {
            "_model_module": "@jupyter-widgets/base",
            "_model_module_version": "1.2.0",
            "_model_name": "LayoutModel",
            "_view_count": null,
            "_view_module": "@jupyter-widgets/base",
            "_view_module_version": "1.2.0",
            "_view_name": "LayoutView",
            "align_content": null,
            "align_items": null,
            "align_self": null,
            "border": null,
            "bottom": null,
            "display": null,
            "flex": null,
            "flex_flow": null,
            "grid_area": null,
            "grid_auto_columns": null,
            "grid_auto_flow": null,
            "grid_auto_rows": null,
            "grid_column": null,
            "grid_gap": null,
            "grid_row": null,
            "grid_template_areas": null,
            "grid_template_columns": null,
            "grid_template_rows": null,
            "height": null,
            "justify_content": null,
            "justify_items": null,
            "left": null,
            "margin": null,
            "max_height": null,
            "max_width": null,
            "min_height": null,
            "min_width": null,
            "object_fit": null,
            "object_position": null,
            "order": null,
            "overflow": null,
            "overflow_x": null,
            "overflow_y": null,
            "padding": null,
            "right": null,
            "top": null,
            "visibility": null,
            "width": null
          }
        },
        "597c38360a2e4af9af836fdb206878c9": {
          "model_module": "@jupyter-widgets/base",
          "model_name": "LayoutModel",
          "model_module_version": "1.2.0",
          "state": {
            "_model_module": "@jupyter-widgets/base",
            "_model_module_version": "1.2.0",
            "_model_name": "LayoutModel",
            "_view_count": null,
            "_view_module": "@jupyter-widgets/base",
            "_view_module_version": "1.2.0",
            "_view_name": "LayoutView",
            "align_content": null,
            "align_items": null,
            "align_self": null,
            "border": null,
            "bottom": null,
            "display": null,
            "flex": null,
            "flex_flow": null,
            "grid_area": null,
            "grid_auto_columns": null,
            "grid_auto_flow": null,
            "grid_auto_rows": null,
            "grid_column": null,
            "grid_gap": null,
            "grid_row": null,
            "grid_template_areas": null,
            "grid_template_columns": null,
            "grid_template_rows": null,
            "height": null,
            "justify_content": null,
            "justify_items": null,
            "left": null,
            "margin": null,
            "max_height": null,
            "max_width": null,
            "min_height": null,
            "min_width": null,
            "object_fit": null,
            "object_position": null,
            "order": null,
            "overflow": null,
            "overflow_x": null,
            "overflow_y": null,
            "padding": null,
            "right": null,
            "top": null,
            "visibility": null,
            "width": null
          }
        },
        "3883e86c5d444948b93cc4e0169b0716": {
          "model_module": "@jupyter-widgets/controls",
          "model_name": "DescriptionStyleModel",
          "model_module_version": "1.5.0",
          "state": {
            "_model_module": "@jupyter-widgets/controls",
            "_model_module_version": "1.5.0",
            "_model_name": "DescriptionStyleModel",
            "_view_count": null,
            "_view_module": "@jupyter-widgets/base",
            "_view_module_version": "1.2.0",
            "_view_name": "StyleView",
            "description_width": ""
          }
        },
        "07e487f71b7b4359b11998fc9eedc9b5": {
          "model_module": "@jupyter-widgets/base",
          "model_name": "LayoutModel",
          "model_module_version": "1.2.0",
          "state": {
            "_model_module": "@jupyter-widgets/base",
            "_model_module_version": "1.2.0",
            "_model_name": "LayoutModel",
            "_view_count": null,
            "_view_module": "@jupyter-widgets/base",
            "_view_module_version": "1.2.0",
            "_view_name": "LayoutView",
            "align_content": null,
            "align_items": null,
            "align_self": null,
            "border": null,
            "bottom": null,
            "display": null,
            "flex": null,
            "flex_flow": null,
            "grid_area": null,
            "grid_auto_columns": null,
            "grid_auto_flow": null,
            "grid_auto_rows": null,
            "grid_column": null,
            "grid_gap": null,
            "grid_row": null,
            "grid_template_areas": null,
            "grid_template_columns": null,
            "grid_template_rows": null,
            "height": null,
            "justify_content": null,
            "justify_items": null,
            "left": null,
            "margin": null,
            "max_height": null,
            "max_width": null,
            "min_height": null,
            "min_width": null,
            "object_fit": null,
            "object_position": null,
            "order": null,
            "overflow": null,
            "overflow_x": null,
            "overflow_y": null,
            "padding": null,
            "right": null,
            "top": null,
            "visibility": null,
            "width": null
          }
        },
        "631d6244ba8f4aad8c930fd2f8ca936d": {
          "model_module": "@jupyter-widgets/controls",
          "model_name": "ProgressStyleModel",
          "model_module_version": "1.5.0",
          "state": {
            "_model_module": "@jupyter-widgets/controls",
            "_model_module_version": "1.5.0",
            "_model_name": "ProgressStyleModel",
            "_view_count": null,
            "_view_module": "@jupyter-widgets/base",
            "_view_module_version": "1.2.0",
            "_view_name": "StyleView",
            "bar_color": null,
            "description_width": ""
          }
        },
        "e9137450ba8043a9a8a3e53f5efda392": {
          "model_module": "@jupyter-widgets/base",
          "model_name": "LayoutModel",
          "model_module_version": "1.2.0",
          "state": {
            "_model_module": "@jupyter-widgets/base",
            "_model_module_version": "1.2.0",
            "_model_name": "LayoutModel",
            "_view_count": null,
            "_view_module": "@jupyter-widgets/base",
            "_view_module_version": "1.2.0",
            "_view_name": "LayoutView",
            "align_content": null,
            "align_items": null,
            "align_self": null,
            "border": null,
            "bottom": null,
            "display": null,
            "flex": null,
            "flex_flow": null,
            "grid_area": null,
            "grid_auto_columns": null,
            "grid_auto_flow": null,
            "grid_auto_rows": null,
            "grid_column": null,
            "grid_gap": null,
            "grid_row": null,
            "grid_template_areas": null,
            "grid_template_columns": null,
            "grid_template_rows": null,
            "height": null,
            "justify_content": null,
            "justify_items": null,
            "left": null,
            "margin": null,
            "max_height": null,
            "max_width": null,
            "min_height": null,
            "min_width": null,
            "object_fit": null,
            "object_position": null,
            "order": null,
            "overflow": null,
            "overflow_x": null,
            "overflow_y": null,
            "padding": null,
            "right": null,
            "top": null,
            "visibility": null,
            "width": null
          }
        },
        "107d825b66614a91bd0231fe9c78a978": {
          "model_module": "@jupyter-widgets/controls",
          "model_name": "DescriptionStyleModel",
          "model_module_version": "1.5.0",
          "state": {
            "_model_module": "@jupyter-widgets/controls",
            "_model_module_version": "1.5.0",
            "_model_name": "DescriptionStyleModel",
            "_view_count": null,
            "_view_module": "@jupyter-widgets/base",
            "_view_module_version": "1.2.0",
            "_view_name": "StyleView",
            "description_width": ""
          }
        },
        "a2e2979b2e2047ab88da3d7235b101ce": {
          "model_module": "@jupyter-widgets/controls",
          "model_name": "HBoxModel",
          "model_module_version": "1.5.0",
          "state": {
            "_dom_classes": [],
            "_model_module": "@jupyter-widgets/controls",
            "_model_module_version": "1.5.0",
            "_model_name": "HBoxModel",
            "_view_count": null,
            "_view_module": "@jupyter-widgets/controls",
            "_view_module_version": "1.5.0",
            "_view_name": "HBoxView",
            "box_style": "",
            "children": [
              "IPY_MODEL_ff724654bac948d39e6c45e30bc5662b",
              "IPY_MODEL_77a058fc06eb4fa98705cf1b4370c530",
              "IPY_MODEL_b5411d40941a4677a3a11c2e2230e7e0"
            ],
            "layout": "IPY_MODEL_160902bb89ad4420b9b2a3663f34062e"
          }
        },
        "ff724654bac948d39e6c45e30bc5662b": {
          "model_module": "@jupyter-widgets/controls",
          "model_name": "HTMLModel",
          "model_module_version": "1.5.0",
          "state": {
            "_dom_classes": [],
            "_model_module": "@jupyter-widgets/controls",
            "_model_module_version": "1.5.0",
            "_model_name": "HTMLModel",
            "_view_count": null,
            "_view_module": "@jupyter-widgets/controls",
            "_view_module_version": "1.5.0",
            "_view_name": "HTMLView",
            "description": "",
            "description_tooltip": null,
            "layout": "IPY_MODEL_7fe957785ccc467db66570fa11445574",
            "placeholder": "​",
            "style": "IPY_MODEL_dfb22110c52e4a8c93bda6fbea51ffbd",
            "value": "Tokenizing Train Set:  47%"
          }
        },
        "77a058fc06eb4fa98705cf1b4370c530": {
          "model_module": "@jupyter-widgets/controls",
          "model_name": "FloatProgressModel",
          "model_module_version": "1.5.0",
          "state": {
            "_dom_classes": [],
            "_model_module": "@jupyter-widgets/controls",
            "_model_module_version": "1.5.0",
            "_model_name": "FloatProgressModel",
            "_view_count": null,
            "_view_module": "@jupyter-widgets/controls",
            "_view_module_version": "1.5.0",
            "_view_name": "ProgressView",
            "bar_style": "danger",
            "description": "",
            "description_tooltip": null,
            "layout": "IPY_MODEL_e847822853aa4155a536ca69aa0c3a75",
            "max": 2119719,
            "min": 0,
            "orientation": "horizontal",
            "style": "IPY_MODEL_f3dee74049064ef9b6b2167c0991c9d6",
            "value": 999999
          }
        },
        "b5411d40941a4677a3a11c2e2230e7e0": {
          "model_module": "@jupyter-widgets/controls",
          "model_name": "HTMLModel",
          "model_module_version": "1.5.0",
          "state": {
            "_dom_classes": [],
            "_model_module": "@jupyter-widgets/controls",
            "_model_module_version": "1.5.0",
            "_model_name": "HTMLModel",
            "_view_count": null,
            "_view_module": "@jupyter-widgets/controls",
            "_view_module_version": "1.5.0",
            "_view_name": "HTMLView",
            "description": "",
            "description_tooltip": null,
            "layout": "IPY_MODEL_70192003de9c4bc7b59bbfd34425111b",
            "placeholder": "​",
            "style": "IPY_MODEL_608395e7c70a4bdc9a9a12c8ffc4b4c3",
            "value": " 999999/2119719 [10:52&lt;09:04, 2055.63it/s]"
          }
        },
        "160902bb89ad4420b9b2a3663f34062e": {
          "model_module": "@jupyter-widgets/base",
          "model_name": "LayoutModel",
          "model_module_version": "1.2.0",
          "state": {
            "_model_module": "@jupyter-widgets/base",
            "_model_module_version": "1.2.0",
            "_model_name": "LayoutModel",
            "_view_count": null,
            "_view_module": "@jupyter-widgets/base",
            "_view_module_version": "1.2.0",
            "_view_name": "LayoutView",
            "align_content": null,
            "align_items": null,
            "align_self": null,
            "border": null,
            "bottom": null,
            "display": null,
            "flex": null,
            "flex_flow": null,
            "grid_area": null,
            "grid_auto_columns": null,
            "grid_auto_flow": null,
            "grid_auto_rows": null,
            "grid_column": null,
            "grid_gap": null,
            "grid_row": null,
            "grid_template_areas": null,
            "grid_template_columns": null,
            "grid_template_rows": null,
            "height": null,
            "justify_content": null,
            "justify_items": null,
            "left": null,
            "margin": null,
            "max_height": null,
            "max_width": null,
            "min_height": null,
            "min_width": null,
            "object_fit": null,
            "object_position": null,
            "order": null,
            "overflow": null,
            "overflow_x": null,
            "overflow_y": null,
            "padding": null,
            "right": null,
            "top": null,
            "visibility": null,
            "width": null
          }
        },
        "7fe957785ccc467db66570fa11445574": {
          "model_module": "@jupyter-widgets/base",
          "model_name": "LayoutModel",
          "model_module_version": "1.2.0",
          "state": {
            "_model_module": "@jupyter-widgets/base",
            "_model_module_version": "1.2.0",
            "_model_name": "LayoutModel",
            "_view_count": null,
            "_view_module": "@jupyter-widgets/base",
            "_view_module_version": "1.2.0",
            "_view_name": "LayoutView",
            "align_content": null,
            "align_items": null,
            "align_self": null,
            "border": null,
            "bottom": null,
            "display": null,
            "flex": null,
            "flex_flow": null,
            "grid_area": null,
            "grid_auto_columns": null,
            "grid_auto_flow": null,
            "grid_auto_rows": null,
            "grid_column": null,
            "grid_gap": null,
            "grid_row": null,
            "grid_template_areas": null,
            "grid_template_columns": null,
            "grid_template_rows": null,
            "height": null,
            "justify_content": null,
            "justify_items": null,
            "left": null,
            "margin": null,
            "max_height": null,
            "max_width": null,
            "min_height": null,
            "min_width": null,
            "object_fit": null,
            "object_position": null,
            "order": null,
            "overflow": null,
            "overflow_x": null,
            "overflow_y": null,
            "padding": null,
            "right": null,
            "top": null,
            "visibility": null,
            "width": null
          }
        },
        "dfb22110c52e4a8c93bda6fbea51ffbd": {
          "model_module": "@jupyter-widgets/controls",
          "model_name": "DescriptionStyleModel",
          "model_module_version": "1.5.0",
          "state": {
            "_model_module": "@jupyter-widgets/controls",
            "_model_module_version": "1.5.0",
            "_model_name": "DescriptionStyleModel",
            "_view_count": null,
            "_view_module": "@jupyter-widgets/base",
            "_view_module_version": "1.2.0",
            "_view_name": "StyleView",
            "description_width": ""
          }
        },
        "e847822853aa4155a536ca69aa0c3a75": {
          "model_module": "@jupyter-widgets/base",
          "model_name": "LayoutModel",
          "model_module_version": "1.2.0",
          "state": {
            "_model_module": "@jupyter-widgets/base",
            "_model_module_version": "1.2.0",
            "_model_name": "LayoutModel",
            "_view_count": null,
            "_view_module": "@jupyter-widgets/base",
            "_view_module_version": "1.2.0",
            "_view_name": "LayoutView",
            "align_content": null,
            "align_items": null,
            "align_self": null,
            "border": null,
            "bottom": null,
            "display": null,
            "flex": null,
            "flex_flow": null,
            "grid_area": null,
            "grid_auto_columns": null,
            "grid_auto_flow": null,
            "grid_auto_rows": null,
            "grid_column": null,
            "grid_gap": null,
            "grid_row": null,
            "grid_template_areas": null,
            "grid_template_columns": null,
            "grid_template_rows": null,
            "height": null,
            "justify_content": null,
            "justify_items": null,
            "left": null,
            "margin": null,
            "max_height": null,
            "max_width": null,
            "min_height": null,
            "min_width": null,
            "object_fit": null,
            "object_position": null,
            "order": null,
            "overflow": null,
            "overflow_x": null,
            "overflow_y": null,
            "padding": null,
            "right": null,
            "top": null,
            "visibility": null,
            "width": null
          }
        },
        "f3dee74049064ef9b6b2167c0991c9d6": {
          "model_module": "@jupyter-widgets/controls",
          "model_name": "ProgressStyleModel",
          "model_module_version": "1.5.0",
          "state": {
            "_model_module": "@jupyter-widgets/controls",
            "_model_module_version": "1.5.0",
            "_model_name": "ProgressStyleModel",
            "_view_count": null,
            "_view_module": "@jupyter-widgets/base",
            "_view_module_version": "1.2.0",
            "_view_name": "StyleView",
            "bar_color": null,
            "description_width": ""
          }
        },
        "70192003de9c4bc7b59bbfd34425111b": {
          "model_module": "@jupyter-widgets/base",
          "model_name": "LayoutModel",
          "model_module_version": "1.2.0",
          "state": {
            "_model_module": "@jupyter-widgets/base",
            "_model_module_version": "1.2.0",
            "_model_name": "LayoutModel",
            "_view_count": null,
            "_view_module": "@jupyter-widgets/base",
            "_view_module_version": "1.2.0",
            "_view_name": "LayoutView",
            "align_content": null,
            "align_items": null,
            "align_self": null,
            "border": null,
            "bottom": null,
            "display": null,
            "flex": null,
            "flex_flow": null,
            "grid_area": null,
            "grid_auto_columns": null,
            "grid_auto_flow": null,
            "grid_auto_rows": null,
            "grid_column": null,
            "grid_gap": null,
            "grid_row": null,
            "grid_template_areas": null,
            "grid_template_columns": null,
            "grid_template_rows": null,
            "height": null,
            "justify_content": null,
            "justify_items": null,
            "left": null,
            "margin": null,
            "max_height": null,
            "max_width": null,
            "min_height": null,
            "min_width": null,
            "object_fit": null,
            "object_position": null,
            "order": null,
            "overflow": null,
            "overflow_x": null,
            "overflow_y": null,
            "padding": null,
            "right": null,
            "top": null,
            "visibility": null,
            "width": null
          }
        },
        "608395e7c70a4bdc9a9a12c8ffc4b4c3": {
          "model_module": "@jupyter-widgets/controls",
          "model_name": "DescriptionStyleModel",
          "model_module_version": "1.5.0",
          "state": {
            "_model_module": "@jupyter-widgets/controls",
            "_model_module_version": "1.5.0",
            "_model_name": "DescriptionStyleModel",
            "_view_count": null,
            "_view_module": "@jupyter-widgets/base",
            "_view_module_version": "1.2.0",
            "_view_name": "StyleView",
            "description_width": ""
          }
        },
        "0c4f85c535634294b9db525bded35739": {
          "model_module": "@jupyter-widgets/controls",
          "model_name": "HBoxModel",
          "model_module_version": "1.5.0",
          "state": {
            "_dom_classes": [],
            "_model_module": "@jupyter-widgets/controls",
            "_model_module_version": "1.5.0",
            "_model_name": "HBoxModel",
            "_view_count": null,
            "_view_module": "@jupyter-widgets/controls",
            "_view_module_version": "1.5.0",
            "_view_name": "HBoxView",
            "box_style": "",
            "children": [
              "IPY_MODEL_c30c86b1018f451bb0c79c3c7510176a",
              "IPY_MODEL_5b2cef2a99e6486884c72b242a6754f6",
              "IPY_MODEL_d4ce0be7ae054a44917c58ddc07a7191"
            ],
            "layout": "IPY_MODEL_73038aae45ad44559c1464a73b2811b8"
          }
        },
        "c30c86b1018f451bb0c79c3c7510176a": {
          "model_module": "@jupyter-widgets/controls",
          "model_name": "HTMLModel",
          "model_module_version": "1.5.0",
          "state": {
            "_dom_classes": [],
            "_model_module": "@jupyter-widgets/controls",
            "_model_module_version": "1.5.0",
            "_model_name": "HTMLModel",
            "_view_count": null,
            "_view_module": "@jupyter-widgets/controls",
            "_view_module_version": "1.5.0",
            "_view_name": "HTMLView",
            "description": "",
            "description_tooltip": null,
            "layout": "IPY_MODEL_66a9c900681343d2a84917a869ecd52b",
            "placeholder": "​",
            "style": "IPY_MODEL_37a4d914dfb94a4a9335b99ef62081a1",
            "value": "Tokenizing Valid Set:  45%"
          }
        },
        "5b2cef2a99e6486884c72b242a6754f6": {
          "model_module": "@jupyter-widgets/controls",
          "model_name": "FloatProgressModel",
          "model_module_version": "1.5.0",
          "state": {
            "_dom_classes": [],
            "_model_module": "@jupyter-widgets/controls",
            "_model_module_version": "1.5.0",
            "_model_name": "FloatProgressModel",
            "_view_count": null,
            "_view_module": "@jupyter-widgets/controls",
            "_view_module_version": "1.5.0",
            "_view_name": "ProgressView",
            "bar_style": "danger",
            "description": "",
            "description_tooltip": null,
            "layout": "IPY_MODEL_416de681bf9449f3bdc847188193cd1a",
            "max": 21990,
            "min": 0,
            "orientation": "horizontal",
            "style": "IPY_MODEL_7c95dc9e698e45189b446d5bd2596471",
            "value": 9999
          }
        },
        "d4ce0be7ae054a44917c58ddc07a7191": {
          "model_module": "@jupyter-widgets/controls",
          "model_name": "HTMLModel",
          "model_module_version": "1.5.0",
          "state": {
            "_dom_classes": [],
            "_model_module": "@jupyter-widgets/controls",
            "_model_module_version": "1.5.0",
            "_model_name": "HTMLModel",
            "_view_count": null,
            "_view_module": "@jupyter-widgets/controls",
            "_view_module_version": "1.5.0",
            "_view_name": "HTMLView",
            "description": "",
            "description_tooltip": null,
            "layout": "IPY_MODEL_3a0e26ccfe574643809f681834ad1ea9",
            "placeholder": "​",
            "style": "IPY_MODEL_ab141527e6c44b9fa4ad248b0eabd7bb",
            "value": " 9999/21990 [00:05&lt;00:05, 2072.58it/s]"
          }
        },
        "73038aae45ad44559c1464a73b2811b8": {
          "model_module": "@jupyter-widgets/base",
          "model_name": "LayoutModel",
          "model_module_version": "1.2.0",
          "state": {
            "_model_module": "@jupyter-widgets/base",
            "_model_module_version": "1.2.0",
            "_model_name": "LayoutModel",
            "_view_count": null,
            "_view_module": "@jupyter-widgets/base",
            "_view_module_version": "1.2.0",
            "_view_name": "LayoutView",
            "align_content": null,
            "align_items": null,
            "align_self": null,
            "border": null,
            "bottom": null,
            "display": null,
            "flex": null,
            "flex_flow": null,
            "grid_area": null,
            "grid_auto_columns": null,
            "grid_auto_flow": null,
            "grid_auto_rows": null,
            "grid_column": null,
            "grid_gap": null,
            "grid_row": null,
            "grid_template_areas": null,
            "grid_template_columns": null,
            "grid_template_rows": null,
            "height": null,
            "justify_content": null,
            "justify_items": null,
            "left": null,
            "margin": null,
            "max_height": null,
            "max_width": null,
            "min_height": null,
            "min_width": null,
            "object_fit": null,
            "object_position": null,
            "order": null,
            "overflow": null,
            "overflow_x": null,
            "overflow_y": null,
            "padding": null,
            "right": null,
            "top": null,
            "visibility": null,
            "width": null
          }
        },
        "66a9c900681343d2a84917a869ecd52b": {
          "model_module": "@jupyter-widgets/base",
          "model_name": "LayoutModel",
          "model_module_version": "1.2.0",
          "state": {
            "_model_module": "@jupyter-widgets/base",
            "_model_module_version": "1.2.0",
            "_model_name": "LayoutModel",
            "_view_count": null,
            "_view_module": "@jupyter-widgets/base",
            "_view_module_version": "1.2.0",
            "_view_name": "LayoutView",
            "align_content": null,
            "align_items": null,
            "align_self": null,
            "border": null,
            "bottom": null,
            "display": null,
            "flex": null,
            "flex_flow": null,
            "grid_area": null,
            "grid_auto_columns": null,
            "grid_auto_flow": null,
            "grid_auto_rows": null,
            "grid_column": null,
            "grid_gap": null,
            "grid_row": null,
            "grid_template_areas": null,
            "grid_template_columns": null,
            "grid_template_rows": null,
            "height": null,
            "justify_content": null,
            "justify_items": null,
            "left": null,
            "margin": null,
            "max_height": null,
            "max_width": null,
            "min_height": null,
            "min_width": null,
            "object_fit": null,
            "object_position": null,
            "order": null,
            "overflow": null,
            "overflow_x": null,
            "overflow_y": null,
            "padding": null,
            "right": null,
            "top": null,
            "visibility": null,
            "width": null
          }
        },
        "37a4d914dfb94a4a9335b99ef62081a1": {
          "model_module": "@jupyter-widgets/controls",
          "model_name": "DescriptionStyleModel",
          "model_module_version": "1.5.0",
          "state": {
            "_model_module": "@jupyter-widgets/controls",
            "_model_module_version": "1.5.0",
            "_model_name": "DescriptionStyleModel",
            "_view_count": null,
            "_view_module": "@jupyter-widgets/base",
            "_view_module_version": "1.2.0",
            "_view_name": "StyleView",
            "description_width": ""
          }
        },
        "416de681bf9449f3bdc847188193cd1a": {
          "model_module": "@jupyter-widgets/base",
          "model_name": "LayoutModel",
          "model_module_version": "1.2.0",
          "state": {
            "_model_module": "@jupyter-widgets/base",
            "_model_module_version": "1.2.0",
            "_model_name": "LayoutModel",
            "_view_count": null,
            "_view_module": "@jupyter-widgets/base",
            "_view_module_version": "1.2.0",
            "_view_name": "LayoutView",
            "align_content": null,
            "align_items": null,
            "align_self": null,
            "border": null,
            "bottom": null,
            "display": null,
            "flex": null,
            "flex_flow": null,
            "grid_area": null,
            "grid_auto_columns": null,
            "grid_auto_flow": null,
            "grid_auto_rows": null,
            "grid_column": null,
            "grid_gap": null,
            "grid_row": null,
            "grid_template_areas": null,
            "grid_template_columns": null,
            "grid_template_rows": null,
            "height": null,
            "justify_content": null,
            "justify_items": null,
            "left": null,
            "margin": null,
            "max_height": null,
            "max_width": null,
            "min_height": null,
            "min_width": null,
            "object_fit": null,
            "object_position": null,
            "order": null,
            "overflow": null,
            "overflow_x": null,
            "overflow_y": null,
            "padding": null,
            "right": null,
            "top": null,
            "visibility": null,
            "width": null
          }
        },
        "7c95dc9e698e45189b446d5bd2596471": {
          "model_module": "@jupyter-widgets/controls",
          "model_name": "ProgressStyleModel",
          "model_module_version": "1.5.0",
          "state": {
            "_model_module": "@jupyter-widgets/controls",
            "_model_module_version": "1.5.0",
            "_model_name": "ProgressStyleModel",
            "_view_count": null,
            "_view_module": "@jupyter-widgets/base",
            "_view_module_version": "1.2.0",
            "_view_name": "StyleView",
            "bar_color": null,
            "description_width": ""
          }
        },
        "3a0e26ccfe574643809f681834ad1ea9": {
          "model_module": "@jupyter-widgets/base",
          "model_name": "LayoutModel",
          "model_module_version": "1.2.0",
          "state": {
            "_model_module": "@jupyter-widgets/base",
            "_model_module_version": "1.2.0",
            "_model_name": "LayoutModel",
            "_view_count": null,
            "_view_module": "@jupyter-widgets/base",
            "_view_module_version": "1.2.0",
            "_view_name": "LayoutView",
            "align_content": null,
            "align_items": null,
            "align_self": null,
            "border": null,
            "bottom": null,
            "display": null,
            "flex": null,
            "flex_flow": null,
            "grid_area": null,
            "grid_auto_columns": null,
            "grid_auto_flow": null,
            "grid_auto_rows": null,
            "grid_column": null,
            "grid_gap": null,
            "grid_row": null,
            "grid_template_areas": null,
            "grid_template_columns": null,
            "grid_template_rows": null,
            "height": null,
            "justify_content": null,
            "justify_items": null,
            "left": null,
            "margin": null,
            "max_height": null,
            "max_width": null,
            "min_height": null,
            "min_width": null,
            "object_fit": null,
            "object_position": null,
            "order": null,
            "overflow": null,
            "overflow_x": null,
            "overflow_y": null,
            "padding": null,
            "right": null,
            "top": null,
            "visibility": null,
            "width": null
          }
        },
        "ab141527e6c44b9fa4ad248b0eabd7bb": {
          "model_module": "@jupyter-widgets/controls",
          "model_name": "DescriptionStyleModel",
          "model_module_version": "1.5.0",
          "state": {
            "_model_module": "@jupyter-widgets/controls",
            "_model_module_version": "1.5.0",
            "_model_name": "DescriptionStyleModel",
            "_view_count": null,
            "_view_module": "@jupyter-widgets/base",
            "_view_module_version": "1.2.0",
            "_view_name": "StyleView",
            "description_width": ""
          }
        }
      }
    }
  },
  "cells": [
    {
      "cell_type": "code",
      "execution_count": null,
      "metadata": {
        "colab": {
          "base_uri": "https://localhost:8080/"
        },
        "id": "8oz6xAmeV7M7",
        "outputId": "f68c7542-0e6f-4f10-e7fe-94ad437727ab"
      },
      "outputs": [
        {
          "output_type": "stream",
          "name": "stdout",
          "text": [
            "Requirement already satisfied: datasets in /usr/local/lib/python3.12/dist-packages (4.0.0)\n",
            "Requirement already satisfied: filelock in /usr/local/lib/python3.12/dist-packages (from datasets) (3.19.1)\n",
            "Requirement already satisfied: numpy>=1.17 in /usr/local/lib/python3.12/dist-packages (from datasets) (2.0.2)\n",
            "Requirement already satisfied: pyarrow>=15.0.0 in /usr/local/lib/python3.12/dist-packages (from datasets) (18.1.0)\n",
            "Requirement already satisfied: dill<0.3.9,>=0.3.0 in /usr/local/lib/python3.12/dist-packages (from datasets) (0.3.8)\n",
            "Requirement already satisfied: pandas in /usr/local/lib/python3.12/dist-packages (from datasets) (2.2.2)\n",
            "Requirement already satisfied: requests>=2.32.2 in /usr/local/lib/python3.12/dist-packages (from datasets) (2.32.4)\n",
            "Requirement already satisfied: tqdm>=4.66.3 in /usr/local/lib/python3.12/dist-packages (from datasets) (4.67.1)\n",
            "Requirement already satisfied: xxhash in /usr/local/lib/python3.12/dist-packages (from datasets) (3.5.0)\n",
            "Requirement already satisfied: multiprocess<0.70.17 in /usr/local/lib/python3.12/dist-packages (from datasets) (0.70.16)\n",
            "Requirement already satisfied: fsspec<=2025.3.0,>=2023.1.0 in /usr/local/lib/python3.12/dist-packages (from fsspec[http]<=2025.3.0,>=2023.1.0->datasets) (2025.3.0)\n",
            "Requirement already satisfied: huggingface-hub>=0.24.0 in /usr/local/lib/python3.12/dist-packages (from datasets) (0.34.4)\n",
            "Requirement already satisfied: packaging in /usr/local/lib/python3.12/dist-packages (from datasets) (25.0)\n",
            "Requirement already satisfied: pyyaml>=5.1 in /usr/local/lib/python3.12/dist-packages (from datasets) (6.0.2)\n",
            "Requirement already satisfied: aiohttp!=4.0.0a0,!=4.0.0a1 in /usr/local/lib/python3.12/dist-packages (from fsspec[http]<=2025.3.0,>=2023.1.0->datasets) (3.12.15)\n",
            "Requirement already satisfied: typing-extensions>=3.7.4.3 in /usr/local/lib/python3.12/dist-packages (from huggingface-hub>=0.24.0->datasets) (4.15.0)\n",
            "Requirement already satisfied: hf-xet<2.0.0,>=1.1.3 in /usr/local/lib/python3.12/dist-packages (from huggingface-hub>=0.24.0->datasets) (1.1.9)\n",
            "Requirement already satisfied: charset_normalizer<4,>=2 in /usr/local/lib/python3.12/dist-packages (from requests>=2.32.2->datasets) (3.4.3)\n",
            "Requirement already satisfied: idna<4,>=2.5 in /usr/local/lib/python3.12/dist-packages (from requests>=2.32.2->datasets) (3.10)\n",
            "Requirement already satisfied: urllib3<3,>=1.21.1 in /usr/local/lib/python3.12/dist-packages (from requests>=2.32.2->datasets) (2.5.0)\n",
            "Requirement already satisfied: certifi>=2017.4.17 in /usr/local/lib/python3.12/dist-packages (from requests>=2.32.2->datasets) (2025.8.3)\n",
            "Requirement already satisfied: python-dateutil>=2.8.2 in /usr/local/lib/python3.12/dist-packages (from pandas->datasets) (2.9.0.post0)\n",
            "Requirement already satisfied: pytz>=2020.1 in /usr/local/lib/python3.12/dist-packages (from pandas->datasets) (2025.2)\n",
            "Requirement already satisfied: tzdata>=2022.7 in /usr/local/lib/python3.12/dist-packages (from pandas->datasets) (2025.2)\n",
            "Requirement already satisfied: aiohappyeyeballs>=2.5.0 in /usr/local/lib/python3.12/dist-packages (from aiohttp!=4.0.0a0,!=4.0.0a1->fsspec[http]<=2025.3.0,>=2023.1.0->datasets) (2.6.1)\n",
            "Requirement already satisfied: aiosignal>=1.4.0 in /usr/local/lib/python3.12/dist-packages (from aiohttp!=4.0.0a0,!=4.0.0a1->fsspec[http]<=2025.3.0,>=2023.1.0->datasets) (1.4.0)\n",
            "Requirement already satisfied: attrs>=17.3.0 in /usr/local/lib/python3.12/dist-packages (from aiohttp!=4.0.0a0,!=4.0.0a1->fsspec[http]<=2025.3.0,>=2023.1.0->datasets) (25.3.0)\n",
            "Requirement already satisfied: frozenlist>=1.1.1 in /usr/local/lib/python3.12/dist-packages (from aiohttp!=4.0.0a0,!=4.0.0a1->fsspec[http]<=2025.3.0,>=2023.1.0->datasets) (1.7.0)\n",
            "Requirement already satisfied: multidict<7.0,>=4.5 in /usr/local/lib/python3.12/dist-packages (from aiohttp!=4.0.0a0,!=4.0.0a1->fsspec[http]<=2025.3.0,>=2023.1.0->datasets) (6.6.4)\n",
            "Requirement already satisfied: propcache>=0.2.0 in /usr/local/lib/python3.12/dist-packages (from aiohttp!=4.0.0a0,!=4.0.0a1->fsspec[http]<=2025.3.0,>=2023.1.0->datasets) (0.3.2)\n",
            "Requirement already satisfied: yarl<2.0,>=1.17.0 in /usr/local/lib/python3.12/dist-packages (from aiohttp!=4.0.0a0,!=4.0.0a1->fsspec[http]<=2025.3.0,>=2023.1.0->datasets) (1.20.1)\n",
            "Requirement already satisfied: six>=1.5 in /usr/local/lib/python3.12/dist-packages (from python-dateutil>=2.8.2->pandas->datasets) (1.17.0)\n"
          ]
        }
      ],
      "source": [
        "!pip install datasets"
      ]
    },
    {
      "cell_type": "markdown",
      "source": [
        "#import Libraries"
      ],
      "metadata": {
        "id": "LqeRwNfUWKVD"
      }
    },
    {
      "cell_type": "code",
      "source": [
        "import os\n",
        "import re\n",
        "import time\n",
        "import json\n",
        "import random\n",
        "import string\n",
        "import psutil\n",
        "import pickle\n",
        "from tqdm import tqdm\n",
        "from pprint import pprint\n",
        "from collections import Counter, defaultdict\n",
        "\n",
        "import numpy as np\n",
        "import pandas as pd\n",
        "import seaborn as sns\n",
        "import matplotlib.pyplot as plt\n",
        "from scipy.stats import mode\n",
        "\n",
        "from datasets import load_dataset\n",
        "from tokenizers import Tokenizer, models, trainers, pre_tokenizers, normalizers, decoders, processors\n",
        "import tiktoken\n",
        "\n",
        "import torch\n",
        "from torch.utils.data import TensorDataset, Dataset, IterableDataset, DataLoader\n",
        "\n",
        "from dataclasses import dataclass\n",
        "\n",
        "from datasets import load_dataset\n",
        "from tokenizers import Tokenizer\n",
        "\n",
        "import matplotlib.pyplot as plt\n",
        "\n",
        "from torch import nn\n",
        "from torch.nn import functional as F"
      ],
      "metadata": {
        "id": "DjlwGbnTeEow"
      },
      "execution_count": null,
      "outputs": []
    },
    {
      "cell_type": "markdown",
      "source": [
        "#Utils"
      ],
      "metadata": {
        "id": "28Tv4pl4WfU6"
      }
    },
    {
      "cell_type": "code",
      "source": [
        "def get_sample(dataset):\n",
        "    # Randomly select an index from the training dataset\n",
        "    idx = random.randint(0, len(dataset['train']))\n",
        "\n",
        "    # Return the \"text\" field of the randomly selected training sample\n",
        "    return dataset['train'][idx]['text']"
      ],
      "metadata": {
        "id": "bwqAc3twWIZg"
      },
      "execution_count": null,
      "outputs": []
    },
    {
      "cell_type": "code",
      "source": [
        "def prepare_data(tokens, seq_len):\n",
        "    # Trim tokens so that total length is divisible by seq_len\n",
        "    n_tokens = (tokens.shape[0] // seq_len) * seq_len\n",
        "    tokens = tokens[:n_tokens]\n",
        "\n",
        "    # Reshape to 2D tensor\n",
        "    return tokens.view(-1, seq_len)"
      ],
      "metadata": {
        "id": "fRJpcVh3WilB"
      },
      "execution_count": null,
      "outputs": []
    },
    {
      "cell_type": "code",
      "source": [
        "def num_trainable_params(model):\n",
        "  nums = sum(p.numel() for p in model.parameters() if p.requires_grad)/1e6\n",
        "  return nums"
      ],
      "metadata": {
        "id": "PpWLjQehWoyx"
      },
      "execution_count": null,
      "outputs": []
    },
    {
      "cell_type": "code",
      "source": [
        "def calculate_time(model, x, num_runs=10):\n",
        "    torch.cuda.synchronize()\n",
        "    start = time.time()\n",
        "    for _ in range(num_runs):\n",
        "        model(*x)\n",
        "    torch.cuda.synchronize()\n",
        "    return (time.time() - start) / num_runs"
      ],
      "metadata": {
        "id": "uk2YwPqyWsVN"
      },
      "execution_count": null,
      "outputs": []
    },
    {
      "cell_type": "markdown",
      "source": [
        "#Init"
      ],
      "metadata": {
        "id": "I6sqVXLdWuTg"
      }
    },
    {
      "cell_type": "code",
      "source": [
        "device = 'cuda' if torch.cuda.is_available() else 'cpu'\n",
        "device"
      ],
      "metadata": {
        "colab": {
          "base_uri": "https://localhost:8080/",
          "height": 35
        },
        "id": "KtIAtRlzWvKo",
        "outputId": "2e364c85-2429-477d-c32b-814b27cafe40"
      },
      "execution_count": null,
      "outputs": [
        {
          "output_type": "execute_result",
          "data": {
            "text/plain": [
              "'cuda'"
            ],
            "application/vnd.google.colaboratory.intrinsic+json": {
              "type": "string"
            }
          },
          "metadata": {},
          "execution_count": 8
        }
      ]
    },
    {
      "cell_type": "markdown",
      "source": [
        "#Loading dataset"
      ],
      "metadata": {
        "id": "Y8OITOe5Wzdd"
      }
    },
    {
      "cell_type": "code",
      "source": [
        "dataset = load_dataset(\"roneneldan/TinyStories\")\n",
        "dataset"
      ],
      "metadata": {
        "colab": {
          "base_uri": "https://localhost:8080/",
          "height": 571,
          "referenced_widgets": [
            "6d8dc34e10c04c5eb95005cd6826e62d",
            "f1158d85ed3d406388f82aa6b04f6147",
            "a30f17ded1a44116becf4a7827c67a47",
            "cbaa6245f530476ab8c77be86cdfccc9",
            "8bca196b6afd4d2cadf58d50a1254c62",
            "51cb5e174fb04838ab7abcc4b2835035",
            "ae592ac7c4b84ae7ae187b17a84bce65",
            "ee157691b77d4ec79391bd155646c9fa",
            "32ef1302b50c48ae9ec0ce64d08f0740",
            "35c82de843b5497b8861408675c8b592",
            "65bfe44e4aab4d6a87766025b602c4f4",
            "9d6cfd720de243248496876393badc92",
            "e1e71e48dcba4a54a228022c49dc7065",
            "dac38f8bea354872b6d3ac70393e9418",
            "ac674e7020c840f88809b229582fa5ef",
            "90c50d4cbafe4f828d2201d493551b37",
            "07fe0746644d4810b870fe70c1b4ba4a",
            "f55e35cc5b134c9f989b7682b35d801c",
            "bfe32d6c86e9412a82905006028a83d9",
            "979f7ba6250244f68384f8dd79f7e3a8",
            "7dc69196c8364a979427ecb5029799e0",
            "e670cce40dbe4a6fa31cd99505cbe042",
            "7ff3c964ec384727a79cb489e3730953",
            "ae706a18443b4beb94874242c5dba8e6",
            "732c483948754f60967708e194e73fb5",
            "525b8f900a4d44d99c7ccf317c8dd604",
            "7d8f7a1f2f984eebac8abbdc0892ef1a",
            "7c14dfd93a3e4891a310d7b213ce875d",
            "f8cac73ba71242189bbe986975a76b9e",
            "d3f4cf38c39241e39ed47c494d231255",
            "f3d026eea62a48019e2787229800ddb3",
            "1fd251daeb3d4400b0f983538d002291",
            "2a4a9f4dbb374336954ad2a39a2805e7",
            "e0f1697bbc4a4ca8951c154ed6d958c2",
            "6aa21272e53e427ca634f37899806f44",
            "50ea46ab7f8046b5a11129b9970f7ee4",
            "06b60808374a453e9f5447e26fad98a8",
            "7de50d7ea18d4065afa3f78d01172da3",
            "bba25e468c1e46d085a60630287cf9a4",
            "b03e35afc3a64251b739a3152bcc33ab",
            "3b789da7e12a40468bd6f4bece3d3577",
            "85c2beb2291743408a25d74235c251e4",
            "1af7c015342246d9955fddf1b2669c6f",
            "2b2c6b43f40b400caa98dc2784566cab",
            "0f880a9a88eb46138b79058f45eabe98",
            "222e00ec0c3c495db413ffc56603e71a",
            "58d8b96bd6314568b004f2dce319b8f4",
            "480e02591b6542bb986f4369483b8317",
            "037b37c21ce64a0b83a61c3ae6a6758e",
            "5c5b019fcf3f4f829e4573bd7730237a",
            "d2f2e6c64f4f40bdba046b724d8b9272",
            "7f1436b0a08b4e1f9294c23b57016621",
            "a5f49181cd0a491987cb18dbfcecee69",
            "544b26dae0ba4bafb9491cdc910ccd13",
            "79d172d4f97244d58472c6d40276c599",
            "241aa3a34de04d3597bb8819f2a9feff",
            "3218520658404d48b1f089dd49a84a08",
            "635a73a9568c46d0893e5222d4f42556",
            "7fe635a7e6c84e95b0fd2963b0a0d92c",
            "efec6a9407404578840297863802e7f3",
            "c84adb47dfcc4d0ba910217697fe6155",
            "9dd6c256c27647c9bdeaaed2c0ce6168",
            "26e42950991249eeae8c0f0bb9316bb3",
            "e678d096cbca4d46a1a9bb75d8979536",
            "a6c2d2ee5a9344fe96ab6321c4a367c4",
            "be854fed77bc4f428ca556e748f356e0",
            "3f8ffe59067c492ca12e8a02e6cd57a7",
            "304da6933afc4d83a06639775a10aa0c",
            "71718641caaf447998237d4554b6362c",
            "7cec0f23ae9c45c981227742021a833f",
            "ffecfc27525d45ac8450116e986d3d3d",
            "a48e40cedeaf4101b085f39eb88e02cb",
            "5e8366fbd90f4d27b5bef89b62a6dbf2",
            "19acee7758df45648db69ff7fd9cd822",
            "7d5c21e8615b485c9a36173783e9531a",
            "3cbf65ea09724feab4d4e7d47b1dc9ce",
            "b0aec1c889224c689afe900b561dd798",
            "24a937592f2d44088a37cd4840d8ef69",
            "9608ad30dd8d49618efed30255183066",
            "2215047d33db4cde8e46622c9005c3c5",
            "0fdae53592194bb0b164bee90535d0ac",
            "8c43616064f4462c97432b78cbbfb9e4",
            "597c38360a2e4af9af836fdb206878c9",
            "3883e86c5d444948b93cc4e0169b0716",
            "07e487f71b7b4359b11998fc9eedc9b5",
            "631d6244ba8f4aad8c930fd2f8ca936d",
            "e9137450ba8043a9a8a3e53f5efda392",
            "107d825b66614a91bd0231fe9c78a978"
          ]
        },
        "id": "OkVvu-YtW0uO",
        "outputId": "23327c1b-b9f5-4bd7-d71b-c83080ea5d0c"
      },
      "execution_count": null,
      "outputs": [
        {
          "output_type": "stream",
          "name": "stderr",
          "text": [
            "/usr/local/lib/python3.12/dist-packages/huggingface_hub/utils/_auth.py:94: UserWarning: \n",
            "The secret `HF_TOKEN` does not exist in your Colab secrets.\n",
            "To authenticate with the Hugging Face Hub, create a token in your settings tab (https://huggingface.co/settings/tokens), set it as secret in your Google Colab and restart your session.\n",
            "You will be able to reuse this secret in all of your notebooks.\n",
            "Please note that authentication is recommended but still optional to access public models or datasets.\n",
            "  warnings.warn(\n"
          ]
        },
        {
          "output_type": "display_data",
          "data": {
            "text/plain": [
              "README.md: 0.00B [00:00, ?B/s]"
            ],
            "application/vnd.jupyter.widget-view+json": {
              "version_major": 2,
              "version_minor": 0,
              "model_id": "6d8dc34e10c04c5eb95005cd6826e62d"
            }
          },
          "metadata": {}
        },
        {
          "output_type": "display_data",
          "data": {
            "text/plain": [
              "data/train-00000-of-00004-2d5a1467fff108(…):   0%|          | 0.00/249M [00:00<?, ?B/s]"
            ],
            "application/vnd.jupyter.widget-view+json": {
              "version_major": 2,
              "version_minor": 0,
              "model_id": "9d6cfd720de243248496876393badc92"
            }
          },
          "metadata": {}
        },
        {
          "output_type": "display_data",
          "data": {
            "text/plain": [
              "data/train-00001-of-00004-5852b56a2bd28f(…):   0%|          | 0.00/248M [00:00<?, ?B/s]"
            ],
            "application/vnd.jupyter.widget-view+json": {
              "version_major": 2,
              "version_minor": 0,
              "model_id": "7ff3c964ec384727a79cb489e3730953"
            }
          },
          "metadata": {}
        },
        {
          "output_type": "display_data",
          "data": {
            "text/plain": [
              "data/train-00002-of-00004-a26307300439e9(…):   0%|          | 0.00/246M [00:00<?, ?B/s]"
            ],
            "application/vnd.jupyter.widget-view+json": {
              "version_major": 2,
              "version_minor": 0,
              "model_id": "e0f1697bbc4a4ca8951c154ed6d958c2"
            }
          },
          "metadata": {}
        },
        {
          "output_type": "display_data",
          "data": {
            "text/plain": [
              "data/train-00003-of-00004-d243063613e5a0(…):   0%|          | 0.00/248M [00:00<?, ?B/s]"
            ],
            "application/vnd.jupyter.widget-view+json": {
              "version_major": 2,
              "version_minor": 0,
              "model_id": "0f880a9a88eb46138b79058f45eabe98"
            }
          },
          "metadata": {}
        },
        {
          "output_type": "display_data",
          "data": {
            "text/plain": [
              "data/validation-00000-of-00001-869c898b5(…):   0%|          | 0.00/9.99M [00:00<?, ?B/s]"
            ],
            "application/vnd.jupyter.widget-view+json": {
              "version_major": 2,
              "version_minor": 0,
              "model_id": "241aa3a34de04d3597bb8819f2a9feff"
            }
          },
          "metadata": {}
        },
        {
          "output_type": "display_data",
          "data": {
            "text/plain": [
              "Generating train split:   0%|          | 0/2119719 [00:00<?, ? examples/s]"
            ],
            "application/vnd.jupyter.widget-view+json": {
              "version_major": 2,
              "version_minor": 0,
              "model_id": "3f8ffe59067c492ca12e8a02e6cd57a7"
            }
          },
          "metadata": {}
        },
        {
          "output_type": "display_data",
          "data": {
            "text/plain": [
              "Generating validation split:   0%|          | 0/21990 [00:00<?, ? examples/s]"
            ],
            "application/vnd.jupyter.widget-view+json": {
              "version_major": 2,
              "version_minor": 0,
              "model_id": "24a937592f2d44088a37cd4840d8ef69"
            }
          },
          "metadata": {}
        },
        {
          "output_type": "execute_result",
          "data": {
            "text/plain": [
              "DatasetDict({\n",
              "    train: Dataset({\n",
              "        features: ['text'],\n",
              "        num_rows: 2119719\n",
              "    })\n",
              "    validation: Dataset({\n",
              "        features: ['text'],\n",
              "        num_rows: 21990\n",
              "    })\n",
              "})"
            ]
          },
          "metadata": {},
          "execution_count": 9
        }
      ]
    },
    {
      "cell_type": "markdown",
      "source": [
        "#Analysis of Dataset"
      ],
      "metadata": {
        "id": "P_FQlPbFW2Jk"
      }
    },
    {
      "cell_type": "code",
      "source": [
        "sample = get_sample(dataset)\n",
        "pprint(sample)"
      ],
      "metadata": {
        "colab": {
          "base_uri": "https://localhost:8080/"
        },
        "id": "6c_8JmTSW6Ft",
        "outputId": "180e0686-6cdf-4074-f993-4f04f90bebe1"
      },
      "execution_count": null,
      "outputs": [
        {
          "output_type": "stream",
          "name": "stdout",
          "text": [
            "('Once upon a time, there was a pretty flower called a poppy. It was red and '\n",
            " 'had a black dot in the middle. One day, the poppy started to look sad and '\n",
            " 'droopy. It was not moving anymore.\\n'\n",
            " '\\n'\n",
            " 'The little girl who loved the poppy saw that it was not the same. She went '\n",
            " 'to her mommy and said, \"Mommy, the poppy is dead. It needs help.\" Her mommy '\n",
            " \"said they could change the poppy's home to a new place with more sun and \"\n",
            " 'water.\\n'\n",
            " '\\n'\n",
            " 'So they dug up the poppy and moved it to a new home. After a few days, the '\n",
            " 'poppy started to change. It was not dead anymore! It was happy and bright '\n",
            " 'again. The little girl was so happy to see her poppy alive and well.')\n"
          ]
        }
      ]
    },
    {
      "cell_type": "markdown",
      "source": [
        "#Measuring RAM Usage After Dataset Loading"
      ],
      "metadata": {
        "id": "pppWz1ReW_iV"
      }
    },
    {
      "cell_type": "code",
      "source": [
        "# RAM before\n",
        "process = psutil.Process(os.getpid())\n",
        "ram_before = process.memory_info().rss  # in bytes\n",
        "\n",
        "# Load dataset\n",
        "dataset = load_dataset(\"roneneldan/TinyStories\")\n",
        "\n",
        "# RAM after\n",
        "ram_after = process.memory_info().rss\n",
        "\n",
        "# Result\n",
        "ram_used = ram_after - ram_before\n",
        "print(f\"🔹 RAM used for loading dataset: {ram_used / (1024**2):.2f} MB\")"
      ],
      "metadata": {
        "colab": {
          "base_uri": "https://localhost:8080/"
        },
        "id": "APFgGU78XAGz",
        "outputId": "5a79fcfb-75a8-415d-ed80-d56d2c5ddfc3"
      },
      "execution_count": null,
      "outputs": [
        {
          "output_type": "stream",
          "name": "stdout",
          "text": [
            "🔹 RAM used for loading dataset: 135.50 MB\n"
          ]
        }
      ]
    },
    {
      "cell_type": "code",
      "source": [
        "# RAM After\n",
        "process = psutil.Process(os.getpid())\n",
        "ram_before = process.memory_info().rss  # in bytes\n",
        "\n",
        "# Load full dataset into memory\n",
        "train = list(dataset[\"train\"])\n",
        "val = list(dataset[\"validation\"])\n",
        "\n",
        "# RAM after\n",
        "ram_after = process.memory_info().rss\n",
        "\n",
        "# Result\n",
        "ram_used = ram_after - ram_before\n",
        "print(f\"🔹 RAM used for loading full dataset into memory: {ram_used / (1024**3):.2f} GB\")"
      ],
      "metadata": {
        "colab": {
          "base_uri": "https://localhost:8080/"
        },
        "id": "cRqOSrCqXDcp",
        "outputId": "25621228-c288-4ee3-eabb-14347a7070a7"
      },
      "execution_count": null,
      "outputs": [
        {
          "output_type": "stream",
          "name": "stdout",
          "text": [
            "🔹 RAM used for loading full dataset into memory: 4.12 GB\n"
          ]
        }
      ]
    },
    {
      "cell_type": "markdown",
      "source": [
        "#Train Tokenizer"
      ],
      "metadata": {
        "id": "Vb_K2NWkXgCx"
      }
    },
    {
      "cell_type": "code",
      "source": [
        "# from tokenizers import Tokenizer, models, trainers, pre_tokenizers, processors, decoders\n",
        "\n",
        "# tok = Tokenizer(models.Unigram())\n",
        "# tok.pre_tokenizer = pre_tokenizers.ByteLevel(add_prefix_space=False)\n",
        "\n",
        "# trainer = trainers.UnigramTrainer(\n",
        "#     vocab_size=4000,                # 2k–8k خوبه\n",
        "#     unk_token=\"|<unk>|\",\n",
        "#     special_tokens=[\"|<unk>|\", \"<|endoftext|>\"]\n",
        "# )\n",
        "# tok.train_from_iterator(dataset[\"train\"][\"text\"], trainer=trainer)\n",
        "# tok.post_processor = processors.TemplateProcessing(\n",
        "#     single=\"<|endoftext|> $A\",\n",
        "#     special_tokens=[(\"<|endoftext|>\", tok.token_to_id(\"<|endoftext|>\"))],\n",
        "# )\n",
        "# tok.decoder = decoders.ByteLevel(add_prefix_space=False)\n",
        "# tok.save(\"unigram_4k.json\")\n",
        "# print(\"vocab:\", tok.get_vocab_size())"
      ],
      "metadata": {
        "id": "p1bzq_VtXooP"
      },
      "execution_count": null,
      "outputs": []
    },
    {
      "cell_type": "markdown",
      "source": [
        "#loading jason file"
      ],
      "metadata": {
        "id": "2lF8f479X-zg"
      }
    },
    {
      "cell_type": "code",
      "source": [
        "from google.colab import drive\n",
        "drive.mount('/content/drive')"
      ],
      "metadata": {
        "colab": {
          "base_uri": "https://localhost:8080/"
        },
        "id": "rvB9G7bgxFjv",
        "outputId": "113ac1ca-420b-434a-8738-1234d115c6d8"
      },
      "execution_count": null,
      "outputs": [
        {
          "output_type": "stream",
          "name": "stdout",
          "text": [
            "Mounted at /content/drive\n"
          ]
        }
      ]
    },
    {
      "cell_type": "code",
      "source": [
        "# path = \"/content/drive/MyDrive/unigram_4k.json\"\n"
      ],
      "metadata": {
        "id": "eWwFuY8gxS0X"
      },
      "execution_count": null,
      "outputs": []
    },
    {
      "cell_type": "code",
      "source": [
        "from tokenizers import Tokenizer\n",
        "\n",
        "# The path in My Drive\n",
        "json_path = \"/content/drive/MyDrive/unigram_4k.json\"\n",
        "\n",
        "tokenizer = Tokenizer.from_file(json_path)\n",
        "print(\"vocab:\", tokenizer.get_vocab_size())\n"
      ],
      "metadata": {
        "colab": {
          "base_uri": "https://localhost:8080/"
        },
        "id": "cSY314jHxwK1",
        "outputId": "6fa93297-4990-47e4-ff2e-dd84e2549eb1"
      },
      "execution_count": null,
      "outputs": [
        {
          "output_type": "stream",
          "name": "stdout",
          "text": [
            "vocab: 4000\n"
          ]
        }
      ]
    },
    {
      "cell_type": "code",
      "source": [
        "from pprint import pprint\n",
        "\n",
        "sent = 'They played together all day and became best friends.'\n",
        "\n",
        "tok_uni = Tokenizer.from_file(\"/content/drive/MyDrive/unigram_4k.json\")\n",
        "\n",
        "# tokennization\n",
        "tokens = tok_uni.encode(sent)\n",
        "\n",
        "print(tokens.ids)       # ids\n",
        "print(tokens.tokens)    # tokens\n",
        "\n",
        "#   decoding from ids to text\n",
        "pprint(tok_uni.decode(tokens.ids))"
      ],
      "metadata": {
        "colab": {
          "base_uri": "https://localhost:8080/"
        },
        "id": "Z2vdN1y2YW5C",
        "outputId": "8a8b2ac0-9dab-4020-8ce7-5bae4398a3d5"
      },
      "execution_count": null,
      "outputs": [
        {
          "output_type": "stream",
          "name": "stdout",
          "text": [
            "[1, 136, 198, 113, 76, 29, 7, 369, 219, 75, 3]\n",
            "['<|endoftext|>', 'They', 'Ġplayed', 'Ġtogether', 'Ġall', 'Ġday', 'Ġand', 'Ġbecame', 'Ġbest', 'Ġfriends', '.']\n",
            "'They played together all day and became best friends.'\n"
          ]
        }
      ]
    },
    {
      "cell_type": "code",
      "source": [
        "list_sent = ['They played together all day and became best friends.',\n",
        "             'They played together all day and became best friends.',\n",
        "             'They played together all day and became best friends.']\n",
        "string = ' <|endoftext|> '.join(list_sent) + ' <|endoftext|>'\n",
        "print(string)\n",
        "print(tokenizer.encode(string).ids)"
      ],
      "metadata": {
        "colab": {
          "base_uri": "https://localhost:8080/"
        },
        "id": "6vMot2wlYe2N",
        "outputId": "cc82f79f-be1d-4854-e0d0-45f7830943b7"
      },
      "execution_count": null,
      "outputs": [
        {
          "output_type": "stream",
          "name": "stdout",
          "text": [
            "They played together all day and became best friends. <|endoftext|> They played together all day and became best friends. <|endoftext|> They played together all day and became best friends. <|endoftext|>\n",
            "[1, 136, 198, 113, 76, 29, 7, 369, 219, 75, 3, 2, 1, 23, 198, 113, 76, 29, 7, 369, 219, 75, 3, 2, 1, 23, 198, 113, 76, 29, 7, 369, 219, 75, 3, 2, 1]\n"
          ]
        }
      ]
    },
    {
      "cell_type": "code",
      "source": [
        "# total_tokens = len(tokenized_train_samples)  # extend\n",
        "# print(\"Total tokens in this subset:\", total_tokens)"
      ],
      "metadata": {
        "colab": {
          "base_uri": "https://localhost:8080/",
          "height": 158
        },
        "collapsed": true,
        "id": "_YFv2feGYqsG",
        "outputId": "1a7affd8-69b4-4dbd-da63-c511dc5d76d6"
      },
      "execution_count": null,
      "outputs": [
        {
          "output_type": "error",
          "ename": "NameError",
          "evalue": "name 'tokenized_train_samples' is not defined",
          "traceback": [
            "\u001b[0;31m---------------------------------------------------------------------------\u001b[0m",
            "\u001b[0;31mNameError\u001b[0m                                 Traceback (most recent call last)",
            "\u001b[0;32m/tmp/ipython-input-3627186605.py\u001b[0m in \u001b[0;36m<cell line: 0>\u001b[0;34m()\u001b[0m\n\u001b[0;32m----> 1\u001b[0;31m \u001b[0mtotal_tokens\u001b[0m \u001b[0;34m=\u001b[0m \u001b[0mlen\u001b[0m\u001b[0;34m(\u001b[0m\u001b[0mtokenized_train_samples\u001b[0m\u001b[0;34m)\u001b[0m  \u001b[0;31m# چون extend کردی، لیست扁 است\u001b[0m\u001b[0;34m\u001b[0m\u001b[0;34m\u001b[0m\u001b[0m\n\u001b[0m\u001b[1;32m      2\u001b[0m \u001b[0mprint\u001b[0m\u001b[0;34m(\u001b[0m\u001b[0;34m\"Total tokens in this subset:\"\u001b[0m\u001b[0;34m,\u001b[0m \u001b[0mtotal_tokens\u001b[0m\u001b[0;34m)\u001b[0m\u001b[0;34m\u001b[0m\u001b[0;34m\u001b[0m\u001b[0m\n",
            "\u001b[0;31mNameError\u001b[0m: name 'tokenized_train_samples' is not defined"
          ]
        }
      ]
    },
    {
      "cell_type": "markdown",
      "source": [
        "#Train"
      ],
      "metadata": {
        "id": "l342TecTnD03"
      }
    },
    {
      "cell_type": "code",
      "source": [
        "import torch\n",
        "from tqdm.auto import tqdm\n",
        "\n",
        "N = 1000000  # number of samples\n",
        "\n",
        "# Tokenization {train} - just 1000 items\n",
        "tokenized_train_samples = []\n",
        "for i, item in enumerate(tqdm(dataset[\"train\"], desc=\"Tokenizing Train Set\"), start=1):\n",
        "    input_ids = tokenizer.encode(item[\"text\"]).ids\n",
        "    tokenized_train_samples.extend(input_ids)  #\n",
        "    if i >= N:\n",
        "        break\n",
        "\n",
        "# Save tokens as a pytorch file\n",
        "torch.save(torch.tensor(tokenized_train_samples, dtype=torch.int32),\n",
        "           'tokenized-train-samples_vocab-10k.pt')"
      ],
      "metadata": {
        "id": "6_MRBtrgnRsI",
        "colab": {
          "base_uri": "https://localhost:8080/",
          "height": 49,
          "referenced_widgets": [
            "a2e2979b2e2047ab88da3d7235b101ce",
            "ff724654bac948d39e6c45e30bc5662b",
            "77a058fc06eb4fa98705cf1b4370c530",
            "b5411d40941a4677a3a11c2e2230e7e0",
            "160902bb89ad4420b9b2a3663f34062e",
            "7fe957785ccc467db66570fa11445574",
            "dfb22110c52e4a8c93bda6fbea51ffbd",
            "e847822853aa4155a536ca69aa0c3a75",
            "f3dee74049064ef9b6b2167c0991c9d6",
            "70192003de9c4bc7b59bbfd34425111b",
            "608395e7c70a4bdc9a9a12c8ffc4b4c3"
          ]
        },
        "outputId": "aaefde08-b675-434b-bad1-0f106e5f3373"
      },
      "execution_count": null,
      "outputs": [
        {
          "output_type": "display_data",
          "data": {
            "text/plain": [
              "Tokenizing Train Set:   0%|          | 0/2119719 [00:00<?, ?it/s]"
            ],
            "application/vnd.jupyter.widget-view+json": {
              "version_major": 2,
              "version_minor": 0,
              "model_id": "a2e2979b2e2047ab88da3d7235b101ce"
            }
          },
          "metadata": {}
        }
      ]
    },
    {
      "cell_type": "code",
      "source": [
        "from google.colab import drive\n",
        "drive.mount('/content/drive')\n",
        "\n",
        "# copy from colab to Google Drive\n",
        "!cp /content/tokenized-train-samples_vocab-10k.pt /content/drive/MyDrive/\n"
      ],
      "metadata": {
        "colab": {
          "base_uri": "https://localhost:8080/"
        },
        "id": "acU_B89VKVVh",
        "outputId": "7c77fbb8-0241-43c1-e184-686ea52b7bf6"
      },
      "execution_count": null,
      "outputs": [
        {
          "output_type": "stream",
          "name": "stdout",
          "text": [
            "Drive already mounted at /content/drive; to attempt to forcibly remount, call drive.mount(\"/content/drive\", force_remount=True).\n"
          ]
        }
      ]
    },
    {
      "cell_type": "code",
      "source": [
        "# from google.colab import drive\n",
        "# import torch\n",
        "\n",
        "# # اتصال به درایو\n",
        "# drive.mount('/content/drive')\n",
        "\n",
        "# # مسیر ذخیره در درایو\n",
        "# save_path = '/content/drive/MyDrive/tokenized-train-samples_vocab-10k.pt'\n",
        "\n",
        "# # ذخیره‌سازی\n",
        "# torch.save(torch.tensor(tokenized_train_samples, dtype=torch.int32), save_path)\n",
        "# print(f\"✅ فایل ذخیره شد: {save_path}\")"
      ],
      "metadata": {
        "colab": {
          "base_uri": "https://localhost:8080/"
        },
        "id": "Z8BbMCUnHAmP",
        "outputId": "e3fa0513-c378-4342-d3ef-e866e82f838f"
      },
      "execution_count": null,
      "outputs": [
        {
          "output_type": "stream",
          "name": "stdout",
          "text": [
            "Drive already mounted at /content/drive; to attempt to forcibly remount, call drive.mount(\"/content/drive\", force_remount=True).\n",
            "✅ فایل ذخیره شد: /content/drive/MyDrive/tokenized-train-samples_vocab-10k.pt\n"
          ]
        }
      ]
    },
    {
      "cell_type": "code",
      "source": [
        "N = 10000  # number of samples\n",
        "\n",
        "# Tokenization {train}\n",
        "tokenized_train_samples = []\n",
        "for i, item in enumerate(tqdm(dataset[\"validation\"], desc=\"Tokenizing Valid Set\"), start=1):\n",
        "    input_ids = tokenizer.encode(item[\"text\"]).ids\n",
        "    tokenized_train_samples.extend(input_ids)  #\n",
        "    if i >= N:\n",
        "        break\n",
        "\n",
        "# Save tokens as a pytorch file\n",
        "torch.save(torch.tensor(tokenized_train_samples, dtype=torch.int32),\n",
        "           'tokenized-valid-samples_vocab-10k.pt')"
      ],
      "metadata": {
        "id": "8gjLLIdlnFKs",
        "colab": {
          "base_uri": "https://localhost:8080/",
          "height": 49,
          "referenced_widgets": [
            "0c4f85c535634294b9db525bded35739",
            "c30c86b1018f451bb0c79c3c7510176a",
            "5b2cef2a99e6486884c72b242a6754f6",
            "d4ce0be7ae054a44917c58ddc07a7191",
            "73038aae45ad44559c1464a73b2811b8",
            "66a9c900681343d2a84917a869ecd52b",
            "37a4d914dfb94a4a9335b99ef62081a1",
            "416de681bf9449f3bdc847188193cd1a",
            "7c95dc9e698e45189b446d5bd2596471",
            "3a0e26ccfe574643809f681834ad1ea9",
            "ab141527e6c44b9fa4ad248b0eabd7bb"
          ]
        },
        "outputId": "d13db401-e164-43ba-9954-a6798c1f695a"
      },
      "execution_count": null,
      "outputs": [
        {
          "output_type": "display_data",
          "data": {
            "text/plain": [
              "Tokenizing Valid Set:   0%|          | 0/21990 [00:00<?, ?it/s]"
            ],
            "application/vnd.jupyter.widget-view+json": {
              "version_major": 2,
              "version_minor": 0,
              "model_id": "0c4f85c535634294b9db525bded35739"
            }
          },
          "metadata": {}
        }
      ]
    },
    {
      "cell_type": "code",
      "source": [
        "total_tokens = len(tokenized_train_samples)  #\n",
        "print(\"Total tokens in this subset:\", total_tokens)"
      ],
      "metadata": {
        "id": "VZPJzRBQnHb3",
        "colab": {
          "base_uri": "https://localhost:8080/"
        },
        "outputId": "41a5b552-488b-484f-c68e-dedf70d5d476"
      },
      "execution_count": null,
      "outputs": [
        {
          "output_type": "stream",
          "name": "stdout",
          "text": [
            "Total tokens in this subset: 283211092\n"
          ]
        }
      ]
    },
    {
      "cell_type": "markdown",
      "source": [
        "#Custom dataset"
      ],
      "metadata": {
        "id": "6LyDEaEaYsoi"
      }
    },
    {
      "cell_type": "code",
      "source": [
        "# Load tokens from pytorch file\n",
        "tokenized_train_samples = torch.load('/content/drive/MyDrive/tokenized-train-samples_vocab-10k.pt')\n",
        "tokenized_valid_samples = torch.load('/content/drive/MyDrive/tokenized-valid-samples_vocab-10k.pt')\n",
        "tokenized_train_samples.shape, tokenized_valid_samples.shape"
      ],
      "metadata": {
        "colab": {
          "base_uri": "https://localhost:8080/"
        },
        "id": "LgpiMQTdHT49",
        "outputId": "2140ae61-6484-4b49-d298-ac4f42c36bc4"
      },
      "execution_count": null,
      "outputs": [
        {
          "output_type": "execute_result",
          "data": {
            "text/plain": [
              "(torch.Size([283211092]), torch.Size([2586183]))"
            ]
          },
          "metadata": {},
          "execution_count": 27
        }
      ]
    },
    {
      "cell_type": "code",
      "source": [
        "# # Load tokens from pytorch file\n",
        "# tokenized_train_samples = torch.load('/content/tokenized-train-samples_vocab-10k.pt')\n",
        "# tokenized_valid_samples = torch.load('/content/tokenized-valid-samples_vocab-10k.pt')\n",
        "# tokenized_train_samples.shape, tokenized_valid_samples.shape"
      ],
      "metadata": {
        "colab": {
          "base_uri": "https://localhost:8080/"
        },
        "id": "RpO0pMDeYu7o",
        "outputId": "a8356768-f562-4795-e9ae-9203b177d71c"
      },
      "execution_count": null,
      "outputs": [
        {
          "output_type": "execute_result",
          "data": {
            "text/plain": [
              "(torch.Size([283211092]), torch.Size([2586183]))"
            ]
          },
          "metadata": {},
          "execution_count": 23
        }
      ]
    },
    {
      "cell_type": "code",
      "source": [
        "seq_len = 128  # Desired sequence length for each row\n",
        "tokenized_train_samples = prepare_data(tokenized_train_samples, seq_len)\n",
        "tokenized_train_samples.shape"
      ],
      "metadata": {
        "colab": {
          "base_uri": "https://localhost:8080/"
        },
        "id": "vDoZaLcBYy58",
        "outputId": "5e739171-3c21-46d4-caa9-c76356b1c3a5"
      },
      "execution_count": null,
      "outputs": [
        {
          "output_type": "execute_result",
          "data": {
            "text/plain": [
              "torch.Size([2212586, 128])"
            ]
          },
          "metadata": {},
          "execution_count": 29
        }
      ]
    },
    {
      "cell_type": "code",
      "source": [
        "train_set = TensorDataset(tokenized_train_samples[:, :-1], tokenized_train_samples[:, 1:])\n",
        "train_set[60_000]"
      ],
      "metadata": {
        "colab": {
          "base_uri": "https://localhost:8080/"
        },
        "id": "vglxuusWY1ZE",
        "outputId": "28d14b44-88ab-47f8-b62f-e5eb53ed57bd"
      },
      "execution_count": null,
      "outputs": [
        {
          "output_type": "execute_result",
          "data": {
            "text/plain": [
              "(tensor([   4,    5,    9,  120,  320,    7,   24,    8,    2,   15, 2477,    2,\n",
              "            4,    5,    2,  362, 1037,   54,   39,  120,  320,   12,   48,    2,\n",
              "            4,    5, 1138,   66,    3,   23,   76,  198,  113,    7,   34,    2,\n",
              "           10,  299,   31,   89,    3,    6,    6,  175,   11,    9,  260,   72,\n",
              "          142,    8,    9,  320,   24,  367,    2,    4,    5,   65,  120,  134,\n",
              "            3,   23,   55,   48,    2,    4,    5,   68,    2,   10,  120,  134,\n",
              "           25,    9, 1037,    3,   39, 1001,  320,   12,   48,   84,    3,   49,\n",
              "           34,  124,    2,   10,  120,  121,    7,  120,   75,   25,    9,   52,\n",
              "         1037,    3,    1,   57,   63,    2,   10,   42,    8,   44,   12,    2,\n",
              "           10,  888,   43,  143,   83,  358,    3,  358,   85,    2,    4,    5,\n",
              "           56,   27,   28,  185,    7,  222,   25], dtype=torch.int32),\n",
              " tensor([   5,    9,  120,  320,    7,   24,    8,    2,   15, 2477,    2,    4,\n",
              "            5,    2,  362, 1037,   54,   39,  120,  320,   12,   48,    2,    4,\n",
              "            5, 1138,   66,    3,   23,   76,  198,  113,    7,   34,    2,   10,\n",
              "          299,   31,   89,    3,    6,    6,  175,   11,    9,  260,   72,  142,\n",
              "            8,    9,  320,   24,  367,    2,    4,    5,   65,  120,  134,    3,\n",
              "           23,   55,   48,    2,    4,    5,   68,    2,   10,  120,  134,   25,\n",
              "            9, 1037,    3,   39, 1001,  320,   12,   48,   84,    3,   49,   34,\n",
              "          124,    2,   10,  120,  121,    7,  120,   75,   25,    9,   52, 1037,\n",
              "            3,    1,   57,   63,    2,   10,   42,    8,   44,   12,    2,   10,\n",
              "          888,   43,  143,   83,  358,    3,  358,   85,    2,    4,    5,   56,\n",
              "           27,   28,  185,    7,  222,   25,    9], dtype=torch.int32))"
            ]
          },
          "metadata": {},
          "execution_count": 30
        }
      ]
    },
    {
      "cell_type": "code",
      "source": [
        "# taking time for each batch\n",
        "%timeit _ = next(iter(train_set))"
      ],
      "metadata": {
        "colab": {
          "base_uri": "https://localhost:8080/"
        },
        "id": "tNH9SvYnY5ck",
        "outputId": "75d660a9-48e0-4431-8e99-70c950544740"
      },
      "execution_count": null,
      "outputs": [
        {
          "output_type": "stream",
          "name": "stdout",
          "text": [
            "6.33 µs ± 1.14 µs per loop (mean ± std. dev. of 7 runs, 100000 loops each)\n"
          ]
        }
      ]
    },
    {
      "cell_type": "markdown",
      "source": [
        "#Custom Class"
      ],
      "metadata": {
        "id": "sKuXajQGY65i"
      }
    },
    {
      "cell_type": "code",
      "source": [
        "class TinyStoriesDataset(Dataset):\n",
        "\n",
        "    def __init__(self, data, seq_len):\n",
        "        self.seq_len = seq_len\n",
        "        self.data = prepare_data(data, seq_len+1)\n",
        "\n",
        "    def __len__(self):\n",
        "        return self.data.shape[0]\n",
        "\n",
        "    def __getitem__(self, idx):\n",
        "        sample = self.data[idx]\n",
        "        return sample[:-1], sample[1:]#.long()"
      ],
      "metadata": {
        "id": "cbOx3b_SY81E"
      },
      "execution_count": null,
      "outputs": []
    },
    {
      "cell_type": "code",
      "source": [
        "train_set = TinyStoriesDataset(tokenized_train_samples, 128)\n",
        "train_set.data.shape, len(train_set), train_set[0]"
      ],
      "metadata": {
        "colab": {
          "base_uri": "https://localhost:8080/"
        },
        "id": "gBNpQveZY_fT",
        "outputId": "356dccfe-3364-416c-a79b-89517e1ca19a"
      },
      "execution_count": null,
      "outputs": [
        {
          "output_type": "execute_result",
          "data": {
            "text/plain": [
              "(torch.Size([2195328, 129]),\n",
              " 2195328,\n",
              " (tensor([   1,   97,   29,    8,    2,   10,   43,   62,   83,   36,  124,    2,\n",
              "            10, 1713,   25,   18,  196,    3,   20,  169,    2,   14,    4,   12,\n",
              "          1434,    2,    4,    5,   56,   27,    2,   14,    4,    2,  203,    2,\n",
              "            14,    4,   12,  918,    3,   36,   61,    2,    4,    5,  275,    9,\n",
              "          1713,   27,   18,   45,    8,    2,   11,    5,   26,   87,    2,   11,\n",
              "            13,   80,    2,   10,  965,    2,    5,   17,   18, 1085,    3,    6,\n",
              "             6,   94,   72,    2,    4,    5,   18,   45,    7,   24,    8,    2,\n",
              "            15,  249,    8,    2,   32,  124,  186, 1713,    3,  496,   33,  275,\n",
              "             2,   14,    4,   27,    2,   46,   13,    7,    2,   11,   13,   80,\n",
              "             2,   46,   37, 1085,   74,  243,   45,   82,    7,   24,    8,    2,\n",
              "            15,  233,    8,   36,    8,    2,   80,   13], dtype=torch.int32),\n",
              "  tensor([  97,   29,    8,    2,   10,   43,   62,   83,   36,  124,    2,   10,\n",
              "          1713,   25,   18,  196,    3,   20,  169,    2,   14,    4,   12, 1434,\n",
              "             2,    4,    5,   56,   27,    2,   14,    4,    2,  203,    2,   14,\n",
              "             4,   12,  918,    3,   36,   61,    2,    4,    5,  275,    9, 1713,\n",
              "            27,   18,   45,    8,    2,   11,    5,   26,   87,    2,   11,   13,\n",
              "            80,    2,   10,  965,    2,    5,   17,   18, 1085,    3,    6,    6,\n",
              "            94,   72,    2,    4,    5,   18,   45,    7,   24,    8,    2,   15,\n",
              "           249,    8,    2,   32,  124,  186, 1713,    3,  496,   33,  275,    2,\n",
              "            14,    4,   27,    2,   46,   13,    7,    2,   11,   13,   80,    2,\n",
              "            46,   37, 1085,   74,  243,   45,   82,    7,   24,    8,    2,   15,\n",
              "           233,    8,   36,    8,    2,   80,   13,   73], dtype=torch.int32)))"
            ]
          },
          "metadata": {},
          "execution_count": 32
        }
      ]
    },
    {
      "cell_type": "code",
      "source": [
        "import torch\n",
        "\n",
        "# tokenized_train_samples = torch.load('/content/drive/MyDrive/tokenized-train-samples_vocab-10k.pt')\n",
        "# tokenized_valid_samples = torch.load('/content/drive/MyDrive/tokenized-valid-samples_vocab-10k.pt')\n",
        "\n",
        "# the path for files\n",
        "train_tokens_path = \"/content/drive/MyDrive/tokenized-train-samples_vocab-10k.pt\"\n",
        "valid_tokens_path = \"/content/drive/MyDrive/tokenized-valid-samples_vocab-10k.pt\"\n",
        "\n",
        "# loading from files\n",
        "train_token_ids = torch.load(train_tokens_path)\n",
        "valid_token_ids = torch.load(valid_tokens_path)\n",
        "\n",
        "print(\"✅ Train tokens:\", train_token_ids.shape)\n",
        "print(\"✅ Valid tokens:\", valid_token_ids.shape)"
      ],
      "metadata": {
        "colab": {
          "base_uri": "https://localhost:8080/"
        },
        "id": "g9Boh6kF16iA",
        "outputId": "b2e4f77c-55ee-464d-e5f7-fffc8c0db4e5"
      },
      "execution_count": null,
      "outputs": [
        {
          "output_type": "stream",
          "name": "stdout",
          "text": [
            "✅ Train tokens: torch.Size([283211092])\n",
            "✅ Valid tokens: torch.Size([2586183])\n"
          ]
        }
      ]
    },
    {
      "cell_type": "code",
      "source": [
        "seq_len = 128\n",
        "\n",
        "train_set = TinyStoriesDataset(train_token_ids, seq_len)\n",
        "valid_set = TinyStoriesDataset(valid_token_ids, seq_len)\n",
        "\n",
        "print(f\"📊 Number of Samples\")\n",
        "print(f\"🔹 Train: {len(train_set):,} samples\")\n",
        "print(f\"🔹 Valid: {len(valid_set):,} samples\")"
      ],
      "metadata": {
        "colab": {
          "base_uri": "https://localhost:8080/"
        },
        "collapsed": true,
        "id": "RHAsffEfZE_O",
        "outputId": "4eb098c7-736c-4ad1-c31c-32eae2dc5c82"
      },
      "execution_count": null,
      "outputs": [
        {
          "output_type": "stream",
          "name": "stdout",
          "text": [
            "📊 Number of Samples\n",
            "🔹 Train: 2,195,434 samples\n",
            "🔹 Valid: 20,047 samples\n"
          ]
        }
      ]
    },
    {
      "cell_type": "code",
      "source": [
        "train_token_ids"
      ],
      "metadata": {
        "colab": {
          "base_uri": "https://localhost:8080/"
        },
        "id": "xkRQ2DjTZGqP",
        "outputId": "3a9ef0d5-01b2-4eb0-c414-4de238f32fc8"
      },
      "execution_count": null,
      "outputs": [
        {
          "output_type": "execute_result",
          "data": {
            "text/plain": [
              "tensor([  1,  97,  29,  ..., 168, 395,   3], dtype=torch.int32)"
            ]
          },
          "metadata": {},
          "execution_count": 35
        }
      ]
    },
    {
      "cell_type": "markdown",
      "source": [
        "#DataLoader"
      ],
      "metadata": {
        "id": "mgjbA4MFZK-R"
      }
    },
    {
      "cell_type": "code",
      "source": [
        "tokenized_train_samples = torch.load('/content/drive/MyDrive/tokenized-train-samples_vocab-10k.pt')\n",
        "tokenized_valid_samples = torch.load('/content/drive/MyDrive/tokenized-valid-samples_vocab-10k.pt')\n",
        "\n",
        "train_set = TinyStoriesDataset(tokenized_train_samples, seq_len=128)\n",
        "valid_set = TinyStoriesDataset(tokenized_valid_samples, seq_len=128)"
      ],
      "metadata": {
        "id": "t_dgq67-ZMTs"
      },
      "execution_count": null,
      "outputs": []
    },
    {
      "cell_type": "code",
      "source": [
        "train_loader = DataLoader(train_set, batch_size=32, shuffle=True, pin_memory=True)#, num_workers=4)\n",
        "valid_loader = DataLoader(valid_set, batch_size=32, shuffle=False, pin_memory=True)#, num_workers=4)"
      ],
      "metadata": {
        "id": "ljRuXPH5ZP7d"
      },
      "execution_count": null,
      "outputs": []
    },
    {
      "cell_type": "code",
      "source": [
        "x_batch, y_batch = next(iter(train_loader))\n",
        "x_batch.shape, y_batch.shape"
      ],
      "metadata": {
        "colab": {
          "base_uri": "https://localhost:8080/"
        },
        "id": "gH8PxEjHZSk6",
        "outputId": "e40d0fa2-1446-4789-9870-c8ac156f1bee"
      },
      "execution_count": null,
      "outputs": [
        {
          "output_type": "execute_result",
          "data": {
            "text/plain": [
              "(torch.Size([32, 128]), torch.Size([32, 128]))"
            ]
          },
          "metadata": {},
          "execution_count": 38
        }
      ]
    },
    {
      "cell_type": "code",
      "source": [
        "for x_batch, y_batch in train_loader:\n",
        "    print(x_batch.shape, y_batch.shape)\n",
        "    break"
      ],
      "metadata": {
        "colab": {
          "base_uri": "https://localhost:8080/"
        },
        "id": "1LmVno9fZTHU",
        "outputId": "61d22994-ad4e-496d-84c9-83cc7766da89"
      },
      "execution_count": null,
      "outputs": [
        {
          "output_type": "stream",
          "name": "stdout",
          "text": [
            "torch.Size([32, 128]) torch.Size([32, 128])\n"
          ]
        }
      ]
    },
    {
      "cell_type": "code",
      "source": [
        "len(train_loader), len(valid_loader)"
      ],
      "metadata": {
        "id": "WPLAnDZrZW6P",
        "colab": {
          "base_uri": "https://localhost:8080/"
        },
        "outputId": "08234f51-bc4d-46e4-bae8-44eb30bba3d7"
      },
      "execution_count": null,
      "outputs": [
        {
          "output_type": "execute_result",
          "data": {
            "text/plain": [
              "(68608, 627)"
            ]
          },
          "metadata": {},
          "execution_count": 62
        }
      ]
    },
    {
      "cell_type": "code",
      "source": [
        "# Load tokens from pytorch file\n",
        "train_token_ids = torch.load('/content/drive/MyDrive/tokenized-train-samples_vocab-10k.pt')\n",
        "valid_token_ids = torch.load('/content/drive/MyDrive/tokenized-valid-samples_vocab-10k.pt')\n",
        "\n",
        "print(\"📊 Number of Tokens\")\n",
        "print(f\"🔹 Train: {len(train_token_ids):,} tokens\")\n",
        "print(f\"🔹 Valid: {len(valid_token_ids):,} tokens\")"
      ],
      "metadata": {
        "colab": {
          "base_uri": "https://localhost:8080/"
        },
        "id": "pIfKyLCNZhgt",
        "outputId": "e9a9ed9d-a26c-47cf-ed7a-35a8dc3382f2"
      },
      "execution_count": null,
      "outputs": [
        {
          "output_type": "stream",
          "name": "stdout",
          "text": [
            "📊 Number of Tokens\n",
            "🔹 Train: 283,211,092 tokens\n",
            "🔹 Valid: 2,586,183 tokens\n"
          ]
        }
      ]
    },
    {
      "cell_type": "code",
      "source": [
        "x, y = next(iter(train_set))\n",
        "\n",
        "print(f\"📊 Sample Shapes\")\n",
        "print(f\"🔹 Input: {x.shape}\")\n",
        "print(f\"🔹 Target: {y.shape}\")"
      ],
      "metadata": {
        "colab": {
          "base_uri": "https://localhost:8080/"
        },
        "id": "wZW8uwfhZlco",
        "outputId": "828272f9-e7d8-4859-e7d7-cef8c6b46322"
      },
      "execution_count": null,
      "outputs": [
        {
          "output_type": "stream",
          "name": "stdout",
          "text": [
            "📊 Sample Shapes\n",
            "🔹 Input: torch.Size([128])\n",
            "🔹 Target: torch.Size([128])\n"
          ]
        }
      ]
    },
    {
      "cell_type": "code",
      "source": [
        "torch.manual_seed(1337)\n",
        "batch_size = 64\n",
        "\n",
        "train_loader = DataLoader(train_set, batch_size=batch_size, shuffle=True, pin_memory=True)#, num_workers=4)\n",
        "valid_loader = DataLoader(valid_set, batch_size=batch_size, shuffle=False, pin_memory=True)#, num_workers=4)\n",
        "\n",
        "print(f\"📊 Number of Batches\")\n",
        "print(f\"🔹 Train: {len(train_loader):,} batches\")\n",
        "print(f\"🔹 Valid: {len(valid_loader):,} batches\")"
      ],
      "metadata": {
        "colab": {
          "base_uri": "https://localhost:8080/"
        },
        "id": "DlOf3dKHZpgM",
        "outputId": "3a86f6f8-858e-4b76-f407-0a3c9452c1c5"
      },
      "execution_count": null,
      "outputs": [
        {
          "output_type": "stream",
          "name": "stdout",
          "text": [
            "📊 Number of Batches\n",
            "🔹 Train: 34,304 batches\n",
            "🔹 Valid: 314 batches\n"
          ]
        }
      ]
    },
    {
      "cell_type": "code",
      "source": [
        "x_batch, y_batch = next(iter(train_loader))\n",
        "\n",
        "print(f\"📊 Batch Shapes\")\n",
        "print(f\"🔹 Input: {x_batch.shape}\")\n",
        "print(f\"🔹 Target: {y_batch.shape}\")"
      ],
      "metadata": {
        "colab": {
          "base_uri": "https://localhost:8080/"
        },
        "id": "KnggY2LFZry2",
        "outputId": "07816b08-4d1c-4501-bb97-a929b439a75f"
      },
      "execution_count": null,
      "outputs": [
        {
          "output_type": "stream",
          "name": "stdout",
          "text": [
            "📊 Batch Shapes\n",
            "🔹 Input: torch.Size([64, 128])\n",
            "🔹 Target: torch.Size([64, 128])\n"
          ]
        }
      ]
    },
    {
      "cell_type": "markdown",
      "source": [
        "#Model"
      ],
      "metadata": {
        "id": "k3Y2N9YcZt9N"
      }
    },
    {
      "cell_type": "markdown",
      "source": [
        "Embedding"
      ],
      "metadata": {
        "id": "GQUPsrCHZxGC"
      }
    },
    {
      "cell_type": "code",
      "source": [
        "wte = nn.Embedding(tokenizer.get_vocab_size(), 100)\n",
        "wte(torch.tensor([1, 2, 100])).shape"
      ],
      "metadata": {
        "colab": {
          "base_uri": "https://localhost:8080/"
        },
        "id": "1xsjfukDZuw5",
        "outputId": "fcda8c24-7898-476d-9451-a318d09027c7"
      },
      "execution_count": null,
      "outputs": [
        {
          "output_type": "execute_result",
          "data": {
            "text/plain": [
              "torch.Size([3, 100])"
            ]
          },
          "metadata": {},
          "execution_count": 44
        }
      ]
    },
    {
      "cell_type": "code",
      "source": [
        "wpe = nn.Embedding(seq_len, 100)\n",
        "wpe(torch.tensor([1, 2, 100])).shape"
      ],
      "metadata": {
        "colab": {
          "base_uri": "https://localhost:8080/"
        },
        "id": "-xTj2PpbasaM",
        "outputId": "c5d6fab3-43c5-4c84-94b5-3cbc0f7e7a51"
      },
      "execution_count": null,
      "outputs": [
        {
          "output_type": "execute_result",
          "data": {
            "text/plain": [
              "torch.Size([3, 100])"
            ]
          },
          "metadata": {},
          "execution_count": 45
        }
      ]
    },
    {
      "cell_type": "code",
      "source": [
        "x = wte(x_batch) + wpe(torch.arange(x_batch.shape[1]))\n",
        "x.shape"
      ],
      "metadata": {
        "colab": {
          "base_uri": "https://localhost:8080/"
        },
        "collapsed": true,
        "id": "riOXFYZGauqX",
        "outputId": "9cde7fcc-437a-41c1-d379-e84c0bb4a98c"
      },
      "execution_count": null,
      "outputs": [
        {
          "output_type": "execute_result",
          "data": {
            "text/plain": [
              "torch.Size([64, 128, 100])"
            ]
          },
          "metadata": {},
          "execution_count": 46
        }
      ]
    },
    {
      "cell_type": "markdown",
      "source": [
        "Scaled Dot-Product Attention (SDPA)"
      ],
      "metadata": {
        "id": "tE9VFJCaaxhd"
      }
    },
    {
      "cell_type": "code",
      "source": [
        "q = k = v = x\n",
        "print(q.shape)\n",
        "\n",
        "mask = torch.tril(torch.ones(seq_len, seq_len))\n",
        "\n",
        "scores = q @ k.transpose(-2, -1) / (k.shape[-1]**0.5)\n",
        "scores.masked_fill_(mask ==0, float(-torch.inf))\n",
        "scores = scores.softmax(dim=-1)\n",
        "print(scores.shape)\n",
        "\n",
        "z = scores @ v\n",
        "z.shape"
      ],
      "metadata": {
        "colab": {
          "base_uri": "https://localhost:8080/"
        },
        "id": "-AFT-vOFazGw",
        "outputId": "c39f725d-ee5f-446a-9b8b-09bb300d3c8d"
      },
      "execution_count": null,
      "outputs": [
        {
          "output_type": "stream",
          "name": "stdout",
          "text": [
            "torch.Size([64, 128, 100])\n",
            "torch.Size([64, 128, 128])\n"
          ]
        },
        {
          "output_type": "execute_result",
          "data": {
            "text/plain": [
              "torch.Size([64, 128, 100])"
            ]
          },
          "metadata": {},
          "execution_count": 47
        }
      ]
    },
    {
      "cell_type": "code",
      "source": [
        "def scaled_dot_product_attention(q, k, v):\n",
        "    mask = torch.tril(torch.ones(q.shape[-2], q.shape[-2])).to(device)\n",
        "    scores = q @ k.transpose(-2, -1) / (k.shape[-1]**0.5)\n",
        "    scores.masked_fill_(mask==0, float(-torch.inf))\n",
        "    scores = scores.softmax(dim=-1)\n",
        "    z = scores @ v\n",
        "    return z"
      ],
      "metadata": {
        "id": "hM1Ub5wYa1RB"
      },
      "execution_count": null,
      "outputs": []
    },
    {
      "cell_type": "code",
      "source": [
        "scaled_dot_product_attention(x.to(device), x.to(device), x.to(device)).shape"
      ],
      "metadata": {
        "id": "RPL_95-Va5X7",
        "colab": {
          "base_uri": "https://localhost:8080/"
        },
        "outputId": "e701e7f0-e8d6-4088-b4d2-fb31fa8f765b"
      },
      "execution_count": null,
      "outputs": [
        {
          "output_type": "execute_result",
          "data": {
            "text/plain": [
              "torch.Size([64, 128, 100])"
            ]
          },
          "metadata": {},
          "execution_count": 49
        }
      ]
    },
    {
      "cell_type": "code",
      "source": [
        "q = torch.randn((128, 1024, 768), device=device)\n",
        "k = torch.randn((128, 1024, 768), device=device)\n",
        "v = torch.randn((128, 1024, 768), device=device)\n",
        "q.shape"
      ],
      "metadata": {
        "id": "Qapg9NHea7zF",
        "colab": {
          "base_uri": "https://localhost:8080/"
        },
        "outputId": "3b80a02f-5da7-4a5c-b206-91d6cec399d5"
      },
      "execution_count": null,
      "outputs": [
        {
          "output_type": "execute_result",
          "data": {
            "text/plain": [
              "torch.Size([128, 1024, 768])"
            ]
          },
          "metadata": {},
          "execution_count": 50
        }
      ]
    },
    {
      "cell_type": "code",
      "source": [
        "scaled_dot_product_attention(q, k, v).shape"
      ],
      "metadata": {
        "id": "sestIkZHa9Se",
        "colab": {
          "base_uri": "https://localhost:8080/"
        },
        "outputId": "0927540d-13ab-4e0d-fa09-d2bdf9bba355"
      },
      "execution_count": null,
      "outputs": [
        {
          "output_type": "execute_result",
          "data": {
            "text/plain": [
              "torch.Size([128, 1024, 768])"
            ]
          },
          "metadata": {},
          "execution_count": 51
        }
      ]
    },
    {
      "cell_type": "code",
      "source": [
        "calculate_time(scaled_dot_product_attention, (q, k, v), num_runs=20)"
      ],
      "metadata": {
        "id": "_8fA7WwKbGaK",
        "colab": {
          "base_uri": "https://localhost:8080/"
        },
        "outputId": "38c1e716-6b46-4911-ab43-8af4f499f1cb"
      },
      "execution_count": null,
      "outputs": [
        {
          "output_type": "execute_result",
          "data": {
            "text/plain": [
              "0.11742721796035767"
            ]
          },
          "metadata": {},
          "execution_count": 52
        }
      ]
    },
    {
      "cell_type": "code",
      "source": [
        "F.scaled_dot_product_attention(q, k, v, is_causal=True).shape"
      ],
      "metadata": {
        "id": "fI9BNpDKbH4h",
        "colab": {
          "base_uri": "https://localhost:8080/"
        },
        "outputId": "d38fbeba-4963-4d81-c52a-b471d692e43f"
      },
      "execution_count": null,
      "outputs": [
        {
          "output_type": "execute_result",
          "data": {
            "text/plain": [
              "torch.Size([128, 1024, 768])"
            ]
          },
          "metadata": {},
          "execution_count": 53
        }
      ]
    },
    {
      "cell_type": "code",
      "source": [
        "torch.abs(scaled_dot_product_attention(q, k, v) - F.scaled_dot_product_attention(q, k, v, is_causal=True)).max()"
      ],
      "metadata": {
        "id": "jccI9ZjBbKMl",
        "colab": {
          "base_uri": "https://localhost:8080/"
        },
        "outputId": "ea51b531-92e5-4f73-d6b2-cbf4e49678c2"
      },
      "execution_count": null,
      "outputs": [
        {
          "output_type": "execute_result",
          "data": {
            "text/plain": [
              "tensor(6.4373e-06, device='cuda:0')"
            ]
          },
          "metadata": {},
          "execution_count": 54
        }
      ]
    },
    {
      "cell_type": "code",
      "source": [
        "calculate_time(F.scaled_dot_product_attention, (q, k, v), num_runs=20)"
      ],
      "metadata": {
        "id": "BHQLInEkbML5",
        "colab": {
          "base_uri": "https://localhost:8080/"
        },
        "outputId": "0580a1ee-adc7-4583-cb70-06b4807fd9f2"
      },
      "execution_count": null,
      "outputs": [
        {
          "output_type": "execute_result",
          "data": {
            "text/plain": [
              "0.12299958467483521"
            ]
          },
          "metadata": {},
          "execution_count": 55
        }
      ]
    },
    {
      "cell_type": "markdown",
      "source": [
        "Multi Head Attention"
      ],
      "metadata": {
        "id": "Fh9K3ndUbN_U"
      }
    },
    {
      "cell_type": "code",
      "source": [
        "class GPTConfig:\n",
        "    n_embd: int = 100\n",
        "    n_head: int = 5\n",
        "\n",
        "config = GPTConfig()\n",
        "config.n_embd"
      ],
      "metadata": {
        "id": "xYaRfr2dbOm3",
        "colab": {
          "base_uri": "https://localhost:8080/"
        },
        "outputId": "d31d4616-64b3-4324-e984-50fb82ecdff2"
      },
      "execution_count": null,
      "outputs": [
        {
          "output_type": "execute_result",
          "data": {
            "text/plain": [
              "100"
            ]
          },
          "metadata": {},
          "execution_count": 56
        }
      ]
    },
    {
      "cell_type": "code",
      "source": [
        "class MultiHeadAttention(nn.Module):\n",
        "\n",
        "    def __init__(self, config):\n",
        "        super().__init__()\n",
        "        self.n_embd = config.n_embd\n",
        "        self.n_head = config.n_head\n",
        "        self.head_size = self.n_embd // self.n_head\n",
        "\n",
        "        self.qkv_proj = nn.Linear(self.n_embd, 3*self.n_embd, bias=False)\n",
        "\n",
        "        self.c_proj = nn.Linear(self.n_embd, self.n_embd, bias=False)\n",
        "        self.c_proj.residual = True\n",
        "\n",
        "    def forward(self, x):\n",
        "        B, T, C = x.shape\n",
        "        q, k, v = self.qkv_proj(x).view(B, T, 3*self.n_head, self.head_size).transpose(1, 2).chunk(3, dim=-3)\n",
        "\n",
        "        y = F.scaled_dot_product_attention(q, k, v, is_causal=True)\n",
        "\n",
        "        y = y.transpose(1, 2).contiguous().view(B, T, C)\n",
        "\n",
        "        y = self.c_proj(y)\n",
        "        return y"
      ],
      "metadata": {
        "id": "jSnIoh8YbRY7"
      },
      "execution_count": null,
      "outputs": []
    },
    {
      "cell_type": "code",
      "source": [
        "mha = MultiHeadAttention(config)\n",
        "mha(x).shape"
      ],
      "metadata": {
        "id": "sp2b1X1FbVWW",
        "colab": {
          "base_uri": "https://localhost:8080/"
        },
        "outputId": "f8d4df5d-f62b-4945-ac3c-df14c2a5e274"
      },
      "execution_count": null,
      "outputs": [
        {
          "output_type": "execute_result",
          "data": {
            "text/plain": [
              "torch.Size([64, 128, 100])"
            ]
          },
          "metadata": {},
          "execution_count": 58
        }
      ]
    },
    {
      "cell_type": "code",
      "source": [
        "calculate_time(mha.to(device), (x.to(device),), num_runs=20)"
      ],
      "metadata": {
        "id": "PwY8Yd3HbavA",
        "colab": {
          "base_uri": "https://localhost:8080/"
        },
        "outputId": "5264fd4a-1e73-46d5-8dab-e6f7048a1048"
      },
      "execution_count": null,
      "outputs": [
        {
          "output_type": "execute_result",
          "data": {
            "text/plain": [
              "0.002190828323364258"
            ]
          },
          "metadata": {},
          "execution_count": 59
        }
      ]
    },
    {
      "cell_type": "markdown",
      "source": [
        "Feed Forward (MLP)"
      ],
      "metadata": {
        "id": "9JWEc5hWbeEt"
      }
    },
    {
      "cell_type": "code",
      "source": [
        "class GPTConfig:\n",
        "    n_embd: int = 100\n",
        "    n_head: int = 5\n",
        "    f_expnd: float = 4\n",
        "\n",
        "config = GPTConfig()\n",
        "config.n_embd"
      ],
      "metadata": {
        "id": "aj12BOsebgL-",
        "colab": {
          "base_uri": "https://localhost:8080/"
        },
        "outputId": "882fe186-e0ad-48a8-99bb-57c2964ff686"
      },
      "execution_count": null,
      "outputs": [
        {
          "output_type": "execute_result",
          "data": {
            "text/plain": [
              "100"
            ]
          },
          "metadata": {},
          "execution_count": 60
        }
      ]
    },
    {
      "cell_type": "code",
      "source": [
        "class FeedForward(nn.Module):\n",
        "\n",
        "    def __init__(self, config):\n",
        "        super().__init__()\n",
        "        self.n_embd = config.n_embd\n",
        "        self.f_expnd = config.f_expnd\n",
        "\n",
        "        self.up_proj = nn.Linear(self.n_embd, int(self.f_expnd*self.n_embd), bias=False)\n",
        "        self.down_proj = nn.Linear(int(self.f_expnd*self.n_embd), self.n_embd, bias=False)\n",
        "        self.down_proj.residual = True\n",
        "\n",
        "    def forward(self, x):\n",
        "        return self.down_proj(F.gelu(self.up_proj(x)))"
      ],
      "metadata": {
        "id": "kjRSykkrbjvQ"
      },
      "execution_count": null,
      "outputs": []
    },
    {
      "cell_type": "code",
      "source": [
        "mlp = FeedForward(config)\n",
        "mlp(x).shape"
      ],
      "metadata": {
        "id": "MsikdpAJbmDv",
        "colab": {
          "base_uri": "https://localhost:8080/"
        },
        "outputId": "9132fb9a-c876-430b-ba08-5905e398da18"
      },
      "execution_count": null,
      "outputs": [
        {
          "output_type": "execute_result",
          "data": {
            "text/plain": [
              "torch.Size([64, 128, 100])"
            ]
          },
          "metadata": {},
          "execution_count": 62
        }
      ]
    },
    {
      "cell_type": "code",
      "source": [
        "num_trainable_params(mlp)*1000"
      ],
      "metadata": {
        "id": "zOcaIgWCbbIP",
        "colab": {
          "base_uri": "https://localhost:8080/"
        },
        "outputId": "44026885-583b-4a4e-92b8-79e6b44be8ee"
      },
      "execution_count": null,
      "outputs": [
        {
          "output_type": "execute_result",
          "data": {
            "text/plain": [
              "80.0"
            ]
          },
          "metadata": {},
          "execution_count": 63
        }
      ]
    },
    {
      "cell_type": "markdown",
      "source": [
        "Decoder Block"
      ],
      "metadata": {
        "id": "LTpCV7VMbq3y"
      }
    },
    {
      "cell_type": "code",
      "source": [
        "class DecoderBlock(nn.Module):\n",
        "\n",
        "    def __init__(self, config):\n",
        "        super().__init__()\n",
        "        self.n_embd = config.n_embd\n",
        "\n",
        "        self.ln1 = nn.LayerNorm(config.n_embd)\n",
        "        self.mha = MultiHeadAttention(config)\n",
        "\n",
        "        self.ln2 = nn.LayerNorm(config.n_embd)\n",
        "        self.mlp = FeedForward(config)\n",
        "\n",
        "    def forward(self, x):\n",
        "        x = x + self.mha(self.ln1(x))\n",
        "        x = x + self.mlp(self.ln2(x))\n",
        "        return x"
      ],
      "metadata": {
        "id": "ZKbQGj17br_d"
      },
      "execution_count": null,
      "outputs": []
    },
    {
      "cell_type": "code",
      "source": [
        "decoder = DecoderBlock(config)\n",
        "decoder(x).shape"
      ],
      "metadata": {
        "id": "1HbIHYN7buRI",
        "colab": {
          "base_uri": "https://localhost:8080/"
        },
        "outputId": "43f996ed-af1e-4757-e82c-8d5532513e52"
      },
      "execution_count": null,
      "outputs": [
        {
          "output_type": "execute_result",
          "data": {
            "text/plain": [
              "torch.Size([64, 128, 100])"
            ]
          },
          "metadata": {},
          "execution_count": 65
        }
      ]
    },
    {
      "cell_type": "code",
      "source": [
        "num_trainable_params(decoder) * 1e3"
      ],
      "metadata": {
        "id": "EJY5XqhAbweC",
        "colab": {
          "base_uri": "https://localhost:8080/"
        },
        "outputId": "721b15a6-0e63-4b18-90a1-45a5841910ff"
      },
      "execution_count": null,
      "outputs": [
        {
          "output_type": "execute_result",
          "data": {
            "text/plain": [
              "120.39999999999999"
            ]
          },
          "metadata": {},
          "execution_count": 66
        }
      ]
    },
    {
      "cell_type": "code",
      "source": [
        "calculate_time(decoder, (x, ), num_runs=20) * 1e3"
      ],
      "metadata": {
        "id": "wISQ-sBWbyeB",
        "colab": {
          "base_uri": "https://localhost:8080/"
        },
        "outputId": "6be68522-0b53-4b60-d7af-dd6bfb28e7d3"
      },
      "execution_count": null,
      "outputs": [
        {
          "output_type": "execute_result",
          "data": {
            "text/plain": [
              "63.54227066040038"
            ]
          },
          "metadata": {},
          "execution_count": 89
        }
      ]
    },
    {
      "cell_type": "markdown",
      "source": [
        "#GPT"
      ],
      "metadata": {
        "id": "bahKKinUbzwf"
      }
    },
    {
      "cell_type": "code",
      "source": [
        "class GPTConfig:\n",
        "    vocab_size: int = 10_000\n",
        "    seq_len: int = 128\n",
        "    n_layer: int = 12\n",
        "    n_embd: int = 100\n",
        "    n_head: int = 5\n",
        "    f_expnd: float = 4\n",
        "\n",
        "\n",
        "config = GPTConfig()\n",
        "config.n_embd"
      ],
      "metadata": {
        "id": "-UlmiAWRb1CA",
        "colab": {
          "base_uri": "https://localhost:8080/"
        },
        "outputId": "4084557c-8db6-40b4-8905-bc91d13fe9fa"
      },
      "execution_count": null,
      "outputs": [
        {
          "output_type": "execute_result",
          "data": {
            "text/plain": [
              "100"
            ]
          },
          "metadata": {},
          "execution_count": 67
        }
      ]
    },
    {
      "cell_type": "code",
      "source": [
        "class GPT(nn.Module):\n",
        "\n",
        "    def __init__(self, config):\n",
        "        super().__init__()\n",
        "        self.config = config\n",
        "        self.wte = nn.Embedding(config.vocab_size, config.n_embd)\n",
        "        self.wpe = nn.Embedding(config.seq_len, config.n_embd)\n",
        "        # self.decoders = nn.Sequential(*[DecoderBlock(config) for _ in range(config.n_layer)])\n",
        "        self.decoders = nn.ModuleList([DecoderBlock(config) for _ in range(config.n_layer)])\n",
        "        self.lnf = nn.LayerNorm(config.n_embd)\n",
        "        self.lm_head = nn.Linear(config.n_embd, config.vocab_size, bias=False)\n",
        "\n",
        "        self.lm_head.weight = self.wte.weight\n",
        "        # self.lm_head.weight.data.uniform_(-1/self.lm_head.in_features**0.5, 1/self.lm_head.in_features**0.5)\n",
        "        # nn.init.uniform_(self.lm_head.weight, -1/self.lm_head.in_features**0.5, 1/self.lm_head.in_features**0.5)\n",
        "\n",
        "        self.apply(self._init_weights)\n",
        "\n",
        "    def _init_weights(self, module):\n",
        "        std = 0.02\n",
        "        if isinstance(module, nn.Linear):\n",
        "            if hasattr(module, 'residual'):\n",
        "                std *= (2*self.config.n_layer)**-0.5\n",
        "            nn.init.normal_(module.weight, mean=0.0, std=std)\n",
        "            if module.bias is not None:\n",
        "                nn.init.zeros_(module.bias)\n",
        "        elif isinstance(module, nn.Embedding):\n",
        "            nn.init.normal_(module.weight, mean=0.0, std=std)\n",
        "\n",
        "    def forward(self, idx):\n",
        "        B, T = idx.shape\n",
        "\n",
        "        x = self.wte(idx) + self.wpe(torch.arange(T, device=device))\n",
        "\n",
        "        # x = self.decoders(x)\n",
        "        for decoder in self.decoders:\n",
        "            x = decoder(x)\n",
        "\n",
        "        x = self.lnf(x)\n",
        "        logits = self.lm_head(x)\n",
        "        return logits"
      ],
      "metadata": {
        "id": "fqbrO3-pb3d5"
      },
      "execution_count": null,
      "outputs": []
    },
    {
      "cell_type": "code",
      "source": [
        "model = GPT(config).to(device)\n",
        "model(x_batch.to(device)).shape"
      ],
      "metadata": {
        "id": "P4XJt_gIb9ku",
        "colab": {
          "base_uri": "https://localhost:8080/"
        },
        "outputId": "246357c6-fba8-4930-ab23-fee30f540bde"
      },
      "execution_count": null,
      "outputs": [
        {
          "output_type": "execute_result",
          "data": {
            "text/plain": [
              "torch.Size([64, 128, 10000])"
            ]
          },
          "metadata": {},
          "execution_count": 69
        }
      ]
    },
    {
      "cell_type": "code",
      "source": [
        "num_trainable_params(model), num_trainable_params(model.decoders), num_trainable_params(model.lm_head)"
      ],
      "metadata": {
        "id": "rfuXVWXHb-nq",
        "colab": {
          "base_uri": "https://localhost:8080/"
        },
        "outputId": "b7138c29-d247-4785-bc79-b326fed543d2"
      },
      "execution_count": null,
      "outputs": [
        {
          "output_type": "execute_result",
          "data": {
            "text/plain": [
              "(2.4578, 1.4448, 1.0)"
            ]
          },
          "metadata": {},
          "execution_count": 70
        }
      ]
    },
    {
      "cell_type": "code",
      "source": [
        "calculate_time(model, (x_batch.to(device),), num_runs=100) * 1e3"
      ],
      "metadata": {
        "id": "-QfrQTmecBN8",
        "colab": {
          "base_uri": "https://localhost:8080/"
        },
        "outputId": "0805fce0-d614-4fee-9f6c-0d5a0b19029a"
      },
      "execution_count": null,
      "outputs": [
        {
          "output_type": "execute_result",
          "data": {
            "text/plain": [
              "22.877004146575928"
            ]
          },
          "metadata": {},
          "execution_count": 71
        }
      ]
    },
    {
      "cell_type": "markdown",
      "source": [
        "#Config"
      ],
      "metadata": {
        "id": "ShFZoGlicH5U"
      }
    },
    {
      "cell_type": "code",
      "source": [
        "@dataclass\n",
        "class GPTConfig:\n",
        "    vocab_size: int = 50257 # number of tokens\n",
        "    seq_len: int = 1024 # max sequence length\n",
        "    n_layer: int = 12 # number of layers\n",
        "    n_head: int = 12 # number of heads\n",
        "    n_embd: int = 768 # embedding dimension\n",
        "    f_expnd: int = 4 # expansion factor in mlp"
      ],
      "metadata": {
        "id": "fJ9sRMB6cJHs"
      },
      "execution_count": null,
      "outputs": []
    },
    {
      "cell_type": "code",
      "source": [
        "model = GPT(GPTConfig()).to(device)\n",
        "model"
      ],
      "metadata": {
        "id": "cf_eIwtOcMxX",
        "colab": {
          "base_uri": "https://localhost:8080/"
        },
        "outputId": "0b4291ed-1eb4-494b-d438-981ceb1c605d"
      },
      "execution_count": null,
      "outputs": [
        {
          "output_type": "execute_result",
          "data": {
            "text/plain": [
              "GPT(\n",
              "  (wte): Embedding(50257, 768)\n",
              "  (wpe): Embedding(1024, 768)\n",
              "  (decoders): ModuleList(\n",
              "    (0-11): 12 x DecoderBlock(\n",
              "      (ln1): LayerNorm((768,), eps=1e-05, elementwise_affine=True)\n",
              "      (mha): MultiHeadAttention(\n",
              "        (qkv_proj): Linear(in_features=768, out_features=2304, bias=False)\n",
              "        (c_proj): Linear(in_features=768, out_features=768, bias=False)\n",
              "      )\n",
              "      (ln2): LayerNorm((768,), eps=1e-05, elementwise_affine=True)\n",
              "      (mlp): FeedForward(\n",
              "        (up_proj): Linear(in_features=768, out_features=3072, bias=False)\n",
              "        (down_proj): Linear(in_features=3072, out_features=768, bias=False)\n",
              "      )\n",
              "    )\n",
              "  )\n",
              "  (lnf): LayerNorm((768,), eps=1e-05, elementwise_affine=True)\n",
              "  (lm_head): Linear(in_features=768, out_features=50257, bias=False)\n",
              ")"
            ]
          },
          "metadata": {},
          "execution_count": 73
        }
      ]
    },
    {
      "cell_type": "code",
      "source": [
        "num_trainable_params(model)\n",
        "\n",
        "print(f\"🔹 Trainable parameters: {num_trainable_params(model):,}\")"
      ],
      "metadata": {
        "id": "sKL7rBFJcQTq",
        "colab": {
          "base_uri": "https://localhost:8080/"
        },
        "outputId": "b7d9f375-f116-462e-ca11-f0934d127572"
      },
      "execution_count": null,
      "outputs": [
        {
          "output_type": "stream",
          "name": "stdout",
          "text": [
            "🔹 Trainable parameters: 124.356864\n"
          ]
        }
      ]
    },
    {
      "cell_type": "code",
      "source": [
        "config = GPTConfig(vocab_size=10_000, seq_len=128)\n",
        "config"
      ],
      "metadata": {
        "id": "G9W028KdcR1F",
        "colab": {
          "base_uri": "https://localhost:8080/"
        },
        "outputId": "586f70c4-f2b2-43cd-98c7-16abc63fa96f"
      },
      "execution_count": null,
      "outputs": [
        {
          "output_type": "execute_result",
          "data": {
            "text/plain": [
              "GPTConfig(vocab_size=10000, seq_len=128, n_layer=12, n_head=12, n_embd=768, f_expnd=4)"
            ]
          },
          "metadata": {},
          "execution_count": 75
        }
      ]
    },
    {
      "cell_type": "code",
      "source": [
        "model = GPT(\n",
        "    GPTConfig(\n",
        "        seq_len=256, vocab_size=10_000, n_layer=4, n_embd=256, n_head=4\n",
        "        )).to(device)\n",
        "\n",
        "print(f\"🔹 Trainable parameters: {num_trainable_params(model):,}\")\n",
        "print(model)"
      ],
      "metadata": {
        "id": "CQqAKuVwcUKc",
        "colab": {
          "base_uri": "https://localhost:8080/"
        },
        "outputId": "1b9ef6c4-dbbe-489e-92c7-d20f87661a58"
      },
      "execution_count": null,
      "outputs": [
        {
          "output_type": "stream",
          "name": "stdout",
          "text": [
            "🔹 Trainable parameters: 5.775872\n",
            "GPT(\n",
            "  (wte): Embedding(10000, 256)\n",
            "  (wpe): Embedding(256, 256)\n",
            "  (decoders): ModuleList(\n",
            "    (0-3): 4 x DecoderBlock(\n",
            "      (ln1): LayerNorm((256,), eps=1e-05, elementwise_affine=True)\n",
            "      (mha): MultiHeadAttention(\n",
            "        (qkv_proj): Linear(in_features=256, out_features=768, bias=False)\n",
            "        (c_proj): Linear(in_features=256, out_features=256, bias=False)\n",
            "      )\n",
            "      (ln2): LayerNorm((256,), eps=1e-05, elementwise_affine=True)\n",
            "      (mlp): FeedForward(\n",
            "        (up_proj): Linear(in_features=256, out_features=1024, bias=False)\n",
            "        (down_proj): Linear(in_features=1024, out_features=256, bias=False)\n",
            "      )\n",
            "    )\n",
            "  )\n",
            "  (lnf): LayerNorm((256,), eps=1e-05, elementwise_affine=True)\n",
            "  (lm_head): Linear(in_features=256, out_features=10000, bias=False)\n",
            ")\n"
          ]
        }
      ]
    },
    {
      "cell_type": "code",
      "source": [
        "# Embedding layers\n",
        "wte_params = num_trainable_params(model.wte)  # Word Token Embedding\n",
        "wpe_params = num_trainable_params(model.wpe)  # Position Embedding\n",
        "\n",
        "# Optional: Classifier head\n",
        "lm_head_params = num_trainable_params(model.lm_head)\n",
        "\n",
        "# Total trainable parameters without weight tying\n",
        "total_params_without_tying = num_trainable_params(model)\n",
        "\n",
        "# Total trainable parameters with weight tying\n",
        "total_params_with_tying = total_params_without_tying - wte_params\n",
        "\n",
        "# Core model params (excluding embeddings and head)\n",
        "core_params = total_params_without_tying - wte_params - wpe_params - lm_head_params\n",
        "\n",
        "# Print results\n",
        "print(f\"🔹 Total trainable parameters without weight tying: {total_params_without_tying:,}\")\n",
        "print(f\"🔹 Total trainable parameters with weight tying: {total_params_with_tying:,}\")\n",
        "print(f\"🔹 Embedding parameters (WTE + WPE): {wte_params + wpe_params:,}\")\n",
        "print(f\"🔹  └─ WTE: {wte_params:,}\")\n",
        "print(f\"🔹  └─ WPE: {wpe_params:,}\")\n",
        "print(f\"🔹 Classifier head parameters: {lm_head_params:,}\")\n",
        "print(f\"🔹 Transformer core (excluding embeddings & head): {core_params:,}\")"
      ],
      "metadata": {
        "id": "izewr1KHcYRY",
        "colab": {
          "base_uri": "https://localhost:8080/"
        },
        "outputId": "a69566c7-d165-4346-ada0-0cc260b3a75b"
      },
      "execution_count": null,
      "outputs": [
        {
          "output_type": "stream",
          "name": "stdout",
          "text": [
            "🔹 Total trainable parameters without weight tying: 5.775872\n",
            "🔹 Total trainable parameters with weight tying: 3.2158719999999996\n",
            "🔹 Embedding parameters (WTE + WPE): 2.625536\n",
            "🔹  └─ WTE: 2.56\n",
            "🔹  └─ WPE: 0.065536\n",
            "🔹 Classifier head parameters: 2.56\n",
            "🔹 Transformer core (excluding embeddings & head): 0.5903359999999997\n"
          ]
        }
      ]
    },
    {
      "cell_type": "markdown",
      "source": [
        "#Usage"
      ],
      "metadata": {
        "id": "zOvBHftAcdAh"
      }
    },
    {
      "cell_type": "code",
      "source": [
        "x_batch.shape, y_batch.shape"
      ],
      "metadata": {
        "id": "l5eJ40CucaEA",
        "colab": {
          "base_uri": "https://localhost:8080/"
        },
        "outputId": "c8cc3d45-1dac-476b-ec3f-831d9214e347"
      },
      "execution_count": null,
      "outputs": [
        {
          "output_type": "execute_result",
          "data": {
            "text/plain": [
              "(torch.Size([64, 128]), torch.Size([64, 128]))"
            ]
          },
          "metadata": {},
          "execution_count": 78
        }
      ]
    },
    {
      "cell_type": "code",
      "source": [
        "model"
      ],
      "metadata": {
        "id": "YXwtgL8McgY3",
        "colab": {
          "base_uri": "https://localhost:8080/"
        },
        "outputId": "31d3c257-dcbe-40d2-e12f-d0b63696f839"
      },
      "execution_count": null,
      "outputs": [
        {
          "output_type": "execute_result",
          "data": {
            "text/plain": [
              "GPT(\n",
              "  (wte): Embedding(10000, 256)\n",
              "  (wpe): Embedding(256, 256)\n",
              "  (decoders): ModuleList(\n",
              "    (0-3): 4 x DecoderBlock(\n",
              "      (ln1): LayerNorm((256,), eps=1e-05, elementwise_affine=True)\n",
              "      (mha): MultiHeadAttention(\n",
              "        (qkv_proj): Linear(in_features=256, out_features=768, bias=False)\n",
              "        (c_proj): Linear(in_features=256, out_features=256, bias=False)\n",
              "      )\n",
              "      (ln2): LayerNorm((256,), eps=1e-05, elementwise_affine=True)\n",
              "      (mlp): FeedForward(\n",
              "        (up_proj): Linear(in_features=256, out_features=1024, bias=False)\n",
              "        (down_proj): Linear(in_features=1024, out_features=256, bias=False)\n",
              "      )\n",
              "    )\n",
              "  )\n",
              "  (lnf): LayerNorm((256,), eps=1e-05, elementwise_affine=True)\n",
              "  (lm_head): Linear(in_features=256, out_features=10000, bias=False)\n",
              ")"
            ]
          },
          "metadata": {},
          "execution_count": 79
        }
      ]
    },
    {
      "cell_type": "markdown",
      "source": [
        "#Train"
      ],
      "metadata": {
        "id": "KafTJRXvcjjQ"
      }
    },
    {
      "cell_type": "code",
      "source": [
        "# step 1: x_batch -> model\n",
        "logits = model(x_batch.to(device))\n",
        "print(logits.shape)\n",
        "print(logits[0, 0])\n",
        "logits[0, 0].softmax(dim=0)"
      ],
      "metadata": {
        "id": "tBJwohnrcmmH",
        "colab": {
          "base_uri": "https://localhost:8080/"
        },
        "outputId": "1526b54f-0a07-4ca2-f8db-5e13af0f776b"
      },
      "execution_count": null,
      "outputs": [
        {
          "output_type": "stream",
          "name": "stdout",
          "text": [
            "torch.Size([64, 128, 10000])\n",
            "tensor([ 0.1908, -0.0468, -0.3194,  ..., -0.3005,  0.0728, -0.4431],\n",
            "       device='cuda:0', grad_fn=<SelectBackward0>)\n"
          ]
        },
        {
          "output_type": "execute_result",
          "data": {
            "text/plain": [
              "tensor([1.1497e-04, 9.0663e-05, 6.9028e-05,  ..., 7.0343e-05, 1.0218e-04,\n",
              "        6.0994e-05], device='cuda:0', grad_fn=<SoftmaxBackward0>)"
            ]
          },
          "metadata": {},
          "execution_count": 80
        }
      ]
    },
    {
      "cell_type": "code",
      "source": [
        "# step 2: (logits, y_batch) -> loss (cross entropy)\n",
        "\n",
        "print(logits.view(-1, logits.shape[-1]).shape)\n",
        "print(y_batch.flatten().shape, y_batch.dtype)\n",
        "\n",
        "loss = F.cross_entropy(logits.view(-1, logits.shape[-1]), y_batch.flatten().to(device).long())\n",
        "loss"
      ],
      "metadata": {
        "id": "RHyBX7qmco1v",
        "colab": {
          "base_uri": "https://localhost:8080/"
        },
        "outputId": "4fbf1ad6-9710-4393-ae7a-dfdc8311019b"
      },
      "execution_count": null,
      "outputs": [
        {
          "output_type": "stream",
          "name": "stdout",
          "text": [
            "torch.Size([8192, 10000])\n",
            "torch.Size([8192]) torch.int32\n"
          ]
        },
        {
          "output_type": "execute_result",
          "data": {
            "text/plain": [
              "tensor(9.2742, device='cuda:0', grad_fn=<NllLossBackward0>)"
            ]
          },
          "metadata": {},
          "execution_count": 81
        }
      ]
    },
    {
      "cell_type": "code",
      "source": [
        "# step 3: backward\n",
        "\n",
        "loss.backward()\n",
        "\n",
        "model.decoders[0].mha.qkv_proj.weight.grad"
      ],
      "metadata": {
        "id": "g7KcdPKBctpM",
        "colab": {
          "base_uri": "https://localhost:8080/"
        },
        "outputId": "12063d2c-cf7d-4b19-8aa3-90e5987b5c20"
      },
      "execution_count": null,
      "outputs": [
        {
          "output_type": "execute_result",
          "data": {
            "text/plain": [
              "tensor([[ 1.5410e-05,  5.0778e-05, -4.1818e-05,  ...,  3.1348e-05,\n",
              "          2.8286e-05, -7.2319e-06],\n",
              "        [ 2.1461e-05, -2.2808e-05, -4.2704e-05,  ..., -3.4430e-06,\n",
              "          2.8366e-05, -1.4507e-05],\n",
              "        [ 4.7177e-05, -3.2755e-05, -8.0060e-05,  ..., -5.0332e-05,\n",
              "         -6.4309e-05, -7.1082e-05],\n",
              "        ...,\n",
              "        [ 5.9384e-03,  1.7497e-03,  1.8169e-03,  ...,  9.2362e-05,\n",
              "         -3.7535e-04, -5.4113e-03],\n",
              "        [ 1.7417e-03,  3.0255e-04, -1.2653e-04,  ...,  2.2605e-04,\n",
              "         -4.1343e-04, -1.1464e-03],\n",
              "        [ 3.9025e-03, -1.7004e-05, -1.2587e-03,  ...,  3.3146e-05,\n",
              "         -6.5312e-05, -1.6551e-03]], device='cuda:0')"
            ]
          },
          "metadata": {},
          "execution_count": 82
        }
      ]
    },
    {
      "cell_type": "code",
      "source": [
        "# step 4: optimizer\n",
        "\n",
        "optimizer = torch.optim.AdamW(model.parameters(), lr=1e-3)\n",
        "optimizer.step()\n",
        "optimizer.zero_grad()\n",
        "\n",
        "model.decoders[0].mha.qkv_proj.weight.grad"
      ],
      "metadata": {
        "id": "Jm9oT1czcv7j"
      },
      "execution_count": null,
      "outputs": []
    },
    {
      "cell_type": "code",
      "source": [
        "logits = model(x_batch.to(device))\n",
        "loss = F.cross_entropy(logits.view(-1, logits.shape[-1]), y_batch.flatten().to(device).long())\n",
        "loss"
      ],
      "metadata": {
        "id": "P5o4O3H3cxki",
        "colab": {
          "base_uri": "https://localhost:8080/"
        },
        "outputId": "cc36a832-f71e-45b9-c098-114b41be5881"
      },
      "execution_count": null,
      "outputs": [
        {
          "output_type": "execute_result",
          "data": {
            "text/plain": [
              "tensor(8.4908, device='cuda:0', grad_fn=<NllLossBackward0>)"
            ]
          },
          "metadata": {},
          "execution_count": 84
        }
      ]
    },
    {
      "cell_type": "code",
      "source": [
        "model.train()\n",
        "\n",
        "for iter, (x_batch, y_batch) in enumerate(train_loader):\n",
        "    logits = model(x_batch.to(device))\n",
        "    loss = F.cross_entropy(logits.view(-1, logits.shape[-1]), y_batch.flatten().to(device).long())\n",
        "    print(loss.item())\n",
        "    loss.backward()\n",
        "    optimizer.step()\n",
        "    optimizer.zero_grad()\n",
        "    if iter > 100:\n",
        "        break"
      ],
      "metadata": {
        "id": "P42ek8YJczv3",
        "colab": {
          "base_uri": "https://localhost:8080/"
        },
        "outputId": "57ec74a0-537b-4aa9-e5f8-9464e98cceba"
      },
      "execution_count": null,
      "outputs": [
        {
          "output_type": "stream",
          "name": "stdout",
          "text": [
            "8.517683029174805\n",
            "8.139908790588379\n",
            "7.849605560302734\n",
            "7.5169219970703125\n",
            "10.487895965576172\n",
            "7.129917621612549\n",
            "6.992987632751465\n",
            "6.818479537963867\n",
            "6.622274398803711\n",
            "6.416828155517578\n",
            "6.219158172607422\n",
            "6.046417236328125\n",
            "5.924631118774414\n",
            "5.762980937957764\n",
            "5.619751930236816\n",
            "5.522843360900879\n",
            "5.366122245788574\n",
            "5.300415992736816\n",
            "5.274736404418945\n",
            "5.192660808563232\n",
            "5.141664028167725\n",
            "5.117974758148193\n",
            "5.070972442626953\n",
            "5.019931316375732\n",
            "5.005181789398193\n",
            "5.036502838134766\n",
            "5.029570579528809\n",
            "5.0469651222229\n",
            "5.018232345581055\n",
            "4.877676010131836\n",
            "4.888741493225098\n",
            "4.916604042053223\n",
            "4.866800308227539\n",
            "4.836513519287109\n",
            "4.850090026855469\n",
            "4.817359924316406\n",
            "4.7579803466796875\n",
            "4.7398881912231445\n",
            "4.767249584197998\n",
            "4.7290544509887695\n",
            "4.739428997039795\n",
            "4.683463096618652\n",
            "4.615574836730957\n",
            "4.623996734619141\n",
            "4.648846626281738\n",
            "4.647238731384277\n",
            "4.6348347663879395\n",
            "4.550325393676758\n",
            "4.573152542114258\n",
            "4.553989410400391\n",
            "4.511756896972656\n",
            "4.447278022766113\n",
            "4.455398082733154\n",
            "4.494048118591309\n",
            "4.491843223571777\n",
            "4.391084671020508\n",
            "4.431829452514648\n",
            "4.391046524047852\n",
            "4.32012939453125\n",
            "4.339087009429932\n",
            "4.361047267913818\n",
            "4.279510498046875\n",
            "4.270763397216797\n",
            "4.300427436828613\n",
            "4.275668621063232\n",
            "4.23015832901001\n",
            "4.233203887939453\n",
            "4.205631256103516\n",
            "4.244150161743164\n",
            "4.177385330200195\n",
            "4.187975883483887\n",
            "4.10253381729126\n",
            "4.146224021911621\n",
            "4.170301914215088\n",
            "4.121615886688232\n",
            "4.123086929321289\n",
            "4.046385765075684\n",
            "4.095742225646973\n",
            "4.088872909545898\n",
            "4.051229476928711\n",
            "4.059070587158203\n",
            "3.9953038692474365\n",
            "4.0029072761535645\n",
            "4.047163009643555\n",
            "3.9837002754211426\n",
            "3.9698407649993896\n",
            "4.064924716949463\n",
            "3.96881103515625\n",
            "3.9756298065185547\n",
            "4.027853965759277\n",
            "3.9307570457458496\n",
            "3.956652879714966\n",
            "3.9396681785583496\n",
            "3.967193603515625\n",
            "3.886587142944336\n",
            "3.8224451541900635\n",
            "3.8676743507385254\n",
            "3.880218505859375\n",
            "3.8332533836364746\n",
            "3.86963152885437\n",
            "3.8346269130706787\n",
            "3.7972874641418457\n"
          ]
        }
      ]
    },
    {
      "cell_type": "markdown",
      "source": [
        "#Loss"
      ],
      "metadata": {
        "id": "FTx5E5x8c4-N"
      }
    },
    {
      "cell_type": "code",
      "source": [
        "model = GPT(\n",
        "    GPTConfig(\n",
        "        seq_len=256, vocab_size=10_000, n_layer=4, n_embd=256, n_head=4\n",
        "        )).to(device)"
      ],
      "metadata": {
        "id": "3kn2PUySc57S"
      },
      "execution_count": null,
      "outputs": []
    },
    {
      "cell_type": "code",
      "source": [
        "logits = model(x_batch.to(device))"
      ],
      "metadata": {
        "id": "bo40hs1Cc8HI"
      },
      "execution_count": null,
      "outputs": []
    },
    {
      "cell_type": "code",
      "source": [
        "output = logits[0, 0]\n",
        "print(output.min(), output.max())\n",
        "\n",
        "scores = output.softmax(dim=0)\n",
        "print(scores.min(), scores.max()) # 1/10_000"
      ],
      "metadata": {
        "id": "QmWuXMrKc9hU",
        "colab": {
          "base_uri": "https://localhost:8080/"
        },
        "outputId": "7b6d8a25-586a-4a70-dda8-baab56e4d1f2"
      },
      "execution_count": null,
      "outputs": [
        {
          "output_type": "stream",
          "name": "stdout",
          "text": [
            "tensor(-1.1000, device='cuda:0', grad_fn=<MinBackward1>) tensor(1.4111, device='cuda:0', grad_fn=<MaxBackward1>)\n",
            "tensor(3.1514e-05, device='cuda:0', grad_fn=<MinBackward1>) tensor(0.0004, device='cuda:0', grad_fn=<MaxBackward1>)\n"
          ]
        }
      ]
    },
    {
      "cell_type": "code",
      "source": [
        "plt.hist(output.flatten()[:100_000].detach().cpu(), bins=50);"
      ],
      "metadata": {
        "id": "d59KF52Oc_U3",
        "colab": {
          "base_uri": "https://localhost:8080/",
          "height": 430
        },
        "outputId": "b7be952a-6d1e-4cba-c936-0c11ca298b90"
      },
      "execution_count": null,
      "outputs": [
        {
          "output_type": "display_data",
          "data": {
            "text/plain": [
              "<Figure size 640x480 with 1 Axes>"
            ],
            "image/png": "[encoded data removed]"
          },
          "metadata": {}
        }
      ]
    },
    {
      "cell_type": "code",
      "source": [
        "output = logits[0, 0]\n",
        "print(output.min(), output.max())\n",
        "\n",
        "scores = output.softmax(dim=0)\n",
        "print(scores.min(), scores.max()) # 1/10_000"
      ],
      "metadata": {
        "id": "5TRB3sUsdEFf",
        "colab": {
          "base_uri": "https://localhost:8080/"
        },
        "outputId": "ae8a13cf-1436-44ca-a444-1578a77ae5df"
      },
      "execution_count": null,
      "outputs": [
        {
          "output_type": "stream",
          "name": "stdout",
          "text": [
            "tensor(-1.1000, device='cuda:0', grad_fn=<MinBackward1>) tensor(1.4111, device='cuda:0', grad_fn=<MaxBackward1>)\n",
            "tensor(3.1514e-05, device='cuda:0', grad_fn=<MinBackward1>) tensor(0.0004, device='cuda:0', grad_fn=<MaxBackward1>)\n"
          ]
        }
      ]
    },
    {
      "cell_type": "code",
      "source": [
        "print(F.cross_entropy(output, y_batch[0, 0].to(device).long()))\n",
        "F.cross_entropy(logits.view(-1, logits.shape[-1]), y_batch.flatten().to(device).long())"
      ],
      "metadata": {
        "id": "qEXUlb1adGEC",
        "colab": {
          "base_uri": "https://localhost:8080/"
        },
        "outputId": "5b922220-459a-4e04-a78c-fd22b7a8b938"
      },
      "execution_count": null,
      "outputs": [
        {
          "output_type": "stream",
          "name": "stdout",
          "text": [
            "tensor(9.7177, device='cuda:0', grad_fn=<NllLossBackward0>)\n"
          ]
        },
        {
          "output_type": "execute_result",
          "data": {
            "text/plain": [
              "tensor(9.2816, device='cuda:0', grad_fn=<NllLossBackward0>)"
            ]
          },
          "metadata": {},
          "execution_count": 90
        }
      ]
    },
    {
      "cell_type": "markdown",
      "source": [
        "#Evaluate"
      ],
      "metadata": {
        "id": "04uixXTNdHQN"
      }
    },
    {
      "cell_type": "code",
      "source": [
        "model.eval()\n",
        "\n",
        "# with torch.no_grad():\n",
        "with torch.inference_mode():\n",
        "    for iter, (x_batch, y_batch) in enumerate(valid_loader):\n",
        "        logits = model(x_batch.to(device))\n",
        "        loss = F.cross_entropy(logits.view(-1, logits.shape[-1]), y_batch.flatten().to(device).long())\n",
        "        print(loss.item())\n",
        "        if iter > 10:\n",
        "            break"
      ],
      "metadata": {
        "id": "z9NqvWyZdJGs",
        "colab": {
          "base_uri": "https://localhost:8080/"
        },
        "outputId": "87b834eb-4518-4005-9853-852cfea76d71"
      },
      "execution_count": null,
      "outputs": [
        {
          "output_type": "stream",
          "name": "stdout",
          "text": [
            "9.281440734863281\n",
            "9.285577774047852\n",
            "9.276803016662598\n",
            "9.286075592041016\n",
            "9.27902889251709\n",
            "9.264440536499023\n",
            "9.269034385681152\n",
            "9.269050598144531\n",
            "9.282246589660645\n",
            "9.274201393127441\n",
            "9.276554107666016\n",
            "9.283934593200684\n"
          ]
        }
      ]
    },
    {
      "cell_type": "markdown",
      "source": [
        "#Generate"
      ],
      "metadata": {
        "id": "nca7pFkkdMqF"
      }
    },
    {
      "cell_type": "code",
      "source": [
        "optimizer = torch.optim.AdamW(model.parameters(), lr=1e-3)"
      ],
      "metadata": {
        "id": "asrZvJjwdLOt"
      },
      "execution_count": null,
      "outputs": []
    },
    {
      "cell_type": "code",
      "source": [
        "model.train()\n",
        "\n",
        "for iter, (x_batch, y_batch) in enumerate(train_loader):\n",
        "    logits = model(x_batch.to(device))\n",
        "    loss = F.cross_entropy(logits.view(-1, logits.shape[-1]), y_batch.flatten().to(device).long())\n",
        "    print(loss.item())\n",
        "    loss.backward()\n",
        "    optimizer.step()\n",
        "    optimizer.zero_grad()\n",
        "    if iter > 100:\n",
        "        break"
      ],
      "metadata": {
        "id": "UCSVnjlxdQBl",
        "colab": {
          "base_uri": "https://localhost:8080/"
        },
        "outputId": "9c861f18-d36b-47bf-f9e7-dac423ac582a"
      },
      "execution_count": null,
      "outputs": [
        {
          "output_type": "stream",
          "name": "stdout",
          "text": [
            "9.278118133544922\n",
            "8.597414016723633\n",
            "8.211289405822754\n",
            "7.890458106994629\n",
            "9.73544979095459\n",
            "7.5210957527160645\n",
            "7.385534286499023\n",
            "7.208658218383789\n",
            "6.996175765991211\n",
            "6.836503028869629\n",
            "6.665106773376465\n",
            "6.484945774078369\n",
            "6.299807071685791\n",
            "6.179881572723389\n",
            "6.035385608673096\n",
            "5.908625602722168\n",
            "5.788937091827393\n",
            "5.646618843078613\n",
            "5.581595420837402\n",
            "5.5015058517456055\n",
            "5.403515338897705\n",
            "5.385492324829102\n",
            "5.327288627624512\n",
            "5.281932830810547\n",
            "5.268215179443359\n",
            "5.236766815185547\n",
            "5.183429718017578\n",
            "5.209318161010742\n",
            "5.145173072814941\n",
            "5.182599067687988\n",
            "5.134286403656006\n",
            "5.1585211753845215\n",
            "5.123717308044434\n",
            "5.042187690734863\n",
            "5.086205005645752\n",
            "5.011716842651367\n",
            "5.059130668640137\n",
            "5.02794075012207\n",
            "5.020962238311768\n",
            "4.976663589477539\n",
            "4.996017932891846\n",
            "4.888437271118164\n",
            "5.045689582824707\n",
            "5.015349388122559\n",
            "4.957878112792969\n",
            "4.976004600524902\n",
            "4.977469444274902\n",
            "4.872124195098877\n",
            "4.893512725830078\n",
            "4.855453014373779\n",
            "4.876060962677002\n",
            "4.886102199554443\n",
            "4.838363170623779\n",
            "4.81147575378418\n",
            "4.783895015716553\n",
            "4.742787837982178\n",
            "4.74122953414917\n",
            "4.757212162017822\n",
            "4.735776901245117\n",
            "4.717888832092285\n",
            "4.631189346313477\n",
            "4.732548713684082\n",
            "4.697002410888672\n",
            "4.658640384674072\n",
            "4.648200035095215\n",
            "4.610466003417969\n",
            "4.599847793579102\n",
            "4.5340423583984375\n",
            "4.518665313720703\n",
            "4.6009111404418945\n",
            "4.4921674728393555\n",
            "4.478448867797852\n",
            "4.476678848266602\n",
            "4.457561492919922\n",
            "4.456508636474609\n",
            "4.421607971191406\n",
            "4.384077548980713\n",
            "4.345545291900635\n",
            "4.386226177215576\n",
            "4.4130682945251465\n",
            "4.391061782836914\n",
            "4.476766586303711\n",
            "4.4119977951049805\n",
            "4.460844039916992\n",
            "4.351678848266602\n",
            "4.292355060577393\n",
            "4.360365867614746\n",
            "4.289255142211914\n",
            "4.339625358581543\n",
            "4.301061630249023\n",
            "4.256598472595215\n",
            "4.220938682556152\n",
            "4.235755920410156\n",
            "4.181196212768555\n",
            "4.2946624755859375\n",
            "4.225796699523926\n",
            "4.2370123863220215\n",
            "4.209638595581055\n",
            "4.155269622802734\n",
            "4.156350135803223\n",
            "4.14268159866333\n",
            "4.087330341339111\n"
          ]
        }
      ]
    },
    {
      "cell_type": "code",
      "source": [
        "max_seq_len = 128\n",
        "\n",
        "prompt = 'In last night'\n",
        "tokens = tokenizer.encode(prompt).ids\n",
        "tokens = torch.tensor(tokens, dtype=torch.int, device=device).unsqueeze(0)\n",
        "print(tokens)\n",
        "\n",
        "model.eval()\n",
        "with torch.inference_mode():\n",
        "    for i in range(max_seq_len):\n",
        "        logits = model(tokens)\n",
        "        scores = logits[0, [-1]].softmax(dim=-1)\n",
        "        idx = scores.argmax(keepdims=True)\n",
        "        tokens = torch.cat((tokens, idx), dim=-1)\n",
        "\n",
        "tokenizer.decode(tokens[0].tolist())"
      ],
      "metadata": {
        "id": "5a--CLlqdUfb",
        "colab": {
          "base_uri": "https://localhost:8080/",
          "height": 70
        },
        "outputId": "0f7c4c96-a4bc-4496-e11c-13313552b559"
      },
      "execution_count": null,
      "outputs": [
        {
          "output_type": "stream",
          "name": "stdout",
          "text": [
            "tensor([[   1,   32,   17, 1048,  398]], device='cuda:0', dtype=torch.int32)\n"
          ]
        },
        {
          "output_type": "execute_result",
          "data": {
            "text/plain": [
              "'In last night.\\n\\n\\n\\n\\n\\n\\n\\n\\n\\n\\n\\n\\n\\n\\n\\n\\n\\n\\n\\n\\n\\n\\n\\n\\n\\n\\n\\n\\n\\n\\n\\n\\n\\n\\n\\n\\n\\n\\n\\n\\n\\n\\n\\n\\n\\n\\n\\n\\n\\n\\n\\n\\n\\n\\n\\n\\n\\n\\n\\n\\n\\n\\n\\n\\n\\n\\n\\n\\n\\n\\n\\n\\n\\n\\n\\n\\n\\n\\n\\n\\n\\n\\n\\n\\n\\n\\n\\n\\n\\n\\n\\n\\n\\n\\n\\n\\n\\n\\n\\n\\n\\n\\n\\n\\n\\n\\n\\n\\n\\n\\n\\n\\n\\n\\n\\n\\n\\n\\n\\n\\n\\n\\n\\n\\n\\n\\n'"
            ],
            "application/vnd.google.colaboratory.intrinsic+json": {
              "type": "string"
            }
          },
          "metadata": {},
          "execution_count": 94
        }
      ]
    },
    {
      "cell_type": "code",
      "source": [
        "max_new_tokens = 50\n",
        "# eos_token_id is available in HuggingFace\n",
        "eos_id = getattr(tokenizer, \"eos_token_id\", None)\n",
        "prompt = \"Last night, \"\n",
        "\n",
        "ids = tokenizer.encode(prompt)                           # int\n",
        "tokens = torch.tensor(ids, dtype=torch.long, device=device).unsqueeze(0)  # (B,T)\n",
        "\n",
        "model.eval()\n",
        "with torch.inference_mode():\n",
        "    for _ in range(max_new_tokens):\n",
        "        outputs = model(tokens)                          # logits = model(tokens)\n",
        "        logits = outputs.logits if hasattr(outputs, \"logits\") else outputs[0]\n",
        "        next_token_logits = logits[:, -1, :]             #(B,V): just last step\n",
        "\n",
        "        probs  = torch.softmax(next_token_logits, dim=-1)\n",
        "        next_id = torch.argmax(probs, dim=-1, keepdim=True)  # (B,1)\n",
        "\n",
        "        tokens  = torch.cat([tokens, next_id], dim=-1)       # (B,T+1)\n",
        "        if eos_id is not None and (next_id == eos_id).all():\n",
        "            break\n",
        "\n",
        "text = tokenizer.decode(tokens[0].tolist(), skip_special_tokens=True)\n",
        "print(text)\n"
      ],
      "metadata": {
        "colab": {
          "base_uri": "https://localhost:8080/"
        },
        "id": "dvEJ_Ir_PyL8",
        "outputId": "18cce779-022e-4bc5-e621-a812a659376a"
      },
      "execution_count": null,
      "outputs": [
        {
          "output_type": "stream",
          "name": "stdout",
          "text": [
            "Last night,  I was in the middle of a long day of work, and I was sitting in the middle of the street, and I was thinking about the future of the city. I was thinking about the future of the city. I was thinking about the\n"
          ]
        }
      ]
    },
    {
      "cell_type": "code",
      "source": [
        "max_new_tokens = 50\n",
        "eos_id = getattr(tokenizer, \"eos_token_id\", None)\n",
        "prompt = \"Last night, \"\n",
        "\n",
        "ids = tokenizer.encode(prompt)\n",
        "tokens = torch.tensor(ids, dtype=torch.long, device=device).unsqueeze(0)\n",
        "\n",
        "model.eval()\n",
        "with torch.inference_mode():\n",
        "    outputs = model(tokens)\n",
        "    past = getattr(outputs, \"past_key_values\", None)\n",
        "    generated = tokens\n",
        "\n",
        "    for _ in range(max_new_tokens):\n",
        "        logits = outputs.logits\n",
        "        next_token_logits = logits[:, -1, :]\n",
        "\n",
        "        probs = torch.softmax(next_token_logits, dim=-1)\n",
        "        next_id = torch.argmax(probs, dim=-1, keepdim=True)   # (B,1)\n",
        "\n",
        "        generated = torch.cat([generated, next_id], dim=-1)\n",
        "\n",
        "        if eos_id is not None and (next_id == eos_id).all():\n",
        "            break\n",
        "\n",
        "        # + past: just give the last one to the model\n",
        "        outputs = model(input_ids=next_id, past_key_values=past)\n",
        "        past = getattr(outputs, \"past_key_values\", None)\n",
        "\n",
        "text = tokenizer.decode(generated[0].tolist(), skip_special_tokens=True)\n",
        "print(text)\n"
      ],
      "metadata": {
        "colab": {
          "base_uri": "https://localhost:8080/"
        },
        "id": "BwwXHCC_QF9f",
        "outputId": "5f6a3ae4-d532-4835-fe8d-34a7e41f44be"
      },
      "execution_count": null,
      "outputs": [
        {
          "output_type": "stream",
          "name": "stdout",
          "text": [
            "Last night,  I was in the middle of a long day of work, and I was sitting in the middle of the street, and I was thinking about the future of the city. I was thinking about the future of the city. I was thinking about the\n"
          ]
        }
      ]
    }
  ]
}